{
 "cells": [
  {
   "cell_type": "code",
   "execution_count": 1,
   "metadata": {},
   "outputs": [],
   "source": [
    "import pandas as pd\n",
    "import plotly.express as px\n",
    "\n",
    "df = pd.read_csv(\"./statsfinal.csv\")\n",
    "\n",
    "df['QTotal'] = df[\"Q-P1\"] + df[\"Q-P2\"] + df[\"Q-P3\"] + df[\"Q-P4\"]\n",
    "df['dt'] = pd.to_datetime(df['Date'], dayfirst=True, errors='coerce')\n",
    "\n"
   ]
  },
  {
   "cell_type": "code",
   "execution_count": 2,
   "metadata": {},
   "outputs": [],
   "source": [
    "\n",
    "from xhtml2pdf import pisa             # import python module\n",
    "\n",
    "# Utility function\n",
    "def convert_html_to_pdf(source_html, output_filename):\n",
    "    # open output file for writing (truncated binary)\n",
    "    result_file = open(output_filename, \"w+b\")\n",
    "\n",
    "    # convert HTML to PDF\n",
    "    pisa_status = pisa.CreatePDF(\n",
    "            source_html,                # the HTML to convert\n",
    "            dest=result_file)           # file handle to recieve result\n",
    "\n",
    "    # close output file\n",
    "    result_file.close()                 # close output file\n",
    "\n",
    "    # return True on success and False on errors\n",
    "    return pisa_status.err"
   ]
  },
  {
   "cell_type": "code",
   "execution_count": 7,
   "metadata": {},
   "outputs": [
    {
     "data": {
      "text/plain": [
       "0"
      ]
     },
     "execution_count": 7,
     "metadata": {},
     "output_type": "execute_result"
    }
   ],
   "source": [
    "import base64\n",
    "\n",
    "width = 600\n",
    "height = 400\n",
    "\n",
    "template = (''\n",
    "    '<img src=\"data:image/png;base64,{image}\">'\n",
    "    '{caption}'                              # Optional caption to include below the graph\n",
    "    '<br>'\n",
    "    '<hr>'\n",
    "'')\n",
    "\n",
    "fig = px.line(df, title='Total sales trend', x='Date', y='QTotal')\n",
    "\n",
    "figures = [fig]\n",
    "import os\n",
    "\n",
    "if not os.path.exists(\"images\"):\n",
    "    os.mkdir(\"images\")\n",
    "\n",
    "# Generate their images using `py.image.get`\n",
    "images = [base64.b64encode(figure.to_image(format=\"png\")).decode('utf-8') for figure in figures]\n",
    "\n",
    "report_html = ''\n",
    "for image in images:\n",
    "    _ = template\n",
    "    _ = _.format(image=image, caption='', width=width, height=height)\n",
    "    report_html += _\n",
    "\n",
    "# display(HTML(report_html))\n",
    "convert_html_to_pdf(report_html, 'report-2.pdf')"
   ]
  }
 ],
 "metadata": {
  "kernelspec": {
   "display_name": "base",
   "language": "python",
   "name": "python3"
  },
  "language_info": {
   "codemirror_mode": {
    "name": "ipython",
    "version": 3
   },
   "file_extension": ".py",
   "mimetype": "text/x-python",
   "name": "python",
   "nbconvert_exporter": "python",
   "pygments_lexer": "ipython3",
   "version": "3.9.13"
  },
  "orig_nbformat": 4,
  "vscode": {
   "interpreter": {
    "hash": "ad2bdc8ecc057115af97d19610ffacc2b4e99fae6737bb82f5d7fb13d2f2c186"
   }
  }
 },
 "nbformat": 4,
 "nbformat_minor": 2
}
