{
 "cells": [
  {
   "cell_type": "code",
   "execution_count": 86,
   "metadata": {},
   "outputs": [
    {
     "data": {
      "text/html": [
       "<div>\n",
       "<style scoped>\n",
       "    .dataframe tbody tr th:only-of-type {\n",
       "        vertical-align: middle;\n",
       "    }\n",
       "\n",
       "    .dataframe tbody tr th {\n",
       "        vertical-align: top;\n",
       "    }\n",
       "\n",
       "    .dataframe thead th {\n",
       "        text-align: right;\n",
       "    }\n",
       "</style>\n",
       "<table border=\"1\" class=\"dataframe\">\n",
       "  <thead>\n",
       "    <tr style=\"text-align: right;\">\n",
       "      <th></th>\n",
       "      <th>Model</th>\n",
       "      <th>Model name</th>\n",
       "      <th>Link</th>\n",
       "      <th>Price</th>\n",
       "      <th>Seller</th>\n",
       "      <th>Top Offer</th>\n",
       "      <th>In Stock</th>\n",
       "      <th>Source</th>\n",
       "      <th>Category</th>\n",
       "      <th>Rating</th>\n",
       "      <th>Number of reviews</th>\n",
       "      <th>rank</th>\n",
       "    </tr>\n",
       "  </thead>\n",
       "  <tbody>\n",
       "    <tr>\n",
       "      <th>0</th>\n",
       "      <td>1492834403</td>\n",
       "      <td>Зонт мужской Три Слона 8105 (910), 10 спиц, по...</td>\n",
       "      <td>https://market.yandex.ru/product--zont-muzhsko...</td>\n",
       "      <td>1890.0</td>\n",
       "      <td>Sumochkin</td>\n",
       "      <td>1</td>\n",
       "      <td>1</td>\n",
       "      <td>market.yandex</td>\n",
       "      <td>NaN</td>\n",
       "      <td>4.6</td>\n",
       "      <td>12.0</td>\n",
       "      <td>4.5</td>\n",
       "    </tr>\n",
       "    <tr>\n",
       "      <th>1</th>\n",
       "      <td>1665944136</td>\n",
       "      <td>Зонт Три слона большой семейный черный мужской...</td>\n",
       "      <td>https://market.yandex.ru/product--zont-tri-slo...</td>\n",
       "      <td>2199.0</td>\n",
       "      <td>Sumochkin</td>\n",
       "      <td>1</td>\n",
       "      <td>1</td>\n",
       "      <td>market.yandex</td>\n",
       "      <td>NaN</td>\n",
       "      <td>5.0</td>\n",
       "      <td>2.0</td>\n",
       "      <td>17.5</td>\n",
       "    </tr>\n",
       "    <tr>\n",
       "      <th>2</th>\n",
       "      <td>1451168149</td>\n",
       "      <td>Мужской зонтик Три слона M5600</td>\n",
       "      <td>https://market.yandex.ru/product--muzhskoi-zon...</td>\n",
       "      <td>1550.0</td>\n",
       "      <td>Зонты.ру</td>\n",
       "      <td>1</td>\n",
       "      <td>1</td>\n",
       "      <td>market.yandex</td>\n",
       "      <td>NaN</td>\n",
       "      <td>5.0</td>\n",
       "      <td>1.0</td>\n",
       "      <td>5.5</td>\n",
       "    </tr>\n",
       "    <tr>\n",
       "      <th>3</th>\n",
       "      <td>1811731265</td>\n",
       "      <td>Мужской зонт семейный Три слона, 123 см! полны...</td>\n",
       "      <td>https://market.yandex.ru/product--muzhskoi-zon...</td>\n",
       "      <td>3050.0</td>\n",
       "      <td>ZontyPskov.ru</td>\n",
       "      <td>1</td>\n",
       "      <td>1</td>\n",
       "      <td>market.yandex</td>\n",
       "      <td>NaN</td>\n",
       "      <td>0.0</td>\n",
       "      <td>0.0</td>\n",
       "      <td>48.5</td>\n",
       "    </tr>\n",
       "    <tr>\n",
       "      <th>4</th>\n",
       "      <td>1776309432</td>\n",
       "      <td>Зонт-трость полуавтомат Три слона 2160</td>\n",
       "      <td>https://market.yandex.ru/product--zont-trost-p...</td>\n",
       "      <td>2430.0</td>\n",
       "      <td>ZontyPskov.ru</td>\n",
       "      <td>1</td>\n",
       "      <td>1</td>\n",
       "      <td>market.yandex</td>\n",
       "      <td>NaN</td>\n",
       "      <td>4.9</td>\n",
       "      <td>12.0</td>\n",
       "      <td>22.0</td>\n",
       "    </tr>\n",
       "  </tbody>\n",
       "</table>\n",
       "</div>"
      ],
      "text/plain": [
       "        Model                                         Model name  \\\n",
       "0  1492834403  Зонт мужской Три Слона 8105 (910), 10 спиц, по...   \n",
       "1  1665944136  Зонт Три слона большой семейный черный мужской...   \n",
       "2  1451168149                     Мужской зонтик Три слона M5600   \n",
       "3  1811731265  Мужской зонт семейный Три слона, 123 см! полны...   \n",
       "4  1776309432             Зонт-трость полуавтомат Три слона 2160   \n",
       "\n",
       "                                                Link   Price         Seller  \\\n",
       "0  https://market.yandex.ru/product--zont-muzhsko...  1890.0      Sumochkin   \n",
       "1  https://market.yandex.ru/product--zont-tri-slo...  2199.0      Sumochkin   \n",
       "2  https://market.yandex.ru/product--muzhskoi-zon...  1550.0       Зонты.ру   \n",
       "3  https://market.yandex.ru/product--muzhskoi-zon...  3050.0  ZontyPskov.ru   \n",
       "4  https://market.yandex.ru/product--zont-trost-p...  2430.0  ZontyPskov.ru   \n",
       "\n",
       "   Top Offer  In Stock         Source Category  Rating  Number of reviews  \\\n",
       "0          1         1  market.yandex      NaN     4.6               12.0   \n",
       "1          1         1  market.yandex      NaN     5.0                2.0   \n",
       "2          1         1  market.yandex      NaN     5.0                1.0   \n",
       "3          1         1  market.yandex      NaN     0.0                0.0   \n",
       "4          1         1  market.yandex      NaN     4.9               12.0   \n",
       "\n",
       "   rank  \n",
       "0   4.5  \n",
       "1  17.5  \n",
       "2   5.5  \n",
       "3  48.5  \n",
       "4  22.0  "
      ]
     },
     "execution_count": 86,
     "metadata": {},
     "output_type": "execute_result"
    }
   ],
   "source": [
    "import pandas as pd\n",
    "import plotly.express as px\n",
    "\n",
    "df = pd.read_csv(\"./export02-03-2023.csv\", sep=\";\")\n",
    "\n",
    "df = df[df.Price < 10000]\n",
    "\n",
    "df[\"rank\"] = df.groupby(\"Seller\")[\"Price\"].rank()\n",
    "\n",
    "df.head()\n"
   ]
  },
  {
   "cell_type": "code",
   "execution_count": 87,
   "metadata": {},
   "outputs": [
    {
     "data": {
      "text/html": [
       "<div>\n",
       "<style scoped>\n",
       "    .dataframe tbody tr th:only-of-type {\n",
       "        vertical-align: middle;\n",
       "    }\n",
       "\n",
       "    .dataframe tbody tr th {\n",
       "        vertical-align: top;\n",
       "    }\n",
       "\n",
       "    .dataframe thead th {\n",
       "        text-align: right;\n",
       "    }\n",
       "</style>\n",
       "<table border=\"1\" class=\"dataframe\">\n",
       "  <thead>\n",
       "    <tr style=\"text-align: right;\">\n",
       "      <th></th>\n",
       "      <th>Source</th>\n",
       "      <th>Seller</th>\n",
       "      <th>pricegroup</th>\n",
       "      <th>Price</th>\n",
       "      <th>Top Offer</th>\n",
       "      <th>In Stock</th>\n",
       "      <th>Rating</th>\n",
       "      <th>Number of reviews</th>\n",
       "      <th>rank</th>\n",
       "      <th>count</th>\n",
       "    </tr>\n",
       "  </thead>\n",
       "  <tbody>\n",
       "    <tr>\n",
       "      <th>0</th>\n",
       "      <td>market.yandex</td>\n",
       "      <td>Baggins сумки и аксессуары</td>\n",
       "      <td>1400.0</td>\n",
       "      <td>1440.0</td>\n",
       "      <td>0</td>\n",
       "      <td>1</td>\n",
       "      <td>4.5</td>\n",
       "      <td>14.0</td>\n",
       "      <td>1.0</td>\n",
       "      <td>1</td>\n",
       "    </tr>\n",
       "    <tr>\n",
       "      <th>1</th>\n",
       "      <td>market.yandex</td>\n",
       "      <td>Baggins сумки и аксессуары</td>\n",
       "      <td>1900.0</td>\n",
       "      <td>3752.0</td>\n",
       "      <td>0</td>\n",
       "      <td>1</td>\n",
       "      <td>9.4</td>\n",
       "      <td>24.0</td>\n",
       "      <td>5.0</td>\n",
       "      <td>2</td>\n",
       "    </tr>\n",
       "    <tr>\n",
       "      <th>2</th>\n",
       "      <td>market.yandex</td>\n",
       "      <td>Baggins сумки и аксессуары</td>\n",
       "      <td>2000.0</td>\n",
       "      <td>3989.0</td>\n",
       "      <td>0</td>\n",
       "      <td>1</td>\n",
       "      <td>8.7</td>\n",
       "      <td>66.0</td>\n",
       "      <td>9.0</td>\n",
       "      <td>2</td>\n",
       "    </tr>\n",
       "    <tr>\n",
       "      <th>3</th>\n",
       "      <td>market.yandex</td>\n",
       "      <td>Baggins сумки и аксессуары</td>\n",
       "      <td>2100.0</td>\n",
       "      <td>6351.0</td>\n",
       "      <td>3</td>\n",
       "      <td>3</td>\n",
       "      <td>5.0</td>\n",
       "      <td>2.0</td>\n",
       "      <td>21.0</td>\n",
       "      <td>3</td>\n",
       "    </tr>\n",
       "    <tr>\n",
       "      <th>4</th>\n",
       "      <td>market.yandex</td>\n",
       "      <td>Baggins сумки и аксессуары</td>\n",
       "      <td>2300.0</td>\n",
       "      <td>2290.0</td>\n",
       "      <td>0</td>\n",
       "      <td>1</td>\n",
       "      <td>4.5</td>\n",
       "      <td>4.0</td>\n",
       "      <td>9.0</td>\n",
       "      <td>1</td>\n",
       "    </tr>\n",
       "  </tbody>\n",
       "</table>\n",
       "</div>"
      ],
      "text/plain": [
       "          Source                      Seller  pricegroup   Price  Top Offer  \\\n",
       "0  market.yandex  Baggins сумки и аксессуары      1400.0  1440.0          0   \n",
       "1  market.yandex  Baggins сумки и аксессуары      1900.0  3752.0          0   \n",
       "2  market.yandex  Baggins сумки и аксессуары      2000.0  3989.0          0   \n",
       "3  market.yandex  Baggins сумки и аксессуары      2100.0  6351.0          3   \n",
       "4  market.yandex  Baggins сумки и аксессуары      2300.0  2290.0          0   \n",
       "\n",
       "   In Stock  Rating  Number of reviews  rank  count  \n",
       "0         1     4.5               14.0   1.0      1  \n",
       "1         1     9.4               24.0   5.0      2  \n",
       "2         1     8.7               66.0   9.0      2  \n",
       "3         3     5.0                2.0  21.0      3  \n",
       "4         1     4.5                4.0   9.0      1  "
      ]
     },
     "execution_count": 87,
     "metadata": {},
     "output_type": "execute_result"
    }
   ],
   "source": [
    "df[\"pricegroup\"] = round(df[\"Price\"] / 100) * 100\n",
    "df[\"count\"] = 1\n",
    "\n",
    "dx = df.groupby([\"Source\", \"Seller\", \"pricegroup\"]).sum()\n",
    "\n",
    "dx.reset_index(inplace=True)\n",
    "\n",
    "dx.head()"
   ]
  },
  {
   "cell_type": "code",
   "execution_count": 88,
   "metadata": {},
   "outputs": [
    {
     "data": {
      "application/vnd.plotly.v1+json": {
       "config": {
        "plotlyServerURL": "https://plot.ly"
       },
       "data": [
        {
         "hovertemplate": "Seller=Sumochkin<br>rank=%{x}<br>Price=%{y}<extra></extra>",
         "legendgroup": "Sumochkin",
         "marker": {
          "color": "#636efa",
          "symbol": "circle"
         },
         "mode": "markers",
         "name": "Sumochkin",
         "orientation": "v",
         "showlegend": true,
         "type": "scatter",
         "x": [
          4.5,
          17.5,
          8,
          20,
          10.5,
          2,
          28,
          30,
          19,
          10.5,
          32,
          17.5,
          25,
          22,
          31,
          26,
          9,
          13,
          6,
          27,
          24,
          29,
          23,
          12,
          14,
          3,
          21,
          16,
          1,
          4.5,
          15,
          7
         ],
         "xaxis": "x",
         "y": [
          1890,
          2199,
          1930,
          2290,
          1999,
          1710,
          2500,
          2799,
          2200,
          1999,
          3199,
          2199,
          2459,
          2422,
          2880,
          2470,
          1994,
          2069,
          1920,
          2499,
          2450,
          2699,
          2425,
          2010,
          2116,
          1862,
          2379,
          2160,
          1530,
          1890,
          2150,
          1925
         ],
         "yaxis": "y"
        },
        {
         "hovertemplate": "Seller=Зонты.ру<br>rank=%{x}<br>Price=%{y}<extra></extra>",
         "legendgroup": "Зонты.ру",
         "marker": {
          "color": "#EF553B",
          "symbol": "circle"
         },
         "mode": "markers",
         "name": "Зонты.ру",
         "orientation": "v",
         "showlegend": true,
         "type": "scatter",
         "x": [
          5.5,
          26,
          24,
          17.5,
          24,
          17.5,
          2.5,
          13,
          21,
          17.5,
          13,
          13,
          24,
          17.5,
          8.5,
          8.5,
          2.5,
          8.5,
          21,
          8.5,
          13,
          13,
          21,
          2.5,
          5.5,
          2.5
         ],
         "xaxis": "x",
         "y": [
          1550,
          2480,
          2190,
          1890,
          2190,
          1890,
          1390,
          1790,
          1990,
          1890,
          1790,
          1790,
          2190,
          1890,
          1690,
          1690,
          1390,
          1690,
          1990,
          1690,
          1790,
          1790,
          1990,
          1390,
          1550,
          1390
         ],
         "yaxis": "y"
        },
        {
         "hovertemplate": "Seller=ZontyPskov.ru<br>rank=%{x}<br>Price=%{y}<extra></extra>",
         "legendgroup": "ZontyPskov.ru",
         "marker": {
          "color": "#00cc96",
          "symbol": "circle"
         },
         "mode": "markers",
         "name": "ZontyPskov.ru",
         "orientation": "v",
         "showlegend": true,
         "type": "scatter",
         "x": [
          48.5,
          22,
          48.5,
          34,
          68.5,
          68.5,
          61.5,
          42,
          65,
          53,
          42,
          65,
          65,
          19,
          34,
          53,
          34,
          8,
          42,
          42,
          68.5,
          53,
          68.5,
          61.5,
          17,
          10,
          34,
          4.5,
          17,
          27,
          53,
          23,
          57.5,
          42,
          48.5,
          42,
          57.5,
          57.5,
          25,
          42,
          4.5,
          34,
          48.5,
          34,
          57.5,
          42,
          14.5,
          53,
          10,
          27,
          14.5,
          27,
          6.5,
          6.5,
          21,
          17,
          13,
          29,
          3,
          20,
          34,
          42,
          61.5,
          30,
          2,
          1,
          61.5,
          12,
          10,
          24
         ],
         "xaxis": "x",
         "y": [
          3050,
          2430,
          3050,
          2950,
          3650,
          3650,
          3200,
          3000,
          3350,
          3100,
          3000,
          3350,
          3350,
          2350,
          2950,
          3100,
          2950,
          2100,
          3000,
          3000,
          3650,
          3100,
          3650,
          3200,
          2300,
          2150,
          2950,
          1950,
          2300,
          2650,
          3100,
          2500,
          3150,
          3000,
          3050,
          3000,
          3150,
          3150,
          2550,
          3000,
          1950,
          2950,
          3050,
          2950,
          3150,
          3000,
          2200,
          3100,
          2150,
          2650,
          2200,
          2650,
          1999,
          1999,
          2400,
          2300,
          2169,
          2655,
          1785,
          2399,
          2950,
          3000,
          3200,
          2850,
          1700,
          1600,
          3200,
          2159,
          2150,
          2519
         ],
         "yaxis": "y"
        },
        {
         "hovertemplate": "Seller=Baggins сумки и аксессуары<br>rank=%{x}<br>Price=%{y}<extra></extra>",
         "legendgroup": "Baggins сумки и аксессуары",
         "marker": {
          "color": "#ab63fa",
          "symbol": "circle"
         },
         "mode": "markers",
         "name": "Baggins сумки и аксессуары",
         "orientation": "v",
         "showlegend": true,
         "type": "scatter",
         "x": [
          7,
          7,
          7,
          10,
          9,
          4,
          2,
          5,
          1,
          3
         ],
         "xaxis": "x",
         "y": [
          2117,
          2117,
          2117,
          3222,
          2290,
          1990,
          1862,
          1999,
          1440,
          1890
         ],
         "yaxis": "y"
        },
        {
         "hovertemplate": "Seller=Бизнес-аккаунт ТРИ СЛОНА, японские зонты<br>rank=%{x}<br>Price=%{y}<extra></extra>",
         "legendgroup": "Бизнес-аккаунт ТРИ СЛОНА, японские зонты",
         "marker": {
          "color": "#FFA15A",
          "symbol": "circle"
         },
         "mode": "markers",
         "name": "Бизнес-аккаунт ТРИ СЛОНА, японские зонты",
         "orientation": "v",
         "showlegend": true,
         "type": "scatter",
         "x": [
          31,
          14,
          50,
          51.5,
          5.5,
          54.5,
          46.5,
          61.5,
          31,
          61.5,
          19,
          14,
          46.5,
          3.5,
          31,
          31,
          42.5,
          19,
          31,
          42.5,
          57.5,
          19,
          31,
          10.5,
          54.5,
          14,
          31,
          61.5,
          41,
          9,
          7,
          31,
          3.5,
          31,
          51.5,
          8,
          14,
          31,
          14,
          19,
          2,
          59,
          54.5,
          54.5,
          31,
          31,
          31,
          31,
          19,
          46.5,
          61.5,
          46.5,
          31,
          31,
          31,
          46.5,
          31,
          57.5,
          10.5,
          46.5,
          1,
          31,
          5.5
         ],
         "xaxis": "x",
         "y": [
          2580,
          2460,
          2880,
          2940,
          1920,
          3000,
          2760,
          3600,
          2580,
          3600,
          2520,
          2460,
          2760,
          1860,
          2580,
          2580,
          2700,
          2520,
          2580,
          2700,
          3180,
          2520,
          2580,
          2280,
          3000,
          2460,
          2580,
          3600,
          2640,
          2100,
          1980,
          2580,
          1860,
          2580,
          2940,
          1990,
          2460,
          2580,
          2460,
          2520,
          1740,
          3240,
          3000,
          3000,
          2580,
          2580,
          2580,
          2580,
          2520,
          2760,
          3600,
          2760,
          2580,
          2580,
          2580,
          2760,
          2580,
          3180,
          2280,
          2760,
          1320,
          2580,
          1920
         ],
         "yaxis": "y"
        },
        {
         "hovertemplate": "Seller=Магия гуталина<br>rank=%{x}<br>Price=%{y}<extra></extra>",
         "legendgroup": "Магия гуталина",
         "marker": {
          "color": "#19d3f3",
          "symbol": "circle"
         },
         "mode": "markers",
         "name": "Магия гуталина",
         "orientation": "v",
         "showlegend": true,
         "type": "scatter",
         "x": [
          4,
          11,
          13,
          6,
          2,
          10,
          5,
          3,
          1,
          13,
          7,
          8.5,
          8.5,
          13
         ],
         "xaxis": "x",
         "y": [
          1920,
          2400,
          2560,
          1960,
          1600,
          2260,
          1925,
          1760,
          1570,
          2560,
          2160,
          2200,
          2200,
          2560
         ],
         "yaxis": "y"
        },
        {
         "hovertemplate": "Seller=S5Z.RU<br>rank=%{x}<br>Price=%{y}<extra></extra>",
         "legendgroup": "S5Z.RU",
         "marker": {
          "color": "#FF6692",
          "symbol": "circle"
         },
         "mode": "markers",
         "name": "S5Z.RU",
         "orientation": "v",
         "showlegend": true,
         "type": "scatter",
         "x": [
          6,
          16,
          22,
          9,
          12.5,
          1,
          19.5,
          3,
          19.5,
          12.5,
          14,
          10.5,
          8,
          7,
          19.5,
          19.5,
          3,
          16,
          10.5,
          3,
          5,
          16
         ],
         "xaxis": "x",
         "y": [
          2050,
          2500,
          2800,
          2160,
          2250,
          1530,
          2600,
          1800,
          2600,
          2250,
          2450,
          2200,
          2150,
          2100,
          2600,
          2600,
          1800,
          2500,
          2200,
          1800,
          1850,
          2500
         ],
         "yaxis": "y"
        },
        {
         "hovertemplate": "Seller=KODmart.ru<br>rank=%{x}<br>Price=%{y}<extra></extra>",
         "legendgroup": "KODmart.ru",
         "marker": {
          "color": "#B6E880",
          "symbol": "circle"
         },
         "mode": "markers",
         "name": "KODmart.ru",
         "orientation": "v",
         "showlegend": true,
         "type": "scatter",
         "x": [
          2,
          3,
          5,
          4,
          8,
          1,
          7,
          6
         ],
         "xaxis": "x",
         "y": [
          1799,
          1880,
          1979,
          1890,
          2600,
          1499,
          2379,
          1999
         ],
         "yaxis": "y"
        },
        {
         "hovertemplate": "Seller=Bamika mix store<br>rank=%{x}<br>Price=%{y}<extra></extra>",
         "legendgroup": "Bamika mix store",
         "marker": {
          "color": "#FF97FF",
          "symbol": "circle"
         },
         "mode": "markers",
         "name": "Bamika mix store",
         "orientation": "v",
         "showlegend": true,
         "type": "scatter",
         "x": [
          2,
          1,
          3
         ],
         "xaxis": "x",
         "y": [
          1140,
          910,
          1390
         ],
         "yaxis": "y"
        },
        {
         "hovertemplate": "Seller=EGEGEI.RU<br>rank=%{x}<br>Price=%{y}<extra></extra>",
         "legendgroup": "EGEGEI.RU",
         "marker": {
          "color": "#FECB52",
          "symbol": "circle"
         },
         "mode": "markers",
         "name": "EGEGEI.RU",
         "orientation": "v",
         "showlegend": true,
         "type": "scatter",
         "x": [
          7.5,
          12,
          6,
          5,
          1,
          3,
          7.5,
          10,
          9,
          11,
          2,
          4
         ],
         "xaxis": "x",
         "y": [
          1699,
          1938,
          1589,
          1429,
          1293,
          1351,
          1699,
          1730,
          1714,
          1842,
          1337,
          1413
         ],
         "yaxis": "y"
        },
        {
         "hovertemplate": "Seller=Зонт мужской Три Слона 8105 (910), 10 спиц, полный автомат<br>rank=%{x}<br>Price=%{y}<extra></extra>",
         "legendgroup": "Зонт мужской Три Слона 8105 (910), 10 спиц, полный автомат",
         "marker": {
          "color": "#636efa",
          "symbol": "circle"
         },
         "mode": "markers",
         "name": "Зонт мужской Три Слона 8105 (910), 10 спиц, полный автомат",
         "orientation": "v",
         "showlegend": true,
         "type": "scatter",
         "x": [
          1
         ],
         "xaxis": "x",
         "y": [
          1890
         ],
         "yaxis": "y"
        },
        {
         "hovertemplate": "Seller=Goodsales<br>rank=%{x}<br>Price=%{y}<extra></extra>",
         "legendgroup": "Goodsales",
         "marker": {
          "color": "#EF553B",
          "symbol": "circle"
         },
         "mode": "markers",
         "name": "Goodsales",
         "orientation": "v",
         "showlegend": true,
         "type": "scatter",
         "x": [
          5,
          4,
          1,
          3,
          2
         ],
         "xaxis": "x",
         "y": [
          2318,
          1950,
          1560,
          1930,
          1601
         ],
         "yaxis": "y"
        },
        {
         "hovertemplate": "Seller=Ellinashop.ru<br>rank=%{x}<br>Price=%{y}<extra></extra>",
         "legendgroup": "Ellinashop.ru",
         "marker": {
          "color": "#00cc96",
          "symbol": "circle"
         },
         "mode": "markers",
         "name": "Ellinashop.ru",
         "orientation": "v",
         "showlegend": true,
         "type": "scatter",
         "x": [
          1,
          2
         ],
         "xaxis": "x",
         "y": [
          2110,
          2390
         ],
         "yaxis": "y"
        },
        {
         "hovertemplate": "Seller=Шарпей<br>rank=%{x}<br>Price=%{y}<extra></extra>",
         "legendgroup": "Шарпей",
         "marker": {
          "color": "#ab63fa",
          "symbol": "circle"
         },
         "mode": "markers",
         "name": "Шарпей",
         "orientation": "v",
         "showlegend": true,
         "type": "scatter",
         "x": [
          1
         ],
         "xaxis": "x",
         "y": [
          2950
         ],
         "yaxis": "y"
        },
        {
         "hovertemplate": "Seller=Буржуй<br>rank=%{x}<br>Price=%{y}<extra></extra>",
         "legendgroup": "Буржуй",
         "marker": {
          "color": "#FFA15A",
          "symbol": "circle"
         },
         "mode": "markers",
         "name": "Буржуй",
         "orientation": "v",
         "showlegend": true,
         "type": "scatter",
         "x": [
          2,
          1,
          3
         ],
         "xaxis": "x",
         "y": [
          2160,
          1600,
          2360
         ],
         "yaxis": "y"
        },
        {
         "hovertemplate": "Seller=Уют в Каждый Дом<br>rank=%{x}<br>Price=%{y}<extra></extra>",
         "legendgroup": "Уют в Каждый Дом",
         "marker": {
          "color": "#19d3f3",
          "symbol": "circle"
         },
         "mode": "markers",
         "name": "Уют в Каждый Дом",
         "orientation": "v",
         "showlegend": true,
         "type": "scatter",
         "x": [
          1
         ],
         "xaxis": "x",
         "y": [
          1161
         ],
         "yaxis": "y"
        },
        {
         "hovertemplate": "Seller=ГольфСтрим<br>rank=%{x}<br>Price=%{y}<extra></extra>",
         "legendgroup": "ГольфСтрим",
         "marker": {
          "color": "#FF6692",
          "symbol": "circle"
         },
         "mode": "markers",
         "name": "ГольфСтрим",
         "orientation": "v",
         "showlegend": true,
         "type": "scatter",
         "x": [
          1
         ],
         "xaxis": "x",
         "y": [
          1100
         ],
         "yaxis": "y"
        },
        {
         "hovertemplate": "Seller=Три Слона<br>rank=%{x}<br>Price=%{y}<extra></extra>",
         "legendgroup": "Три Слона",
         "marker": {
          "color": "#B6E880",
          "symbol": "circle"
         },
         "mode": "markers",
         "name": "Три Слона",
         "orientation": "v",
         "showlegend": true,
         "type": "scatter",
         "x": [
          89.5,
          58.5,
          79.5,
          79.5,
          66.5,
          7,
          58.5,
          50.5,
          40,
          8,
          66.5,
          58.5,
          71,
          103,
          23,
          96,
          96,
          28,
          40,
          79.5,
          79.5,
          58.5,
          40,
          1.5,
          40,
          17.5,
          17.5,
          28,
          40,
          40,
          79.5,
          5,
          79.5,
          40,
          50.5,
          50.5,
          58.5,
          50.5,
          66.5,
          101,
          101,
          66.5,
          58.5,
          58.5,
          58.5,
          71,
          79.5,
          40,
          58.5,
          104,
          17.5,
          17.5,
          17.5,
          40,
          79.5,
          89.5,
          3,
          40,
          101,
          1.5,
          40,
          17.5,
          40,
          17.5,
          40,
          28,
          28,
          10,
          10,
          66.5,
          40,
          50.5,
          79.5,
          89.5,
          89.5,
          89.5,
          66.5,
          5,
          50.5,
          17.5,
          28,
          28,
          28,
          12,
          10,
          5,
          79.5,
          89.5,
          96,
          96,
          28,
          17.5,
          79.5,
          106,
          28,
          96,
          79.5,
          96,
          106,
          106,
          79.5,
          58.5,
          79.5,
          40,
          71,
          17.5,
          96
         ],
         "xaxis": "x",
         "y": [
          3599,
          3199,
          3499,
          3499,
          3299,
          2099,
          3199,
          3099,
          2999,
          2199,
          3299,
          3199,
          3399,
          4099,
          2799,
          3699,
          3699,
          2899,
          2999,
          3499,
          3499,
          3199,
          2999,
          1749,
          2999,
          2699,
          2699,
          2899,
          2999,
          2999,
          3499,
          1999,
          3499,
          2999,
          3099,
          3099,
          3199,
          3099,
          3299,
          3799,
          3799,
          3299,
          3199,
          3199,
          3199,
          3399,
          3499,
          2999,
          3199,
          4299,
          2699,
          2699,
          2699,
          2999,
          3499,
          3599,
          1899,
          2999,
          3799,
          1749,
          2999,
          2699,
          2999,
          2699,
          2999,
          2899,
          2899,
          2299,
          2299,
          3299,
          2999,
          3099,
          3499,
          3599,
          3599,
          3599,
          3299,
          1999,
          3099,
          2699,
          2899,
          2899,
          2899,
          2499,
          2299,
          1999,
          3499,
          3599,
          3699,
          3699,
          2899,
          2699,
          3499,
          4399,
          2899,
          3699,
          3499,
          3699,
          4399,
          4399,
          3499,
          3199,
          3499,
          2999,
          3399,
          2699,
          3699
         ],
         "yaxis": "y"
        },
        {
         "hovertemplate": "Seller=zont-msk.ru<br>rank=%{x}<br>Price=%{y}<extra></extra>",
         "legendgroup": "zont-msk.ru",
         "marker": {
          "color": "#FF97FF",
          "symbol": "circle"
         },
         "mode": "markers",
         "name": "zont-msk.ru",
         "orientation": "v",
         "showlegend": true,
         "type": "scatter",
         "x": [
          18,
          2,
          13.5,
          13.5,
          4,
          3,
          21,
          17,
          37,
          36,
          35,
          1,
          33,
          23.5,
          33,
          26.5,
          30,
          6,
          6,
          6,
          29,
          21,
          23.5,
          33,
          26.5,
          26.5,
          26.5,
          13.5,
          21,
          31,
          11,
          13.5,
          19,
          9,
          10,
          16,
          8
         ],
         "xaxis": "x",
         "y": [
          2450,
          2150,
          2390,
          2390,
          2290,
          2170,
          2500,
          2420,
          3400,
          3100,
          3090,
          1950,
          3010,
          2600,
          3010,
          2650,
          2750,
          2300,
          2300,
          2300,
          2700,
          2500,
          2600,
          3010,
          2650,
          2650,
          2650,
          2390,
          2500,
          2900,
          2370,
          2390,
          2490,
          2350,
          2360,
          2400,
          2340
         ],
         "yaxis": "y"
        },
        {
         "hovertemplate": "Seller=ТC \"Дилижанс\"<br>rank=%{x}<br>Price=%{y}<extra></extra>",
         "legendgroup": "ТC \"Дилижанс\"",
         "marker": {
          "color": "#FECB52",
          "symbol": "circle"
         },
         "mode": "markers",
         "name": "ТC \"Дилижанс\"",
         "orientation": "v",
         "showlegend": true,
         "type": "scatter",
         "x": [
          3,
          2,
          4,
          1
         ],
         "xaxis": "x",
         "y": [
          2790,
          2500,
          3390,
          2190
         ],
         "yaxis": "y"
        },
        {
         "hovertemplate": "Seller=Лукьянов Алексей Игоревич<br>rank=%{x}<br>Price=%{y}<extra></extra>",
         "legendgroup": "Лукьянов Алексей Игоревич",
         "marker": {
          "color": "#636efa",
          "symbol": "circle"
         },
         "mode": "markers",
         "name": "Лукьянов Алексей Игоревич",
         "orientation": "v",
         "showlegend": true,
         "type": "scatter",
         "x": [
          3,
          1,
          2
         ],
         "xaxis": "x",
         "y": [
          3800,
          3000,
          3100
         ],
         "yaxis": "y"
        },
        {
         "hovertemplate": "Seller=Зоокосмос.Маркет<br>rank=%{x}<br>Price=%{y}<extra></extra>",
         "legendgroup": "Зоокосмос.Маркет",
         "marker": {
          "color": "#EF553B",
          "symbol": "circle"
         },
         "mode": "markers",
         "name": "Зоокосмос.Маркет",
         "orientation": "v",
         "showlegend": true,
         "type": "scatter",
         "x": [
          1
         ],
         "xaxis": "x",
         "y": [
          1960
         ],
         "yaxis": "y"
        },
        {
         "hovertemplate": "Seller=Vertical<br>rank=%{x}<br>Price=%{y}<extra></extra>",
         "legendgroup": "Vertical",
         "marker": {
          "color": "#00cc96",
          "symbol": "circle"
         },
         "mode": "markers",
         "name": "Vertical",
         "orientation": "v",
         "showlegend": true,
         "type": "scatter",
         "x": [
          1
         ],
         "xaxis": "x",
         "y": [
          2900
         ],
         "yaxis": "y"
        },
        {
         "hovertemplate": "Seller=Glavsantex<br>rank=%{x}<br>Price=%{y}<extra></extra>",
         "legendgroup": "Glavsantex",
         "marker": {
          "color": "#ab63fa",
          "symbol": "circle"
         },
         "mode": "markers",
         "name": "Glavsantex",
         "orientation": "v",
         "showlegend": true,
         "type": "scatter",
         "x": [
          1
         ],
         "xaxis": "x",
         "y": [
          2724
         ],
         "yaxis": "y"
        },
        {
         "hovertemplate": "Seller=Детство Ape<br>rank=%{x}<br>Price=%{y}<extra></extra>",
         "legendgroup": "Детство Ape",
         "marker": {
          "color": "#FFA15A",
          "symbol": "circle"
         },
         "mode": "markers",
         "name": "Детство Ape",
         "orientation": "v",
         "showlegend": true,
         "type": "scatter",
         "x": [
          1
         ],
         "xaxis": "x",
         "y": [
          2600
         ],
         "yaxis": "y"
        },
        {
         "hovertemplate": "Seller=SLS Co<br>rank=%{x}<br>Price=%{y}<extra></extra>",
         "legendgroup": "SLS Co",
         "marker": {
          "color": "#19d3f3",
          "symbol": "circle"
         },
         "mode": "markers",
         "name": "SLS Co",
         "orientation": "v",
         "showlegend": true,
         "type": "scatter",
         "x": [
          1
         ],
         "xaxis": "x",
         "y": [
          1115
         ],
         "yaxis": "y"
        },
        {
         "hovertemplate": "Seller=Pushmart<br>rank=%{x}<br>Price=%{y}<extra></extra>",
         "legendgroup": "Pushmart",
         "marker": {
          "color": "#FF6692",
          "symbol": "circle"
         },
         "mode": "markers",
         "name": "Pushmart",
         "orientation": "v",
         "showlegend": true,
         "type": "scatter",
         "x": [
          1
         ],
         "xaxis": "x",
         "y": [
          1159
         ],
         "yaxis": "y"
        },
        {
         "hovertemplate": "Seller=iCover<br>rank=%{x}<br>Price=%{y}<extra></extra>",
         "legendgroup": "iCover",
         "marker": {
          "color": "#B6E880",
          "symbol": "circle"
         },
         "mode": "markers",
         "name": "iCover",
         "orientation": "v",
         "showlegend": true,
         "type": "scatter",
         "x": [
          1.5,
          1.5
         ],
         "xaxis": "x",
         "y": [
          1690,
          1690
         ],
         "yaxis": "y"
        },
        {
         "hovertemplate": "Seller=Flioraj<br>rank=%{x}<br>Price=%{y}<extra></extra>",
         "legendgroup": "Flioraj",
         "marker": {
          "color": "#FF97FF",
          "symbol": "circle"
         },
         "mode": "markers",
         "name": "Flioraj",
         "orientation": "v",
         "showlegend": true,
         "type": "scatter",
         "x": [
          1
         ],
         "xaxis": "x",
         "y": [
          1500
         ],
         "yaxis": "y"
        },
        {
         "hovertemplate": "Seller=ООО \"Галант Трейдинг\"<br>rank=%{x}<br>Price=%{y}<extra></extra>",
         "legendgroup": "ООО \"Галант Трейдинг\"",
         "marker": {
          "color": "#FECB52",
          "symbol": "circle"
         },
         "mode": "markers",
         "name": "ООО \"Галант Трейдинг\"",
         "orientation": "v",
         "showlegend": true,
         "type": "scatter",
         "x": [
          1,
          2,
          3
         ],
         "xaxis": "x",
         "y": [
          783,
          784,
          849
         ],
         "yaxis": "y"
        },
        {
         "hovertemplate": "Seller=UltraTrade<br>rank=%{x}<br>Price=%{y}<extra></extra>",
         "legendgroup": "UltraTrade",
         "marker": {
          "color": "#636efa",
          "symbol": "circle"
         },
         "mode": "markers",
         "name": "UltraTrade",
         "orientation": "v",
         "showlegend": true,
         "type": "scatter",
         "x": [
          1
         ],
         "xaxis": "x",
         "y": [
          1035
         ],
         "yaxis": "y"
        },
        {
         "hovertemplate": "Seller=ГИПЕРМАРКЕТ ВСЁ<br>rank=%{x}<br>Price=%{y}<extra></extra>",
         "legendgroup": "ГИПЕРМАРКЕТ ВСЁ",
         "marker": {
          "color": "#EF553B",
          "symbol": "circle"
         },
         "mode": "markers",
         "name": "ГИПЕРМАРКЕТ ВСЁ",
         "orientation": "v",
         "showlegend": true,
         "type": "scatter",
         "x": [
          1
         ],
         "xaxis": "x",
         "y": [
          560
         ],
         "yaxis": "y"
        },
        {
         "hovertemplate": "Seller=Fultonumbrellas<br>rank=%{x}<br>Price=%{y}<extra></extra>",
         "legendgroup": "Fultonumbrellas",
         "marker": {
          "color": "#00cc96",
          "symbol": "circle"
         },
         "mode": "markers",
         "name": "Fultonumbrellas",
         "orientation": "v",
         "showlegend": true,
         "type": "scatter",
         "x": [
          1
         ],
         "xaxis": "x",
         "y": [
          1980
         ],
         "yaxis": "y"
        },
        {
         "hovertemplate": "Seller=Доктор Кар<br>rank=%{x}<br>Price=%{y}<extra></extra>",
         "legendgroup": "Доктор Кар",
         "marker": {
          "color": "#ab63fa",
          "symbol": "circle"
         },
         "mode": "markers",
         "name": "Доктор Кар",
         "orientation": "v",
         "showlegend": true,
         "type": "scatter",
         "x": [
          1
         ],
         "xaxis": "x",
         "y": [
          2016
         ],
         "yaxis": "y"
        },
        {
         "hovertemplate": "Seller=АВРОРА<br>rank=%{x}<br>Price=%{y}<extra></extra>",
         "legendgroup": "АВРОРА",
         "marker": {
          "color": "#FFA15A",
          "symbol": "circle"
         },
         "mode": "markers",
         "name": "АВРОРА",
         "orientation": "v",
         "showlegend": true,
         "type": "scatter",
         "x": [
          1
         ],
         "xaxis": "x",
         "y": [
          2390
         ],
         "yaxis": "y"
        },
        {
         "hovertemplate": "Seller=gigamart.ru<br>rank=%{x}<br>Price=%{y}<extra></extra>",
         "legendgroup": "gigamart.ru",
         "marker": {
          "color": "#19d3f3",
          "symbol": "circle"
         },
         "mode": "markers",
         "name": "gigamart.ru",
         "orientation": "v",
         "showlegend": true,
         "type": "scatter",
         "x": [
          1
         ],
         "xaxis": "x",
         "y": [
          1249
         ],
         "yaxis": "y"
        },
        {
         "hovertemplate": "Seller=Ласковый тигренок<br>rank=%{x}<br>Price=%{y}<extra></extra>",
         "legendgroup": "Ласковый тигренок",
         "marker": {
          "color": "#FF6692",
          "symbol": "circle"
         },
         "mode": "markers",
         "name": "Ласковый тигренок",
         "orientation": "v",
         "showlegend": true,
         "type": "scatter",
         "x": [
          1
         ],
         "xaxis": "x",
         "y": [
          629
         ],
         "yaxis": "y"
        },
        {
         "hovertemplate": "Seller=Дом сад и огород<br>rank=%{x}<br>Price=%{y}<extra></extra>",
         "legendgroup": "Дом сад и огород",
         "marker": {
          "color": "#B6E880",
          "symbol": "circle"
         },
         "mode": "markers",
         "name": "Дом сад и огород",
         "orientation": "v",
         "showlegend": true,
         "type": "scatter",
         "x": [
          1
         ],
         "xaxis": "x",
         "y": [
          2900
         ],
         "yaxis": "y"
        }
       ],
       "layout": {
        "legend": {
         "title": {
          "text": "Seller"
         },
         "tracegroupgap": 0
        },
        "template": {
         "data": {
          "bar": [
           {
            "error_x": {
             "color": "#2a3f5f"
            },
            "error_y": {
             "color": "#2a3f5f"
            },
            "marker": {
             "line": {
              "color": "#E5ECF6",
              "width": 0.5
             },
             "pattern": {
              "fillmode": "overlay",
              "size": 10,
              "solidity": 0.2
             }
            },
            "type": "bar"
           }
          ],
          "barpolar": [
           {
            "marker": {
             "line": {
              "color": "#E5ECF6",
              "width": 0.5
             },
             "pattern": {
              "fillmode": "overlay",
              "size": 10,
              "solidity": 0.2
             }
            },
            "type": "barpolar"
           }
          ],
          "carpet": [
           {
            "aaxis": {
             "endlinecolor": "#2a3f5f",
             "gridcolor": "white",
             "linecolor": "white",
             "minorgridcolor": "white",
             "startlinecolor": "#2a3f5f"
            },
            "baxis": {
             "endlinecolor": "#2a3f5f",
             "gridcolor": "white",
             "linecolor": "white",
             "minorgridcolor": "white",
             "startlinecolor": "#2a3f5f"
            },
            "type": "carpet"
           }
          ],
          "choropleth": [
           {
            "colorbar": {
             "outlinewidth": 0,
             "ticks": ""
            },
            "type": "choropleth"
           }
          ],
          "contour": [
           {
            "colorbar": {
             "outlinewidth": 0,
             "ticks": ""
            },
            "colorscale": [
             [
              0,
              "#0d0887"
             ],
             [
              0.1111111111111111,
              "#46039f"
             ],
             [
              0.2222222222222222,
              "#7201a8"
             ],
             [
              0.3333333333333333,
              "#9c179e"
             ],
             [
              0.4444444444444444,
              "#bd3786"
             ],
             [
              0.5555555555555556,
              "#d8576b"
             ],
             [
              0.6666666666666666,
              "#ed7953"
             ],
             [
              0.7777777777777778,
              "#fb9f3a"
             ],
             [
              0.8888888888888888,
              "#fdca26"
             ],
             [
              1,
              "#f0f921"
             ]
            ],
            "type": "contour"
           }
          ],
          "contourcarpet": [
           {
            "colorbar": {
             "outlinewidth": 0,
             "ticks": ""
            },
            "type": "contourcarpet"
           }
          ],
          "heatmap": [
           {
            "colorbar": {
             "outlinewidth": 0,
             "ticks": ""
            },
            "colorscale": [
             [
              0,
              "#0d0887"
             ],
             [
              0.1111111111111111,
              "#46039f"
             ],
             [
              0.2222222222222222,
              "#7201a8"
             ],
             [
              0.3333333333333333,
              "#9c179e"
             ],
             [
              0.4444444444444444,
              "#bd3786"
             ],
             [
              0.5555555555555556,
              "#d8576b"
             ],
             [
              0.6666666666666666,
              "#ed7953"
             ],
             [
              0.7777777777777778,
              "#fb9f3a"
             ],
             [
              0.8888888888888888,
              "#fdca26"
             ],
             [
              1,
              "#f0f921"
             ]
            ],
            "type": "heatmap"
           }
          ],
          "heatmapgl": [
           {
            "colorbar": {
             "outlinewidth": 0,
             "ticks": ""
            },
            "colorscale": [
             [
              0,
              "#0d0887"
             ],
             [
              0.1111111111111111,
              "#46039f"
             ],
             [
              0.2222222222222222,
              "#7201a8"
             ],
             [
              0.3333333333333333,
              "#9c179e"
             ],
             [
              0.4444444444444444,
              "#bd3786"
             ],
             [
              0.5555555555555556,
              "#d8576b"
             ],
             [
              0.6666666666666666,
              "#ed7953"
             ],
             [
              0.7777777777777778,
              "#fb9f3a"
             ],
             [
              0.8888888888888888,
              "#fdca26"
             ],
             [
              1,
              "#f0f921"
             ]
            ],
            "type": "heatmapgl"
           }
          ],
          "histogram": [
           {
            "marker": {
             "pattern": {
              "fillmode": "overlay",
              "size": 10,
              "solidity": 0.2
             }
            },
            "type": "histogram"
           }
          ],
          "histogram2d": [
           {
            "colorbar": {
             "outlinewidth": 0,
             "ticks": ""
            },
            "colorscale": [
             [
              0,
              "#0d0887"
             ],
             [
              0.1111111111111111,
              "#46039f"
             ],
             [
              0.2222222222222222,
              "#7201a8"
             ],
             [
              0.3333333333333333,
              "#9c179e"
             ],
             [
              0.4444444444444444,
              "#bd3786"
             ],
             [
              0.5555555555555556,
              "#d8576b"
             ],
             [
              0.6666666666666666,
              "#ed7953"
             ],
             [
              0.7777777777777778,
              "#fb9f3a"
             ],
             [
              0.8888888888888888,
              "#fdca26"
             ],
             [
              1,
              "#f0f921"
             ]
            ],
            "type": "histogram2d"
           }
          ],
          "histogram2dcontour": [
           {
            "colorbar": {
             "outlinewidth": 0,
             "ticks": ""
            },
            "colorscale": [
             [
              0,
              "#0d0887"
             ],
             [
              0.1111111111111111,
              "#46039f"
             ],
             [
              0.2222222222222222,
              "#7201a8"
             ],
             [
              0.3333333333333333,
              "#9c179e"
             ],
             [
              0.4444444444444444,
              "#bd3786"
             ],
             [
              0.5555555555555556,
              "#d8576b"
             ],
             [
              0.6666666666666666,
              "#ed7953"
             ],
             [
              0.7777777777777778,
              "#fb9f3a"
             ],
             [
              0.8888888888888888,
              "#fdca26"
             ],
             [
              1,
              "#f0f921"
             ]
            ],
            "type": "histogram2dcontour"
           }
          ],
          "mesh3d": [
           {
            "colorbar": {
             "outlinewidth": 0,
             "ticks": ""
            },
            "type": "mesh3d"
           }
          ],
          "parcoords": [
           {
            "line": {
             "colorbar": {
              "outlinewidth": 0,
              "ticks": ""
             }
            },
            "type": "parcoords"
           }
          ],
          "pie": [
           {
            "automargin": true,
            "type": "pie"
           }
          ],
          "scatter": [
           {
            "fillpattern": {
             "fillmode": "overlay",
             "size": 10,
             "solidity": 0.2
            },
            "type": "scatter"
           }
          ],
          "scatter3d": [
           {
            "line": {
             "colorbar": {
              "outlinewidth": 0,
              "ticks": ""
             }
            },
            "marker": {
             "colorbar": {
              "outlinewidth": 0,
              "ticks": ""
             }
            },
            "type": "scatter3d"
           }
          ],
          "scattercarpet": [
           {
            "marker": {
             "colorbar": {
              "outlinewidth": 0,
              "ticks": ""
             }
            },
            "type": "scattercarpet"
           }
          ],
          "scattergeo": [
           {
            "marker": {
             "colorbar": {
              "outlinewidth": 0,
              "ticks": ""
             }
            },
            "type": "scattergeo"
           }
          ],
          "scattergl": [
           {
            "marker": {
             "colorbar": {
              "outlinewidth": 0,
              "ticks": ""
             }
            },
            "type": "scattergl"
           }
          ],
          "scattermapbox": [
           {
            "marker": {
             "colorbar": {
              "outlinewidth": 0,
              "ticks": ""
             }
            },
            "type": "scattermapbox"
           }
          ],
          "scatterpolar": [
           {
            "marker": {
             "colorbar": {
              "outlinewidth": 0,
              "ticks": ""
             }
            },
            "type": "scatterpolar"
           }
          ],
          "scatterpolargl": [
           {
            "marker": {
             "colorbar": {
              "outlinewidth": 0,
              "ticks": ""
             }
            },
            "type": "scatterpolargl"
           }
          ],
          "scatterternary": [
           {
            "marker": {
             "colorbar": {
              "outlinewidth": 0,
              "ticks": ""
             }
            },
            "type": "scatterternary"
           }
          ],
          "surface": [
           {
            "colorbar": {
             "outlinewidth": 0,
             "ticks": ""
            },
            "colorscale": [
             [
              0,
              "#0d0887"
             ],
             [
              0.1111111111111111,
              "#46039f"
             ],
             [
              0.2222222222222222,
              "#7201a8"
             ],
             [
              0.3333333333333333,
              "#9c179e"
             ],
             [
              0.4444444444444444,
              "#bd3786"
             ],
             [
              0.5555555555555556,
              "#d8576b"
             ],
             [
              0.6666666666666666,
              "#ed7953"
             ],
             [
              0.7777777777777778,
              "#fb9f3a"
             ],
             [
              0.8888888888888888,
              "#fdca26"
             ],
             [
              1,
              "#f0f921"
             ]
            ],
            "type": "surface"
           }
          ],
          "table": [
           {
            "cells": {
             "fill": {
              "color": "#EBF0F8"
             },
             "line": {
              "color": "white"
             }
            },
            "header": {
             "fill": {
              "color": "#C8D4E3"
             },
             "line": {
              "color": "white"
             }
            },
            "type": "table"
           }
          ]
         },
         "layout": {
          "annotationdefaults": {
           "arrowcolor": "#2a3f5f",
           "arrowhead": 0,
           "arrowwidth": 1
          },
          "autotypenumbers": "strict",
          "coloraxis": {
           "colorbar": {
            "outlinewidth": 0,
            "ticks": ""
           }
          },
          "colorscale": {
           "diverging": [
            [
             0,
             "#8e0152"
            ],
            [
             0.1,
             "#c51b7d"
            ],
            [
             0.2,
             "#de77ae"
            ],
            [
             0.3,
             "#f1b6da"
            ],
            [
             0.4,
             "#fde0ef"
            ],
            [
             0.5,
             "#f7f7f7"
            ],
            [
             0.6,
             "#e6f5d0"
            ],
            [
             0.7,
             "#b8e186"
            ],
            [
             0.8,
             "#7fbc41"
            ],
            [
             0.9,
             "#4d9221"
            ],
            [
             1,
             "#276419"
            ]
           ],
           "sequential": [
            [
             0,
             "#0d0887"
            ],
            [
             0.1111111111111111,
             "#46039f"
            ],
            [
             0.2222222222222222,
             "#7201a8"
            ],
            [
             0.3333333333333333,
             "#9c179e"
            ],
            [
             0.4444444444444444,
             "#bd3786"
            ],
            [
             0.5555555555555556,
             "#d8576b"
            ],
            [
             0.6666666666666666,
             "#ed7953"
            ],
            [
             0.7777777777777778,
             "#fb9f3a"
            ],
            [
             0.8888888888888888,
             "#fdca26"
            ],
            [
             1,
             "#f0f921"
            ]
           ],
           "sequentialminus": [
            [
             0,
             "#0d0887"
            ],
            [
             0.1111111111111111,
             "#46039f"
            ],
            [
             0.2222222222222222,
             "#7201a8"
            ],
            [
             0.3333333333333333,
             "#9c179e"
            ],
            [
             0.4444444444444444,
             "#bd3786"
            ],
            [
             0.5555555555555556,
             "#d8576b"
            ],
            [
             0.6666666666666666,
             "#ed7953"
            ],
            [
             0.7777777777777778,
             "#fb9f3a"
            ],
            [
             0.8888888888888888,
             "#fdca26"
            ],
            [
             1,
             "#f0f921"
            ]
           ]
          },
          "colorway": [
           "#636efa",
           "#EF553B",
           "#00cc96",
           "#ab63fa",
           "#FFA15A",
           "#19d3f3",
           "#FF6692",
           "#B6E880",
           "#FF97FF",
           "#FECB52"
          ],
          "font": {
           "color": "#2a3f5f"
          },
          "geo": {
           "bgcolor": "white",
           "lakecolor": "white",
           "landcolor": "#E5ECF6",
           "showlakes": true,
           "showland": true,
           "subunitcolor": "white"
          },
          "hoverlabel": {
           "align": "left"
          },
          "hovermode": "closest",
          "mapbox": {
           "style": "light"
          },
          "paper_bgcolor": "white",
          "plot_bgcolor": "#E5ECF6",
          "polar": {
           "angularaxis": {
            "gridcolor": "white",
            "linecolor": "white",
            "ticks": ""
           },
           "bgcolor": "#E5ECF6",
           "radialaxis": {
            "gridcolor": "white",
            "linecolor": "white",
            "ticks": ""
           }
          },
          "scene": {
           "xaxis": {
            "backgroundcolor": "#E5ECF6",
            "gridcolor": "white",
            "gridwidth": 2,
            "linecolor": "white",
            "showbackground": true,
            "ticks": "",
            "zerolinecolor": "white"
           },
           "yaxis": {
            "backgroundcolor": "#E5ECF6",
            "gridcolor": "white",
            "gridwidth": 2,
            "linecolor": "white",
            "showbackground": true,
            "ticks": "",
            "zerolinecolor": "white"
           },
           "zaxis": {
            "backgroundcolor": "#E5ECF6",
            "gridcolor": "white",
            "gridwidth": 2,
            "linecolor": "white",
            "showbackground": true,
            "ticks": "",
            "zerolinecolor": "white"
           }
          },
          "shapedefaults": {
           "line": {
            "color": "#2a3f5f"
           }
          },
          "ternary": {
           "aaxis": {
            "gridcolor": "white",
            "linecolor": "white",
            "ticks": ""
           },
           "baxis": {
            "gridcolor": "white",
            "linecolor": "white",
            "ticks": ""
           },
           "bgcolor": "#E5ECF6",
           "caxis": {
            "gridcolor": "white",
            "linecolor": "white",
            "ticks": ""
           }
          },
          "title": {
           "x": 0.05
          },
          "xaxis": {
           "automargin": true,
           "gridcolor": "white",
           "linecolor": "white",
           "ticks": "",
           "title": {
            "standoff": 15
           },
           "zerolinecolor": "white",
           "zerolinewidth": 2
          },
          "yaxis": {
           "automargin": true,
           "gridcolor": "white",
           "linecolor": "white",
           "ticks": "",
           "title": {
            "standoff": 15
           },
           "zerolinecolor": "white",
           "zerolinewidth": 2
          }
         }
        },
        "title": {
         "text": "Goods prices spread"
        },
        "xaxis": {
         "anchor": "y",
         "domain": [
          0,
          1
         ],
         "title": {
          "text": "rank"
         }
        },
        "yaxis": {
         "anchor": "x",
         "domain": [
          0,
          1
         ],
         "title": {
          "text": "Price"
         }
        }
       }
      }
     },
     "metadata": {},
     "output_type": "display_data"
    }
   ],
   "source": [
    "\n",
    "fig = px.scatter(df, x=\"rank\", y=\"Price\", title='Goods prices spread', color=\"Seller\")\n",
    "fig.show()"
   ]
  },
  {
   "cell_type": "code",
   "execution_count": 89,
   "metadata": {},
   "outputs": [
    {
     "data": {
      "application/vnd.plotly.v1+json": {
       "config": {
        "plotlyServerURL": "https://plot.ly"
       },
       "data": [
        {
         "hovertemplate": "Source=market.yandex<br>pricegroup=%{x}<br>Seller=%{y}<br>size=%{marker.size}<extra></extra>",
         "legendgroup": "market.yandex",
         "marker": {
          "color": "#636efa",
          "size": [
           0.2,
           0.4,
           0.4,
           0.6,
           0.2,
           0.2,
           0.2,
           0.2,
           0.2,
           0.4,
           0.6,
           0.2,
           0.8,
           0.2,
           0.2,
           0.2,
           0.2,
           0.2,
           0.4,
           0.2,
           0.2,
           0.2,
           0.2,
           0.2,
           0.4,
           0.4,
           0.2,
           0.2,
           0.2,
           0.8,
           0.2,
           0.2,
           1.2,
           0.2,
           0.6,
           0.8,
           0.2,
           0.2,
           0.2,
           1.2,
           0.8,
           0.4,
           1,
           0.2,
           0.8,
           0.8,
           0.2,
           0.2,
           0.2,
           0.2,
           0.2,
           0.2,
           0.2,
           0.2,
           0.8,
           0.2,
           1.4,
           0.6,
           0.8,
           0.4,
           0.8,
           0.2,
           0.2,
           4,
           1,
           1.6,
           0.6,
           0.8,
           0.2,
           0.2,
           0.8,
           0.4,
           0.2,
           0.4,
           2,
           4,
           0.4,
           1.2,
           0.6,
           0.8,
           0.6,
           0.8,
           0.2,
           0.2,
           0.2,
           0.2,
           0.2,
           0.2,
           0.8,
           0.4,
           0.8,
           1,
           0.8,
           0.6,
           0.6,
           0.2,
           0.4,
           0.2,
           0.4,
           0.2,
           0.6,
           0.2,
           0.2,
           0.6,
           0.2,
           0.2
          ],
          "sizemode": "area",
          "sizeref": 0.01,
          "symbol": "circle"
         },
         "mode": "markers",
         "name": "market.yandex",
         "orientation": "h",
         "showlegend": true,
         "type": "scatter",
         "x": [
          1400,
          1900,
          2000,
          2100,
          2300,
          3200,
          900,
          1100,
          1400,
          1300,
          1400,
          1600,
          1700,
          1800,
          1900,
          2100,
          2400,
          2700,
          1600,
          1900,
          2000,
          2300,
          1500,
          1800,
          1900,
          2000,
          2400,
          2600,
          1500,
          1800,
          2000,
          2100,
          2200,
          2400,
          2500,
          2600,
          2800,
          1500,
          1700,
          1900,
          2000,
          2100,
          2200,
          2300,
          2400,
          2500,
          2700,
          2800,
          2900,
          3200,
          2900,
          1600,
          1700,
          1800,
          2000,
          2100,
          2200,
          2300,
          2400,
          2500,
          2600,
          2700,
          2800,
          3000,
          3100,
          3200,
          3400,
          3600,
          1300,
          1700,
          1900,
          2000,
          2100,
          2300,
          2500,
          2600,
          2700,
          2800,
          2900,
          3000,
          3200,
          3600,
          1600,
          2200,
          2400,
          1100,
          2900,
          1900,
          1400,
          1600,
          1700,
          1800,
          1900,
          2000,
          2200,
          2500,
          1600,
          1800,
          1900,
          2000,
          2200,
          2300,
          2400,
          2600,
          1200,
          3000
         ],
         "xaxis": "x",
         "y": [
          "Baggins сумки и аксессуары",
          "Baggins сумки и аксессуары",
          "Baggins сумки и аксессуары",
          "Baggins сумки и аксессуары",
          "Baggins сумки и аксессуары",
          "Baggins сумки и аксессуары",
          "Bamika mix store",
          "Bamika mix store",
          "Bamika mix store",
          "EGEGEI.RU",
          "EGEGEI.RU",
          "EGEGEI.RU",
          "EGEGEI.RU",
          "EGEGEI.RU",
          "EGEGEI.RU",
          "Ellinashop.ru",
          "Ellinashop.ru",
          "Glavsantex",
          "Goodsales",
          "Goodsales",
          "Goodsales",
          "Goodsales",
          "KODmart.ru",
          "KODmart.ru",
          "KODmart.ru",
          "KODmart.ru",
          "KODmart.ru",
          "KODmart.ru",
          "S5Z.RU",
          "S5Z.RU",
          "S5Z.RU",
          "S5Z.RU",
          "S5Z.RU",
          "S5Z.RU",
          "S5Z.RU",
          "S5Z.RU",
          "S5Z.RU",
          "Sumochkin",
          "Sumochkin",
          "Sumochkin",
          "Sumochkin",
          "Sumochkin",
          "Sumochkin",
          "Sumochkin",
          "Sumochkin",
          "Sumochkin",
          "Sumochkin",
          "Sumochkin",
          "Sumochkin",
          "Sumochkin",
          "Vertical",
          "ZontyPskov.ru",
          "ZontyPskov.ru",
          "ZontyPskov.ru",
          "ZontyPskov.ru",
          "ZontyPskov.ru",
          "ZontyPskov.ru",
          "ZontyPskov.ru",
          "ZontyPskov.ru",
          "ZontyPskov.ru",
          "ZontyPskov.ru",
          "ZontyPskov.ru",
          "ZontyPskov.ru",
          "ZontyPskov.ru",
          "ZontyPskov.ru",
          "ZontyPskov.ru",
          "ZontyPskov.ru",
          "ZontyPskov.ru",
          "Бизнес-аккаунт ТРИ СЛОНА, японские зонты",
          "Бизнес-аккаунт ТРИ СЛОНА, японские зонты",
          "Бизнес-аккаунт ТРИ СЛОНА, японские зонты",
          "Бизнес-аккаунт ТРИ СЛОНА, японские зонты",
          "Бизнес-аккаунт ТРИ СЛОНА, японские зонты",
          "Бизнес-аккаунт ТРИ СЛОНА, японские зонты",
          "Бизнес-аккаунт ТРИ СЛОНА, японские зонты",
          "Бизнес-аккаунт ТРИ СЛОНА, японские зонты",
          "Бизнес-аккаунт ТРИ СЛОНА, японские зонты",
          "Бизнес-аккаунт ТРИ СЛОНА, японские зонты",
          "Бизнес-аккаунт ТРИ СЛОНА, японские зонты",
          "Бизнес-аккаунт ТРИ СЛОНА, японские зонты",
          "Бизнес-аккаунт ТРИ СЛОНА, японские зонты",
          "Бизнес-аккаунт ТРИ СЛОНА, японские зонты",
          "Буржуй",
          "Буржуй",
          "Буржуй",
          "ГольфСтрим",
          "Дом сад и огород",
          "Зонт мужской Три Слона 8105 (910), 10 спиц, полный автомат",
          "Зонты.ру",
          "Зонты.ру",
          "Зонты.ру",
          "Зонты.ру",
          "Зонты.ру",
          "Зонты.ру",
          "Зонты.ру",
          "Зонты.ру",
          "Магия гуталина",
          "Магия гуталина",
          "Магия гуталина",
          "Магия гуталина",
          "Магия гуталина",
          "Магия гуталина",
          "Магия гуталина",
          "Магия гуталина",
          "Уют в Каждый Дом",
          "Шарпей"
         ],
         "yaxis": "y"
        },
        {
         "hovertemplate": "Source=sbermegamarket<br>pricegroup=%{x}<br>Seller=%{y}<br>size=%{marker.size}<extra></extra>",
         "legendgroup": "sbermegamarket",
         "marker": {
          "color": "#EF553B",
          "size": [
           0.2,
           0.2,
           0.2,
           0.2,
           0.2,
           0.2,
           0.4,
           0.2,
           0.4,
           1,
           2,
           0.8,
           1.2,
           0.2,
           0.2,
           0.2,
           0.6,
           0.4,
           0.2,
           0.2,
           0.2,
           0.2,
           0.2,
           0.2,
           0.2,
           0.2,
           0.2,
           0.2,
           0.6,
           0.2,
           0.2,
           0.2,
           0.2,
           0.4,
           0.2,
           0.6,
           0.2,
           0.2,
           0.6,
           0.2,
           2,
           0.2,
           1.8,
           3,
           1.2,
           2,
           1.2,
           0.6,
           2.8,
           1.2,
           1.4,
           0.6,
           0.2,
           0.2,
           0.6
          ],
          "sizemode": "area",
          "sizeref": 0.01,
          "symbol": "circle"
         },
         "mode": "markers",
         "name": "sbermegamarket",
         "orientation": "h",
         "showlegend": true,
         "type": "scatter",
         "x": [
          1500,
          2000,
          1200,
          1100,
          1000,
          1200,
          1700,
          2000,
          2200,
          2300,
          2400,
          2500,
          2600,
          2700,
          2800,
          2900,
          3000,
          3100,
          3400,
          2400,
          600,
          2600,
          2000,
          2000,
          600,
          3000,
          3100,
          3800,
          800,
          2200,
          2500,
          2800,
          3400,
          1700,
          1900,
          2000,
          2100,
          2200,
          2300,
          2500,
          2700,
          2800,
          2900,
          3000,
          3100,
          3200,
          3300,
          3400,
          3500,
          3600,
          3700,
          3800,
          4100,
          4300,
          4400
         ],
         "xaxis": "x",
         "y": [
          "Flioraj",
          "Fultonumbrellas",
          "Pushmart",
          "SLS Co",
          "UltraTrade",
          "gigamart.ru",
          "iCover",
          "zont-msk.ru",
          "zont-msk.ru",
          "zont-msk.ru",
          "zont-msk.ru",
          "zont-msk.ru",
          "zont-msk.ru",
          "zont-msk.ru",
          "zont-msk.ru",
          "zont-msk.ru",
          "zont-msk.ru",
          "zont-msk.ru",
          "zont-msk.ru",
          "АВРОРА",
          "ГИПЕРМАРКЕТ ВСЁ",
          "Детство Ape",
          "Доктор Кар",
          "Зоокосмос.Маркет",
          "Ласковый тигренок",
          "Лукьянов Алексей Игоревич",
          "Лукьянов Алексей Игоревич",
          "Лукьянов Алексей Игоревич",
          "ООО \"Галант Трейдинг\"",
          "ТC \"Дилижанс\"",
          "ТC \"Дилижанс\"",
          "ТC \"Дилижанс\"",
          "ТC \"Дилижанс\"",
          "Три Слона",
          "Три Слона",
          "Три Слона",
          "Три Слона",
          "Три Слона",
          "Три Слона",
          "Три Слона",
          "Три Слона",
          "Три Слона",
          "Три Слона",
          "Три Слона",
          "Три Слона",
          "Три Слона",
          "Три Слона",
          "Три Слона",
          "Три Слона",
          "Три Слона",
          "Три Слона",
          "Три Слона",
          "Три Слона",
          "Три Слона",
          "Три Слона"
         ],
         "yaxis": "y"
        }
       ],
       "layout": {
        "height": 950,
        "legend": {
         "itemsizing": "constant",
         "title": {
          "text": "Source"
         },
         "tracegroupgap": 0
        },
        "template": {
         "data": {
          "bar": [
           {
            "error_x": {
             "color": "#2a3f5f"
            },
            "error_y": {
             "color": "#2a3f5f"
            },
            "marker": {
             "line": {
              "color": "#E5ECF6",
              "width": 0.5
             },
             "pattern": {
              "fillmode": "overlay",
              "size": 10,
              "solidity": 0.2
             }
            },
            "type": "bar"
           }
          ],
          "barpolar": [
           {
            "marker": {
             "line": {
              "color": "#E5ECF6",
              "width": 0.5
             },
             "pattern": {
              "fillmode": "overlay",
              "size": 10,
              "solidity": 0.2
             }
            },
            "type": "barpolar"
           }
          ],
          "carpet": [
           {
            "aaxis": {
             "endlinecolor": "#2a3f5f",
             "gridcolor": "white",
             "linecolor": "white",
             "minorgridcolor": "white",
             "startlinecolor": "#2a3f5f"
            },
            "baxis": {
             "endlinecolor": "#2a3f5f",
             "gridcolor": "white",
             "linecolor": "white",
             "minorgridcolor": "white",
             "startlinecolor": "#2a3f5f"
            },
            "type": "carpet"
           }
          ],
          "choropleth": [
           {
            "colorbar": {
             "outlinewidth": 0,
             "ticks": ""
            },
            "type": "choropleth"
           }
          ],
          "contour": [
           {
            "colorbar": {
             "outlinewidth": 0,
             "ticks": ""
            },
            "colorscale": [
             [
              0,
              "#0d0887"
             ],
             [
              0.1111111111111111,
              "#46039f"
             ],
             [
              0.2222222222222222,
              "#7201a8"
             ],
             [
              0.3333333333333333,
              "#9c179e"
             ],
             [
              0.4444444444444444,
              "#bd3786"
             ],
             [
              0.5555555555555556,
              "#d8576b"
             ],
             [
              0.6666666666666666,
              "#ed7953"
             ],
             [
              0.7777777777777778,
              "#fb9f3a"
             ],
             [
              0.8888888888888888,
              "#fdca26"
             ],
             [
              1,
              "#f0f921"
             ]
            ],
            "type": "contour"
           }
          ],
          "contourcarpet": [
           {
            "colorbar": {
             "outlinewidth": 0,
             "ticks": ""
            },
            "type": "contourcarpet"
           }
          ],
          "heatmap": [
           {
            "colorbar": {
             "outlinewidth": 0,
             "ticks": ""
            },
            "colorscale": [
             [
              0,
              "#0d0887"
             ],
             [
              0.1111111111111111,
              "#46039f"
             ],
             [
              0.2222222222222222,
              "#7201a8"
             ],
             [
              0.3333333333333333,
              "#9c179e"
             ],
             [
              0.4444444444444444,
              "#bd3786"
             ],
             [
              0.5555555555555556,
              "#d8576b"
             ],
             [
              0.6666666666666666,
              "#ed7953"
             ],
             [
              0.7777777777777778,
              "#fb9f3a"
             ],
             [
              0.8888888888888888,
              "#fdca26"
             ],
             [
              1,
              "#f0f921"
             ]
            ],
            "type": "heatmap"
           }
          ],
          "heatmapgl": [
           {
            "colorbar": {
             "outlinewidth": 0,
             "ticks": ""
            },
            "colorscale": [
             [
              0,
              "#0d0887"
             ],
             [
              0.1111111111111111,
              "#46039f"
             ],
             [
              0.2222222222222222,
              "#7201a8"
             ],
             [
              0.3333333333333333,
              "#9c179e"
             ],
             [
              0.4444444444444444,
              "#bd3786"
             ],
             [
              0.5555555555555556,
              "#d8576b"
             ],
             [
              0.6666666666666666,
              "#ed7953"
             ],
             [
              0.7777777777777778,
              "#fb9f3a"
             ],
             [
              0.8888888888888888,
              "#fdca26"
             ],
             [
              1,
              "#f0f921"
             ]
            ],
            "type": "heatmapgl"
           }
          ],
          "histogram": [
           {
            "marker": {
             "pattern": {
              "fillmode": "overlay",
              "size": 10,
              "solidity": 0.2
             }
            },
            "type": "histogram"
           }
          ],
          "histogram2d": [
           {
            "colorbar": {
             "outlinewidth": 0,
             "ticks": ""
            },
            "colorscale": [
             [
              0,
              "#0d0887"
             ],
             [
              0.1111111111111111,
              "#46039f"
             ],
             [
              0.2222222222222222,
              "#7201a8"
             ],
             [
              0.3333333333333333,
              "#9c179e"
             ],
             [
              0.4444444444444444,
              "#bd3786"
             ],
             [
              0.5555555555555556,
              "#d8576b"
             ],
             [
              0.6666666666666666,
              "#ed7953"
             ],
             [
              0.7777777777777778,
              "#fb9f3a"
             ],
             [
              0.8888888888888888,
              "#fdca26"
             ],
             [
              1,
              "#f0f921"
             ]
            ],
            "type": "histogram2d"
           }
          ],
          "histogram2dcontour": [
           {
            "colorbar": {
             "outlinewidth": 0,
             "ticks": ""
            },
            "colorscale": [
             [
              0,
              "#0d0887"
             ],
             [
              0.1111111111111111,
              "#46039f"
             ],
             [
              0.2222222222222222,
              "#7201a8"
             ],
             [
              0.3333333333333333,
              "#9c179e"
             ],
             [
              0.4444444444444444,
              "#bd3786"
             ],
             [
              0.5555555555555556,
              "#d8576b"
             ],
             [
              0.6666666666666666,
              "#ed7953"
             ],
             [
              0.7777777777777778,
              "#fb9f3a"
             ],
             [
              0.8888888888888888,
              "#fdca26"
             ],
             [
              1,
              "#f0f921"
             ]
            ],
            "type": "histogram2dcontour"
           }
          ],
          "mesh3d": [
           {
            "colorbar": {
             "outlinewidth": 0,
             "ticks": ""
            },
            "type": "mesh3d"
           }
          ],
          "parcoords": [
           {
            "line": {
             "colorbar": {
              "outlinewidth": 0,
              "ticks": ""
             }
            },
            "type": "parcoords"
           }
          ],
          "pie": [
           {
            "automargin": true,
            "type": "pie"
           }
          ],
          "scatter": [
           {
            "fillpattern": {
             "fillmode": "overlay",
             "size": 10,
             "solidity": 0.2
            },
            "type": "scatter"
           }
          ],
          "scatter3d": [
           {
            "line": {
             "colorbar": {
              "outlinewidth": 0,
              "ticks": ""
             }
            },
            "marker": {
             "colorbar": {
              "outlinewidth": 0,
              "ticks": ""
             }
            },
            "type": "scatter3d"
           }
          ],
          "scattercarpet": [
           {
            "marker": {
             "colorbar": {
              "outlinewidth": 0,
              "ticks": ""
             }
            },
            "type": "scattercarpet"
           }
          ],
          "scattergeo": [
           {
            "marker": {
             "colorbar": {
              "outlinewidth": 0,
              "ticks": ""
             }
            },
            "type": "scattergeo"
           }
          ],
          "scattergl": [
           {
            "marker": {
             "colorbar": {
              "outlinewidth": 0,
              "ticks": ""
             }
            },
            "type": "scattergl"
           }
          ],
          "scattermapbox": [
           {
            "marker": {
             "colorbar": {
              "outlinewidth": 0,
              "ticks": ""
             }
            },
            "type": "scattermapbox"
           }
          ],
          "scatterpolar": [
           {
            "marker": {
             "colorbar": {
              "outlinewidth": 0,
              "ticks": ""
             }
            },
            "type": "scatterpolar"
           }
          ],
          "scatterpolargl": [
           {
            "marker": {
             "colorbar": {
              "outlinewidth": 0,
              "ticks": ""
             }
            },
            "type": "scatterpolargl"
           }
          ],
          "scatterternary": [
           {
            "marker": {
             "colorbar": {
              "outlinewidth": 0,
              "ticks": ""
             }
            },
            "type": "scatterternary"
           }
          ],
          "surface": [
           {
            "colorbar": {
             "outlinewidth": 0,
             "ticks": ""
            },
            "colorscale": [
             [
              0,
              "#0d0887"
             ],
             [
              0.1111111111111111,
              "#46039f"
             ],
             [
              0.2222222222222222,
              "#7201a8"
             ],
             [
              0.3333333333333333,
              "#9c179e"
             ],
             [
              0.4444444444444444,
              "#bd3786"
             ],
             [
              0.5555555555555556,
              "#d8576b"
             ],
             [
              0.6666666666666666,
              "#ed7953"
             ],
             [
              0.7777777777777778,
              "#fb9f3a"
             ],
             [
              0.8888888888888888,
              "#fdca26"
             ],
             [
              1,
              "#f0f921"
             ]
            ],
            "type": "surface"
           }
          ],
          "table": [
           {
            "cells": {
             "fill": {
              "color": "#EBF0F8"
             },
             "line": {
              "color": "white"
             }
            },
            "header": {
             "fill": {
              "color": "#C8D4E3"
             },
             "line": {
              "color": "white"
             }
            },
            "type": "table"
           }
          ]
         },
         "layout": {
          "annotationdefaults": {
           "arrowcolor": "#2a3f5f",
           "arrowhead": 0,
           "arrowwidth": 1
          },
          "autotypenumbers": "strict",
          "coloraxis": {
           "colorbar": {
            "outlinewidth": 0,
            "ticks": ""
           }
          },
          "colorscale": {
           "diverging": [
            [
             0,
             "#8e0152"
            ],
            [
             0.1,
             "#c51b7d"
            ],
            [
             0.2,
             "#de77ae"
            ],
            [
             0.3,
             "#f1b6da"
            ],
            [
             0.4,
             "#fde0ef"
            ],
            [
             0.5,
             "#f7f7f7"
            ],
            [
             0.6,
             "#e6f5d0"
            ],
            [
             0.7,
             "#b8e186"
            ],
            [
             0.8,
             "#7fbc41"
            ],
            [
             0.9,
             "#4d9221"
            ],
            [
             1,
             "#276419"
            ]
           ],
           "sequential": [
            [
             0,
             "#0d0887"
            ],
            [
             0.1111111111111111,
             "#46039f"
            ],
            [
             0.2222222222222222,
             "#7201a8"
            ],
            [
             0.3333333333333333,
             "#9c179e"
            ],
            [
             0.4444444444444444,
             "#bd3786"
            ],
            [
             0.5555555555555556,
             "#d8576b"
            ],
            [
             0.6666666666666666,
             "#ed7953"
            ],
            [
             0.7777777777777778,
             "#fb9f3a"
            ],
            [
             0.8888888888888888,
             "#fdca26"
            ],
            [
             1,
             "#f0f921"
            ]
           ],
           "sequentialminus": [
            [
             0,
             "#0d0887"
            ],
            [
             0.1111111111111111,
             "#46039f"
            ],
            [
             0.2222222222222222,
             "#7201a8"
            ],
            [
             0.3333333333333333,
             "#9c179e"
            ],
            [
             0.4444444444444444,
             "#bd3786"
            ],
            [
             0.5555555555555556,
             "#d8576b"
            ],
            [
             0.6666666666666666,
             "#ed7953"
            ],
            [
             0.7777777777777778,
             "#fb9f3a"
            ],
            [
             0.8888888888888888,
             "#fdca26"
            ],
            [
             1,
             "#f0f921"
            ]
           ]
          },
          "colorway": [
           "#636efa",
           "#EF553B",
           "#00cc96",
           "#ab63fa",
           "#FFA15A",
           "#19d3f3",
           "#FF6692",
           "#B6E880",
           "#FF97FF",
           "#FECB52"
          ],
          "font": {
           "color": "#2a3f5f"
          },
          "geo": {
           "bgcolor": "white",
           "lakecolor": "white",
           "landcolor": "#E5ECF6",
           "showlakes": true,
           "showland": true,
           "subunitcolor": "white"
          },
          "hoverlabel": {
           "align": "left"
          },
          "hovermode": "closest",
          "mapbox": {
           "style": "light"
          },
          "paper_bgcolor": "white",
          "plot_bgcolor": "#E5ECF6",
          "polar": {
           "angularaxis": {
            "gridcolor": "white",
            "linecolor": "white",
            "ticks": ""
           },
           "bgcolor": "#E5ECF6",
           "radialaxis": {
            "gridcolor": "white",
            "linecolor": "white",
            "ticks": ""
           }
          },
          "scene": {
           "xaxis": {
            "backgroundcolor": "#E5ECF6",
            "gridcolor": "white",
            "gridwidth": 2,
            "linecolor": "white",
            "showbackground": true,
            "ticks": "",
            "zerolinecolor": "white"
           },
           "yaxis": {
            "backgroundcolor": "#E5ECF6",
            "gridcolor": "white",
            "gridwidth": 2,
            "linecolor": "white",
            "showbackground": true,
            "ticks": "",
            "zerolinecolor": "white"
           },
           "zaxis": {
            "backgroundcolor": "#E5ECF6",
            "gridcolor": "white",
            "gridwidth": 2,
            "linecolor": "white",
            "showbackground": true,
            "ticks": "",
            "zerolinecolor": "white"
           }
          },
          "shapedefaults": {
           "line": {
            "color": "#2a3f5f"
           }
          },
          "ternary": {
           "aaxis": {
            "gridcolor": "white",
            "linecolor": "white",
            "ticks": ""
           },
           "baxis": {
            "gridcolor": "white",
            "linecolor": "white",
            "ticks": ""
           },
           "bgcolor": "#E5ECF6",
           "caxis": {
            "gridcolor": "white",
            "linecolor": "white",
            "ticks": ""
           }
          },
          "title": {
           "x": 0.05
          },
          "xaxis": {
           "automargin": true,
           "gridcolor": "white",
           "linecolor": "white",
           "ticks": "",
           "title": {
            "standoff": 15
           },
           "zerolinecolor": "white",
           "zerolinewidth": 2
          },
          "yaxis": {
           "automargin": true,
           "gridcolor": "white",
           "linecolor": "white",
           "ticks": "",
           "title": {
            "standoff": 15
           },
           "zerolinecolor": "white",
           "zerolinewidth": 2
          }
         }
        },
        "title": {
         "text": "Goods prices spread"
        },
        "width": 800,
        "xaxis": {
         "anchor": "y",
         "domain": [
          0,
          1
         ],
         "title": {
          "text": "pricegroup"
         }
        },
        "yaxis": {
         "anchor": "x",
         "domain": [
          0,
          1
         ],
         "title": {
          "text": "Seller"
         },
         "type": "category"
        }
       }
      }
     },
     "metadata": {},
     "output_type": "display_data"
    }
   ],
   "source": [
    "height = df[\"Seller\"].nunique() * 25\n",
    "\n",
    "dx[\"size\"] = dx[\"count\"] / 5\n",
    "\n",
    "fig = px.scatter(dx, x=\"pricegroup\", y=\"Seller\", title='Goods prices spread', color=\"Source\", size=\"size\", width=800, height=height)\n",
    "fig.update_yaxes(type='category')\n",
    "fig.show()"
   ]
  },
  {
   "cell_type": "code",
   "execution_count": 90,
   "metadata": {},
   "outputs": [
    {
     "data": {
      "application/vnd.plotly.v1+json": {
       "config": {
        "plotlyServerURL": "https://plot.ly"
       },
       "data": [
        {
         "domain": {
          "x": [
           0,
           1
          ],
          "y": [
           0,
           1
          ]
         },
         "hovertemplate": "In Stock=%{value}<extra></extra>",
         "legendgroup": "",
         "name": "",
         "showlegend": false,
         "type": "pie",
         "values": [
          37
         ]
        }
       ],
       "layout": {
        "legend": {
         "tracegroupgap": 0
        },
        "margin": {
         "t": 60
        },
        "template": {
         "data": {
          "bar": [
           {
            "error_x": {
             "color": "#2a3f5f"
            },
            "error_y": {
             "color": "#2a3f5f"
            },
            "marker": {
             "line": {
              "color": "#E5ECF6",
              "width": 0.5
             },
             "pattern": {
              "fillmode": "overlay",
              "size": 10,
              "solidity": 0.2
             }
            },
            "type": "bar"
           }
          ],
          "barpolar": [
           {
            "marker": {
             "line": {
              "color": "#E5ECF6",
              "width": 0.5
             },
             "pattern": {
              "fillmode": "overlay",
              "size": 10,
              "solidity": 0.2
             }
            },
            "type": "barpolar"
           }
          ],
          "carpet": [
           {
            "aaxis": {
             "endlinecolor": "#2a3f5f",
             "gridcolor": "white",
             "linecolor": "white",
             "minorgridcolor": "white",
             "startlinecolor": "#2a3f5f"
            },
            "baxis": {
             "endlinecolor": "#2a3f5f",
             "gridcolor": "white",
             "linecolor": "white",
             "minorgridcolor": "white",
             "startlinecolor": "#2a3f5f"
            },
            "type": "carpet"
           }
          ],
          "choropleth": [
           {
            "colorbar": {
             "outlinewidth": 0,
             "ticks": ""
            },
            "type": "choropleth"
           }
          ],
          "contour": [
           {
            "colorbar": {
             "outlinewidth": 0,
             "ticks": ""
            },
            "colorscale": [
             [
              0,
              "#0d0887"
             ],
             [
              0.1111111111111111,
              "#46039f"
             ],
             [
              0.2222222222222222,
              "#7201a8"
             ],
             [
              0.3333333333333333,
              "#9c179e"
             ],
             [
              0.4444444444444444,
              "#bd3786"
             ],
             [
              0.5555555555555556,
              "#d8576b"
             ],
             [
              0.6666666666666666,
              "#ed7953"
             ],
             [
              0.7777777777777778,
              "#fb9f3a"
             ],
             [
              0.8888888888888888,
              "#fdca26"
             ],
             [
              1,
              "#f0f921"
             ]
            ],
            "type": "contour"
           }
          ],
          "contourcarpet": [
           {
            "colorbar": {
             "outlinewidth": 0,
             "ticks": ""
            },
            "type": "contourcarpet"
           }
          ],
          "heatmap": [
           {
            "colorbar": {
             "outlinewidth": 0,
             "ticks": ""
            },
            "colorscale": [
             [
              0,
              "#0d0887"
             ],
             [
              0.1111111111111111,
              "#46039f"
             ],
             [
              0.2222222222222222,
              "#7201a8"
             ],
             [
              0.3333333333333333,
              "#9c179e"
             ],
             [
              0.4444444444444444,
              "#bd3786"
             ],
             [
              0.5555555555555556,
              "#d8576b"
             ],
             [
              0.6666666666666666,
              "#ed7953"
             ],
             [
              0.7777777777777778,
              "#fb9f3a"
             ],
             [
              0.8888888888888888,
              "#fdca26"
             ],
             [
              1,
              "#f0f921"
             ]
            ],
            "type": "heatmap"
           }
          ],
          "heatmapgl": [
           {
            "colorbar": {
             "outlinewidth": 0,
             "ticks": ""
            },
            "colorscale": [
             [
              0,
              "#0d0887"
             ],
             [
              0.1111111111111111,
              "#46039f"
             ],
             [
              0.2222222222222222,
              "#7201a8"
             ],
             [
              0.3333333333333333,
              "#9c179e"
             ],
             [
              0.4444444444444444,
              "#bd3786"
             ],
             [
              0.5555555555555556,
              "#d8576b"
             ],
             [
              0.6666666666666666,
              "#ed7953"
             ],
             [
              0.7777777777777778,
              "#fb9f3a"
             ],
             [
              0.8888888888888888,
              "#fdca26"
             ],
             [
              1,
              "#f0f921"
             ]
            ],
            "type": "heatmapgl"
           }
          ],
          "histogram": [
           {
            "marker": {
             "pattern": {
              "fillmode": "overlay",
              "size": 10,
              "solidity": 0.2
             }
            },
            "type": "histogram"
           }
          ],
          "histogram2d": [
           {
            "colorbar": {
             "outlinewidth": 0,
             "ticks": ""
            },
            "colorscale": [
             [
              0,
              "#0d0887"
             ],
             [
              0.1111111111111111,
              "#46039f"
             ],
             [
              0.2222222222222222,
              "#7201a8"
             ],
             [
              0.3333333333333333,
              "#9c179e"
             ],
             [
              0.4444444444444444,
              "#bd3786"
             ],
             [
              0.5555555555555556,
              "#d8576b"
             ],
             [
              0.6666666666666666,
              "#ed7953"
             ],
             [
              0.7777777777777778,
              "#fb9f3a"
             ],
             [
              0.8888888888888888,
              "#fdca26"
             ],
             [
              1,
              "#f0f921"
             ]
            ],
            "type": "histogram2d"
           }
          ],
          "histogram2dcontour": [
           {
            "colorbar": {
             "outlinewidth": 0,
             "ticks": ""
            },
            "colorscale": [
             [
              0,
              "#0d0887"
             ],
             [
              0.1111111111111111,
              "#46039f"
             ],
             [
              0.2222222222222222,
              "#7201a8"
             ],
             [
              0.3333333333333333,
              "#9c179e"
             ],
             [
              0.4444444444444444,
              "#bd3786"
             ],
             [
              0.5555555555555556,
              "#d8576b"
             ],
             [
              0.6666666666666666,
              "#ed7953"
             ],
             [
              0.7777777777777778,
              "#fb9f3a"
             ],
             [
              0.8888888888888888,
              "#fdca26"
             ],
             [
              1,
              "#f0f921"
             ]
            ],
            "type": "histogram2dcontour"
           }
          ],
          "mesh3d": [
           {
            "colorbar": {
             "outlinewidth": 0,
             "ticks": ""
            },
            "type": "mesh3d"
           }
          ],
          "parcoords": [
           {
            "line": {
             "colorbar": {
              "outlinewidth": 0,
              "ticks": ""
             }
            },
            "type": "parcoords"
           }
          ],
          "pie": [
           {
            "automargin": true,
            "type": "pie"
           }
          ],
          "scatter": [
           {
            "fillpattern": {
             "fillmode": "overlay",
             "size": 10,
             "solidity": 0.2
            },
            "type": "scatter"
           }
          ],
          "scatter3d": [
           {
            "line": {
             "colorbar": {
              "outlinewidth": 0,
              "ticks": ""
             }
            },
            "marker": {
             "colorbar": {
              "outlinewidth": 0,
              "ticks": ""
             }
            },
            "type": "scatter3d"
           }
          ],
          "scattercarpet": [
           {
            "marker": {
             "colorbar": {
              "outlinewidth": 0,
              "ticks": ""
             }
            },
            "type": "scattercarpet"
           }
          ],
          "scattergeo": [
           {
            "marker": {
             "colorbar": {
              "outlinewidth": 0,
              "ticks": ""
             }
            },
            "type": "scattergeo"
           }
          ],
          "scattergl": [
           {
            "marker": {
             "colorbar": {
              "outlinewidth": 0,
              "ticks": ""
             }
            },
            "type": "scattergl"
           }
          ],
          "scattermapbox": [
           {
            "marker": {
             "colorbar": {
              "outlinewidth": 0,
              "ticks": ""
             }
            },
            "type": "scattermapbox"
           }
          ],
          "scatterpolar": [
           {
            "marker": {
             "colorbar": {
              "outlinewidth": 0,
              "ticks": ""
             }
            },
            "type": "scatterpolar"
           }
          ],
          "scatterpolargl": [
           {
            "marker": {
             "colorbar": {
              "outlinewidth": 0,
              "ticks": ""
             }
            },
            "type": "scatterpolargl"
           }
          ],
          "scatterternary": [
           {
            "marker": {
             "colorbar": {
              "outlinewidth": 0,
              "ticks": ""
             }
            },
            "type": "scatterternary"
           }
          ],
          "surface": [
           {
            "colorbar": {
             "outlinewidth": 0,
             "ticks": ""
            },
            "colorscale": [
             [
              0,
              "#0d0887"
             ],
             [
              0.1111111111111111,
              "#46039f"
             ],
             [
              0.2222222222222222,
              "#7201a8"
             ],
             [
              0.3333333333333333,
              "#9c179e"
             ],
             [
              0.4444444444444444,
              "#bd3786"
             ],
             [
              0.5555555555555556,
              "#d8576b"
             ],
             [
              0.6666666666666666,
              "#ed7953"
             ],
             [
              0.7777777777777778,
              "#fb9f3a"
             ],
             [
              0.8888888888888888,
              "#fdca26"
             ],
             [
              1,
              "#f0f921"
             ]
            ],
            "type": "surface"
           }
          ],
          "table": [
           {
            "cells": {
             "fill": {
              "color": "#EBF0F8"
             },
             "line": {
              "color": "white"
             }
            },
            "header": {
             "fill": {
              "color": "#C8D4E3"
             },
             "line": {
              "color": "white"
             }
            },
            "type": "table"
           }
          ]
         },
         "layout": {
          "annotationdefaults": {
           "arrowcolor": "#2a3f5f",
           "arrowhead": 0,
           "arrowwidth": 1
          },
          "autotypenumbers": "strict",
          "coloraxis": {
           "colorbar": {
            "outlinewidth": 0,
            "ticks": ""
           }
          },
          "colorscale": {
           "diverging": [
            [
             0,
             "#8e0152"
            ],
            [
             0.1,
             "#c51b7d"
            ],
            [
             0.2,
             "#de77ae"
            ],
            [
             0.3,
             "#f1b6da"
            ],
            [
             0.4,
             "#fde0ef"
            ],
            [
             0.5,
             "#f7f7f7"
            ],
            [
             0.6,
             "#e6f5d0"
            ],
            [
             0.7,
             "#b8e186"
            ],
            [
             0.8,
             "#7fbc41"
            ],
            [
             0.9,
             "#4d9221"
            ],
            [
             1,
             "#276419"
            ]
           ],
           "sequential": [
            [
             0,
             "#0d0887"
            ],
            [
             0.1111111111111111,
             "#46039f"
            ],
            [
             0.2222222222222222,
             "#7201a8"
            ],
            [
             0.3333333333333333,
             "#9c179e"
            ],
            [
             0.4444444444444444,
             "#bd3786"
            ],
            [
             0.5555555555555556,
             "#d8576b"
            ],
            [
             0.6666666666666666,
             "#ed7953"
            ],
            [
             0.7777777777777778,
             "#fb9f3a"
            ],
            [
             0.8888888888888888,
             "#fdca26"
            ],
            [
             1,
             "#f0f921"
            ]
           ],
           "sequentialminus": [
            [
             0,
             "#0d0887"
            ],
            [
             0.1111111111111111,
             "#46039f"
            ],
            [
             0.2222222222222222,
             "#7201a8"
            ],
            [
             0.3333333333333333,
             "#9c179e"
            ],
            [
             0.4444444444444444,
             "#bd3786"
            ],
            [
             0.5555555555555556,
             "#d8576b"
            ],
            [
             0.6666666666666666,
             "#ed7953"
            ],
            [
             0.7777777777777778,
             "#fb9f3a"
            ],
            [
             0.8888888888888888,
             "#fdca26"
            ],
            [
             1,
             "#f0f921"
            ]
           ]
          },
          "colorway": [
           "#636efa",
           "#EF553B",
           "#00cc96",
           "#ab63fa",
           "#FFA15A",
           "#19d3f3",
           "#FF6692",
           "#B6E880",
           "#FF97FF",
           "#FECB52"
          ],
          "font": {
           "color": "#2a3f5f"
          },
          "geo": {
           "bgcolor": "white",
           "lakecolor": "white",
           "landcolor": "#E5ECF6",
           "showlakes": true,
           "showland": true,
           "subunitcolor": "white"
          },
          "hoverlabel": {
           "align": "left"
          },
          "hovermode": "closest",
          "mapbox": {
           "style": "light"
          },
          "paper_bgcolor": "white",
          "plot_bgcolor": "#E5ECF6",
          "polar": {
           "angularaxis": {
            "gridcolor": "white",
            "linecolor": "white",
            "ticks": ""
           },
           "bgcolor": "#E5ECF6",
           "radialaxis": {
            "gridcolor": "white",
            "linecolor": "white",
            "ticks": ""
           }
          },
          "scene": {
           "xaxis": {
            "backgroundcolor": "#E5ECF6",
            "gridcolor": "white",
            "gridwidth": 2,
            "linecolor": "white",
            "showbackground": true,
            "ticks": "",
            "zerolinecolor": "white"
           },
           "yaxis": {
            "backgroundcolor": "#E5ECF6",
            "gridcolor": "white",
            "gridwidth": 2,
            "linecolor": "white",
            "showbackground": true,
            "ticks": "",
            "zerolinecolor": "white"
           },
           "zaxis": {
            "backgroundcolor": "#E5ECF6",
            "gridcolor": "white",
            "gridwidth": 2,
            "linecolor": "white",
            "showbackground": true,
            "ticks": "",
            "zerolinecolor": "white"
           }
          },
          "shapedefaults": {
           "line": {
            "color": "#2a3f5f"
           }
          },
          "ternary": {
           "aaxis": {
            "gridcolor": "white",
            "linecolor": "white",
            "ticks": ""
           },
           "baxis": {
            "gridcolor": "white",
            "linecolor": "white",
            "ticks": ""
           },
           "bgcolor": "#E5ECF6",
           "caxis": {
            "gridcolor": "white",
            "linecolor": "white",
            "ticks": ""
           }
          },
          "title": {
           "x": 0.05
          },
          "xaxis": {
           "automargin": true,
           "gridcolor": "white",
           "linecolor": "white",
           "ticks": "",
           "title": {
            "standoff": 15
           },
           "zerolinecolor": "white",
           "zerolinewidth": 2
          },
          "yaxis": {
           "automargin": true,
           "gridcolor": "white",
           "linecolor": "white",
           "ticks": "",
           "title": {
            "standoff": 15
           },
           "zerolinecolor": "white",
           "zerolinewidth": 2
          }
         }
        }
       }
      }
     },
     "metadata": {},
     "output_type": "display_data"
    }
   ],
   "source": [
    "d1 = df[df.Seller == 'zont-msk.ru']\n",
    "d2 = d1.groupby(\"Top Offer\").count()\n",
    "\n",
    "d2.head()\n",
    "\n",
    "\n",
    "fig = px.pie(d2, values=\"In Stock\")\n",
    "fig.show()\n"
   ]
  },
  {
   "cell_type": "code",
   "execution_count": 91,
   "metadata": {},
   "outputs": [],
   "source": [
    "\n",
    "dold = pd.read_csv(\"./export01-03-2023.csv\", sep=\";\")\n",
    "\n",
    "dold = dold[dold.Price < 10000]\n",
    "\n",
    "dold[\"rank\"] = dold.groupby(\"Seller\")[\"Price\"].rank()\n",
    "\n",
    "dold = dold.set_index([\"Model\", \"Seller\", \"Source\"])\n"
   ]
  },
  {
   "cell_type": "code",
   "execution_count": 92,
   "metadata": {},
   "outputs": [
    {
     "data": {
      "text/html": [
       "<div>\n",
       "<style scoped>\n",
       "    .dataframe tbody tr th:only-of-type {\n",
       "        vertical-align: middle;\n",
       "    }\n",
       "\n",
       "    .dataframe tbody tr th {\n",
       "        vertical-align: top;\n",
       "    }\n",
       "\n",
       "    .dataframe thead th {\n",
       "        text-align: right;\n",
       "    }\n",
       "</style>\n",
       "<table border=\"1\" class=\"dataframe\">\n",
       "  <thead>\n",
       "    <tr style=\"text-align: right;\">\n",
       "      <th></th>\n",
       "      <th></th>\n",
       "      <th></th>\n",
       "      <th>index</th>\n",
       "      <th>Model name</th>\n",
       "      <th>Link</th>\n",
       "      <th>Price</th>\n",
       "      <th>Top Offer</th>\n",
       "      <th>In Stock</th>\n",
       "      <th>Category</th>\n",
       "      <th>Rating</th>\n",
       "      <th>Number of reviews</th>\n",
       "      <th>rank</th>\n",
       "      <th>pricegroup</th>\n",
       "      <th>count</th>\n",
       "    </tr>\n",
       "    <tr>\n",
       "      <th>Model</th>\n",
       "      <th>Seller</th>\n",
       "      <th>Source</th>\n",
       "      <th></th>\n",
       "      <th></th>\n",
       "      <th></th>\n",
       "      <th></th>\n",
       "      <th></th>\n",
       "      <th></th>\n",
       "      <th></th>\n",
       "      <th></th>\n",
       "      <th></th>\n",
       "      <th></th>\n",
       "      <th></th>\n",
       "      <th></th>\n",
       "    </tr>\n",
       "  </thead>\n",
       "  <tbody>\n",
       "    <tr>\n",
       "      <th>1492834403</th>\n",
       "      <th>Sumochkin</th>\n",
       "      <th>market.yandex</th>\n",
       "      <td>0</td>\n",
       "      <td>Зонт мужской Три Слона 8105 (910), 10 спиц, по...</td>\n",
       "      <td>https://market.yandex.ru/product--zont-muzhsko...</td>\n",
       "      <td>1890.0</td>\n",
       "      <td>1</td>\n",
       "      <td>1</td>\n",
       "      <td>NaN</td>\n",
       "      <td>4.6</td>\n",
       "      <td>12.0</td>\n",
       "      <td>4.5</td>\n",
       "      <td>1900.0</td>\n",
       "      <td>1</td>\n",
       "    </tr>\n",
       "    <tr>\n",
       "      <th>1665944136</th>\n",
       "      <th>Sumochkin</th>\n",
       "      <th>market.yandex</th>\n",
       "      <td>1</td>\n",
       "      <td>Зонт Три слона большой семейный черный мужской...</td>\n",
       "      <td>https://market.yandex.ru/product--zont-tri-slo...</td>\n",
       "      <td>2199.0</td>\n",
       "      <td>1</td>\n",
       "      <td>1</td>\n",
       "      <td>NaN</td>\n",
       "      <td>5.0</td>\n",
       "      <td>2.0</td>\n",
       "      <td>17.5</td>\n",
       "      <td>2200.0</td>\n",
       "      <td>1</td>\n",
       "    </tr>\n",
       "    <tr>\n",
       "      <th>1451168149</th>\n",
       "      <th>Зонты.ру</th>\n",
       "      <th>market.yandex</th>\n",
       "      <td>2</td>\n",
       "      <td>Мужской зонтик Три слона M5600</td>\n",
       "      <td>https://market.yandex.ru/product--muzhskoi-zon...</td>\n",
       "      <td>1550.0</td>\n",
       "      <td>1</td>\n",
       "      <td>1</td>\n",
       "      <td>NaN</td>\n",
       "      <td>5.0</td>\n",
       "      <td>1.0</td>\n",
       "      <td>5.5</td>\n",
       "      <td>1600.0</td>\n",
       "      <td>1</td>\n",
       "    </tr>\n",
       "    <tr>\n",
       "      <th>1811731265</th>\n",
       "      <th>ZontyPskov.ru</th>\n",
       "      <th>market.yandex</th>\n",
       "      <td>3</td>\n",
       "      <td>Мужской зонт семейный Три слона, 123 см! полны...</td>\n",
       "      <td>https://market.yandex.ru/product--muzhskoi-zon...</td>\n",
       "      <td>3050.0</td>\n",
       "      <td>1</td>\n",
       "      <td>1</td>\n",
       "      <td>NaN</td>\n",
       "      <td>0.0</td>\n",
       "      <td>0.0</td>\n",
       "      <td>48.5</td>\n",
       "      <td>3000.0</td>\n",
       "      <td>1</td>\n",
       "    </tr>\n",
       "    <tr>\n",
       "      <th>1776309432</th>\n",
       "      <th>ZontyPskov.ru</th>\n",
       "      <th>market.yandex</th>\n",
       "      <td>4</td>\n",
       "      <td>Зонт-трость полуавтомат Три слона 2160</td>\n",
       "      <td>https://market.yandex.ru/product--zont-trost-p...</td>\n",
       "      <td>2430.0</td>\n",
       "      <td>1</td>\n",
       "      <td>1</td>\n",
       "      <td>NaN</td>\n",
       "      <td>4.9</td>\n",
       "      <td>12.0</td>\n",
       "      <td>22.0</td>\n",
       "      <td>2400.0</td>\n",
       "      <td>1</td>\n",
       "    </tr>\n",
       "  </tbody>\n",
       "</table>\n",
       "</div>"
      ],
      "text/plain": [
       "                                        index  \\\n",
       "Model      Seller        Source                 \n",
       "1492834403 Sumochkin     market.yandex      0   \n",
       "1665944136 Sumochkin     market.yandex      1   \n",
       "1451168149 Зонты.ру      market.yandex      2   \n",
       "1811731265 ZontyPskov.ru market.yandex      3   \n",
       "1776309432 ZontyPskov.ru market.yandex      4   \n",
       "\n",
       "                                                                               Model name  \\\n",
       "Model      Seller        Source                                                             \n",
       "1492834403 Sumochkin     market.yandex  Зонт мужской Три Слона 8105 (910), 10 спиц, по...   \n",
       "1665944136 Sumochkin     market.yandex  Зонт Три слона большой семейный черный мужской...   \n",
       "1451168149 Зонты.ру      market.yandex                     Мужской зонтик Три слона M5600   \n",
       "1811731265 ZontyPskov.ru market.yandex  Мужской зонт семейный Три слона, 123 см! полны...   \n",
       "1776309432 ZontyPskov.ru market.yandex             Зонт-трость полуавтомат Три слона 2160   \n",
       "\n",
       "                                                                                     Link  \\\n",
       "Model      Seller        Source                                                             \n",
       "1492834403 Sumochkin     market.yandex  https://market.yandex.ru/product--zont-muzhsko...   \n",
       "1665944136 Sumochkin     market.yandex  https://market.yandex.ru/product--zont-tri-slo...   \n",
       "1451168149 Зонты.ру      market.yandex  https://market.yandex.ru/product--muzhskoi-zon...   \n",
       "1811731265 ZontyPskov.ru market.yandex  https://market.yandex.ru/product--muzhskoi-zon...   \n",
       "1776309432 ZontyPskov.ru market.yandex  https://market.yandex.ru/product--zont-trost-p...   \n",
       "\n",
       "                                         Price  Top Offer  In Stock Category  \\\n",
       "Model      Seller        Source                                                \n",
       "1492834403 Sumochkin     market.yandex  1890.0          1         1      NaN   \n",
       "1665944136 Sumochkin     market.yandex  2199.0          1         1      NaN   \n",
       "1451168149 Зонты.ру      market.yandex  1550.0          1         1      NaN   \n",
       "1811731265 ZontyPskov.ru market.yandex  3050.0          1         1      NaN   \n",
       "1776309432 ZontyPskov.ru market.yandex  2430.0          1         1      NaN   \n",
       "\n",
       "                                        Rating  Number of reviews  rank  \\\n",
       "Model      Seller        Source                                           \n",
       "1492834403 Sumochkin     market.yandex     4.6               12.0   4.5   \n",
       "1665944136 Sumochkin     market.yandex     5.0                2.0  17.5   \n",
       "1451168149 Зонты.ру      market.yandex     5.0                1.0   5.5   \n",
       "1811731265 ZontyPskov.ru market.yandex     0.0                0.0  48.5   \n",
       "1776309432 ZontyPskov.ru market.yandex     4.9               12.0  22.0   \n",
       "\n",
       "                                        pricegroup  count  \n",
       "Model      Seller        Source                            \n",
       "1492834403 Sumochkin     market.yandex      1900.0      1  \n",
       "1665944136 Sumochkin     market.yandex      2200.0      1  \n",
       "1451168149 Зонты.ру      market.yandex      1600.0      1  \n",
       "1811731265 ZontyPskov.ru market.yandex      3000.0      1  \n",
       "1776309432 ZontyPskov.ru market.yandex      2400.0      1  "
      ]
     },
     "execution_count": 92,
     "metadata": {},
     "output_type": "execute_result"
    }
   ],
   "source": [
    "df.reset_index(inplace=True)\n",
    "df = df.set_index([\"Model\", \"Seller\", \"Source\"])\n",
    "df.head()\n"
   ]
  },
  {
   "cell_type": "code",
   "execution_count": 100,
   "metadata": {},
   "outputs": [],
   "source": [
    "df[\"Date\"] = \"02-03-2023\"\n",
    "dold[\"Date\"] = \"01-03-2023\"\n",
    "\n",
    "dmerged = df.join(dold, rsuffix=\"_old\")\n",
    "dmerged.head()\n",
    "\n",
    "dchanged = dmerged[(dmerged.Price != dmerged.Price_old) | (dmerged[\"In Stock\"] != dmerged[\"In Stock_old\"])]\n",
    "\n",
    "dchanged2 = dchanged[[\"Date\", \"Price\", \"In Stock\", \"Date_old\", \"Price_old\", \"In Stock_old\"]]\n",
    "dchanged2.head()\n",
    "dchanged2.to_csv(\"changed.csv\", index=True, sep=\";\")\n"
   ]
  },
  {
   "cell_type": "code",
   "execution_count": 101,
   "metadata": {},
   "outputs": [
    {
     "data": {
      "application/vnd.plotly.v1+json": {
       "config": {
        "plotlyServerURL": "https://plot.ly"
       },
       "data": [
        {
         "hovertemplate": "Model name=Зонт мужской Три Слона 8105 (910), 10 спиц, полный автомат<br>Old=%{x}<br>Price=%{y}<extra></extra>",
         "legendgroup": "Зонт мужской Три Слона 8105 (910), 10 спиц, полный автомат",
         "line": {
          "color": "#636efa",
          "dash": "solid"
         },
         "marker": {
          "symbol": "circle"
         },
         "mode": "lines",
         "name": "Зонт мужской Три Слона 8105 (910), 10 спиц, полный автомат",
         "orientation": "v",
         "showlegend": true,
         "type": "scatter",
         "x": [
          0,
          0,
          0,
          1,
          1
         ],
         "xaxis": "x",
         "y": [
          1890,
          2169,
          1890,
          1890,
          2169
         ],
         "yaxis": "y"
        },
        {
         "hovertemplate": "Model name=Мужской зонтик Три слона M5600<br>Old=%{x}<br>Price=%{y}<extra></extra>",
         "legendgroup": "Мужской зонтик Три слона M5600",
         "line": {
          "color": "#EF553B",
          "dash": "solid"
         },
         "marker": {
          "symbol": "circle"
         },
         "mode": "lines",
         "name": "Мужской зонтик Три слона M5600",
         "orientation": "v",
         "showlegend": true,
         "type": "scatter",
         "x": [
          0,
          1
         ],
         "xaxis": "x",
         "y": [
          1550,
          1760
         ],
         "yaxis": "y"
        },
        {
         "hovertemplate": "Model name=Зонт-трость полуавтомат Три слона 2160<br>Old=%{x}<br>Price=%{y}<extra></extra>",
         "legendgroup": "Зонт-трость полуавтомат Три слона 2160",
         "line": {
          "color": "#00cc96",
          "dash": "solid"
         },
         "marker": {
          "symbol": "circle"
         },
         "mode": "lines",
         "name": "Зонт-трость полуавтомат Три слона 2160",
         "orientation": "v",
         "showlegend": true,
         "type": "scatter",
         "x": [
          0,
          1
         ],
         "xaxis": "x",
         "y": [
          2430,
          2241
         ],
         "yaxis": "y"
        },
        {
         "hovertemplate": "Model name=Три слона Мужской складной зонт Три слона с большим куполом-121 см! арт.7820<br>Old=%{x}<br>Price=%{y}<extra></extra>",
         "legendgroup": "Три слона Мужской складной зонт Три слона с большим куполом-121 см! арт.7820",
         "line": {
          "color": "#ab63fa",
          "dash": "solid"
         },
         "marker": {
          "symbol": "circle"
         },
         "mode": "lines",
         "name": "Три слона Мужской складной зонт Три слона с большим куполом-121 см! арт.7820",
         "orientation": "v",
         "showlegend": true,
         "type": "scatter",
         "x": [
          0,
          0,
          0,
          1,
          1,
          1
         ],
         "xaxis": "x",
         "y": [
          2290,
          2290,
          2655,
          2290,
          2542,
          2655
         ],
         "yaxis": "y"
        },
        {
         "hovertemplate": "Model name=Зонт мужской Три Слона арт. M5795<br>Old=%{x}<br>Price=%{y}<extra></extra>",
         "legendgroup": "Зонт мужской Три Слона арт. M5795",
         "line": {
          "color": "#FFA15A",
          "dash": "solid"
         },
         "marker": {
          "symbol": "circle"
         },
         "mode": "lines",
         "name": "Зонт мужской Три Слона арт. M5795",
         "orientation": "v",
         "showlegend": true,
         "type": "scatter",
         "x": [
          0,
          0,
          0,
          1,
          1,
          1
         ],
         "xaxis": "x",
         "y": [
          1710,
          1550,
          1785,
          1710,
          1710,
          1785
         ],
         "yaxis": "y"
        },
        {
         "hovertemplate": "Model name=Зонт автомат Три слона M6800<br>Old=%{x}<br>Price=%{y}<extra></extra>",
         "legendgroup": "Зонт автомат Три слона M6800",
         "line": {
          "color": "#19d3f3",
          "dash": "solid"
         },
         "marker": {
          "symbol": "circle"
         },
         "mode": "lines",
         "name": "Зонт автомат Три слона M6800",
         "orientation": "v",
         "showlegend": true,
         "type": "scatter",
         "x": [
          0,
          0,
          1
         ],
         "xaxis": "x",
         "y": [
          1920,
          1930,
          1920
         ],
         "yaxis": "y"
        },
        {
         "hovertemplate": "Model name=Мужской зонт Три слона, 10 спиц, полный автомат, арт.6100<br>Old=%{x}<br>Price=%{y}<extra></extra>",
         "legendgroup": "Мужской зонт Три слона, 10 спиц, полный автомат, арт.6100",
         "line": {
          "color": "#FF6692",
          "dash": "solid"
         },
         "marker": {
          "symbol": "circle"
         },
         "mode": "lines",
         "name": "Мужской зонт Три слона, 10 спиц, полный автомат, арт.6100",
         "orientation": "v",
         "showlegend": true,
         "type": "scatter",
         "x": [
          0,
          0,
          0,
          1,
          1,
          1
         ],
         "xaxis": "x",
         "y": [
          2200,
          2200,
          2399,
          2200,
          2200,
          2399
         ],
         "yaxis": "y"
        },
        {
         "hovertemplate": "Model name=Мужской зонт Три слона M8120<br>Old=%{x}<br>Price=%{y}<extra></extra>",
         "legendgroup": "Мужской зонт Три слона M8120",
         "line": {
          "color": "#B6E880",
          "dash": "solid"
         },
         "marker": {
          "symbol": "circle"
         },
         "mode": "lines",
         "name": "Мужской зонт Три слона M8120",
         "orientation": "v",
         "showlegend": true,
         "type": "scatter",
         "x": [
          0,
          0,
          0,
          0,
          1,
          1,
          1
         ],
         "xaxis": "x",
         "y": [
          1999,
          1999,
          1999,
          1999,
          1999,
          1999,
          1999
         ],
         "yaxis": "y"
        },
        {
         "hovertemplate": "Model name=Три слона Мужской зонт Три слона, 10 спиц, купол-115см, Автомат, арт.6105<br>Old=%{x}<br>Price=%{y}<extra></extra>",
         "legendgroup": "Три слона Мужской зонт Три слона, 10 спиц, купол-115см, Автомат, арт.6105",
         "line": {
          "color": "#FF97FF",
          "dash": "solid"
         },
         "marker": {
          "symbol": "circle"
         },
         "mode": "lines",
         "name": "Три слона Мужской зонт Три слона, 10 спиц, купол-115см, Автомат, арт.6105",
         "orientation": "v",
         "showlegend": true,
         "type": "scatter",
         "x": [
          0,
          0,
          0,
          1,
          1
         ],
         "xaxis": "x",
         "y": [
          2400,
          2400,
          2150,
          2150,
          2400
         ],
         "yaxis": "y"
        },
        {
         "hovertemplate": "Model name=Большой зонт Три слона M7820<br>Old=%{x}<br>Price=%{y}<extra></extra>",
         "legendgroup": "Большой зонт Три слона M7820",
         "line": {
          "color": "#FECB52",
          "dash": "solid"
         },
         "marker": {
          "symbol": "circle"
         },
         "mode": "lines",
         "name": "Большой зонт Три слона M7820",
         "orientation": "v",
         "showlegend": true,
         "type": "scatter",
         "x": [
          0,
          1
         ],
         "xaxis": "x",
         "y": [
          2190,
          2620
         ],
         "yaxis": "y"
        },
        {
         "hovertemplate": "Model name=Зонт женский Три Слона арт. L3898-B<br>Old=%{x}<br>Price=%{y}<extra></extra>",
         "legendgroup": "Зонт женский Три Слона арт. L3898-B",
         "line": {
          "color": "#636efa",
          "dash": "solid"
         },
         "marker": {
          "symbol": "circle"
         },
         "mode": "lines",
         "name": "Зонт женский Три Слона арт. L3898-B",
         "orientation": "v",
         "showlegend": true,
         "type": "scatter",
         "x": [
          0,
          1
         ],
         "xaxis": "x",
         "y": [
          1699,
          1788
         ],
         "yaxis": "y"
        },
        {
         "hovertemplate": "Model name=Женский зонт панорамный Три слона L3851-05B<br>Old=%{x}<br>Price=%{y}<extra></extra>",
         "legendgroup": "Женский зонт панорамный Три слона L3851-05B",
         "line": {
          "color": "#EF553B",
          "dash": "solid"
         },
         "marker": {
          "symbol": "circle"
         },
         "mode": "lines",
         "name": "Женский зонт панорамный Три слона L3851-05B",
         "orientation": "v",
         "showlegend": true,
         "type": "scatter",
         "x": [
          0,
          1
         ],
         "xaxis": "x",
         "y": [
          1890,
          1890
         ],
         "yaxis": "y"
        },
        {
         "hovertemplate": "Model name=Женский зонт Три слона ¨Радуга¨, 12 спиц! полный автомат, 3 сл, арт. 3120<br>Old=%{x}<br>Price=%{y}<extra></extra>",
         "legendgroup": "Женский зонт Три слона ¨Радуга¨, 12 спиц! полный автомат, 3 сл, арт. 3120",
         "line": {
          "color": "#00cc96",
          "dash": "solid"
         },
         "marker": {
          "symbol": "circle"
         },
         "mode": "lines",
         "name": "Женский зонт Три слона ¨Радуга¨, 12 спиц! полный автомат, 3 сл, арт. 3120",
         "orientation": "v",
         "showlegend": true,
         "type": "scatter",
         "x": [
          0,
          1
         ],
         "xaxis": "x",
         "y": [
          3000,
          3000
         ],
         "yaxis": "y"
        },
        {
         "hovertemplate": "Model name=Зонт автомат Три слона 550<br>Old=%{x}<br>Price=%{y}<extra></extra>",
         "legendgroup": "Зонт автомат Три слона 550",
         "line": {
          "color": "#ab63fa",
          "dash": "solid"
         },
         "marker": {
          "symbol": "circle"
         },
         "mode": "lines",
         "name": "Зонт автомат Три слона 550",
         "orientation": "v",
         "showlegend": true,
         "type": "scatter",
         "x": [
          0,
          0,
          0,
          0,
          1,
          1,
          1,
          1
         ],
         "xaxis": "x",
         "y": [
          1600,
          1390,
          1700,
          1440,
          1440,
          1560,
          1700,
          1368
         ],
         "yaxis": "y"
        },
        {
         "hovertemplate": "Model name=Три слона Мужской зонт Три слона, полный автомат, арт.5790<br>Old=%{x}<br>Price=%{y}<extra></extra>",
         "legendgroup": "Три слона Мужской зонт Три слона, полный автомат, арт.5790",
         "line": {
          "color": "#FFA15A",
          "dash": "solid"
         },
         "marker": {
          "symbol": "circle"
         },
         "mode": "lines",
         "name": "Три слона Мужской зонт Три слона, полный автомат, арт.5790",
         "orientation": "v",
         "showlegend": true,
         "type": "scatter",
         "x": [
          0,
          0,
          0,
          0,
          1,
          1,
          1,
          1
         ],
         "xaxis": "x",
         "y": [
          1530,
          1600,
          1600,
          1530,
          1530,
          1600,
          1600,
          1530
         ],
         "yaxis": "y"
        },
        {
         "hovertemplate": "Model name=Зонт Три слона Мужской 8 спиц с крюком<br>Old=%{x}<br>Price=%{y}<extra></extra>",
         "legendgroup": "Зонт Три слона Мужской 8 спиц с крюком",
         "line": {
          "color": "#19d3f3",
          "dash": "solid"
         },
         "marker": {
          "symbol": "circle"
         },
         "mode": "lines",
         "name": "Зонт Три слона Мужской 8 спиц с крюком",
         "orientation": "v",
         "showlegend": true,
         "type": "scatter",
         "x": [
          0,
          0,
          1
         ],
         "xaxis": "x",
         "y": [
          1925,
          1925,
          1925
         ],
         "yaxis": "y"
        },
        {
         "hovertemplate": "Model name=Зонт мужской Три слона<br>Old=%{x}<br>Price=%{y}<extra></extra>",
         "legendgroup": "Зонт мужской Три слона",
         "line": {
          "color": "#FF6692",
          "dash": "solid"
         },
         "marker": {
          "symbol": "circle"
         },
         "mode": "lines",
         "name": "Зонт мужской Три слона",
         "orientation": "v",
         "showlegend": true,
         "type": "scatter",
         "x": [
          0,
          0,
          0,
          1,
          1
         ],
         "xaxis": "x",
         "y": [
          1760,
          1850,
          1601,
          1600,
          1850
         ],
         "yaxis": "y"
        },
        {
         "hovertemplate": "Model name=Женский зонт 16 спиц! Три Слона, полный автомат, 3 сл, арт.3161-4<br>Old=%{x}<br>Price=%{y}<extra></extra>",
         "legendgroup": "Женский зонт 16 спиц! Три Слона, полный автомат, 3 сл, арт.3161-4",
         "line": {
          "color": "#B6E880",
          "dash": "solid"
         },
         "marker": {
          "symbol": "circle"
         },
         "mode": "lines",
         "name": "Женский зонт 16 спиц! Три Слона, полный автомат, 3 сл, арт.3161-4",
         "orientation": "v",
         "showlegend": true,
         "type": "scatter",
         "x": [
          0,
          0,
          1,
          1
         ],
         "xaxis": "x",
         "y": [
          2600,
          3200,
          2600,
          3200
         ],
         "yaxis": "y"
        },
        {
         "hovertemplate": "Model name=Зонт Три слона 10 спиц х 58 см ручка прямая M8105<br>Old=%{x}<br>Price=%{y}<extra></extra>",
         "legendgroup": "Зонт Три слона 10 спиц х 58 см ручка прямая M8105",
         "line": {
          "color": "#FF97FF",
          "dash": "solid"
         },
         "marker": {
          "symbol": "circle"
         },
         "mode": "lines",
         "name": "Зонт Три слона 10 спиц х 58 см ручка прямая M8105",
         "orientation": "v",
         "showlegend": true,
         "type": "scatter",
         "x": [
          0,
          0,
          1,
          1
         ],
         "xaxis": "x",
         "y": [
          1890,
          1890,
          1890,
          1890
         ],
         "yaxis": "y"
        },
        {
         "hovertemplate": "Model name=Зонт автомат Три слона 795<br>Old=%{x}<br>Price=%{y}<extra></extra>",
         "legendgroup": "Зонт автомат Три слона 795",
         "line": {
          "color": "#FECB52",
          "dash": "solid"
         },
         "marker": {
          "symbol": "circle"
         },
         "mode": "lines",
         "name": "Зонт автомат Три слона 795",
         "orientation": "v",
         "showlegend": true,
         "type": "scatter",
         "x": [
          0,
          0,
          1
         ],
         "xaxis": "x",
         "y": [
          1990,
          1990,
          1791
         ],
         "yaxis": "y"
        },
        {
         "hovertemplate": "Model name=Зонт с усиленным каркасом Три слона L3100-05C/S<br>Old=%{x}<br>Price=%{y}<extra></extra>",
         "legendgroup": "Зонт с усиленным каркасом Три слона L3100-05C/S",
         "line": {
          "color": "#636efa",
          "dash": "solid"
         },
         "marker": {
          "symbol": "circle"
         },
         "mode": "lines",
         "name": "Зонт с усиленным каркасом Три слона L3100-05C/S",
         "orientation": "v",
         "showlegend": true,
         "type": "scatter",
         "x": [
          0,
          1
         ],
         "xaxis": "x",
         "y": [
          1790,
          1790
         ],
         "yaxis": "y"
        },
        {
         "hovertemplate": "Model name=Зонтик для женщин Три слона L3823-04A<br>Old=%{x}<br>Price=%{y}<extra></extra>",
         "legendgroup": "Зонтик для женщин Три слона L3823-04A",
         "line": {
          "color": "#EF553B",
          "dash": "solid"
         },
         "marker": {
          "symbol": "circle"
         },
         "mode": "lines",
         "name": "Зонтик для женщин Три слона L3823-04A",
         "orientation": "v",
         "showlegend": true,
         "type": "scatter",
         "x": [
          0,
          1
         ],
         "xaxis": "x",
         "y": [
          1690,
          1690
         ],
         "yaxis": "y"
        },
        {
         "hovertemplate": "Model name=Зонт женщины Три Слона, арт. 446076<br>Old=%{x}<br>Price=%{y}<extra></extra>",
         "legendgroup": "Зонт женщины Три Слона, арт. 446076",
         "line": {
          "color": "#00cc96",
          "dash": "solid"
         },
         "marker": {
          "symbol": "circle"
         },
         "mode": "lines",
         "name": "Зонт женщины Три Слона, арт. 446076",
         "orientation": "v",
         "showlegend": true,
         "type": "scatter",
         "x": [
          0,
          1
         ],
         "xaxis": "x",
         "y": [
          1699,
          1819
         ],
         "yaxis": "y"
        },
        {
         "hovertemplate": "Model name=unknown<br>Old=%{x}<br>Price=%{y}<extra></extra>",
         "legendgroup": "unknown",
         "line": {
          "color": "#ab63fa",
          "dash": "solid"
         },
         "marker": {
          "symbol": "circle"
         },
         "mode": "lines",
         "name": "unknown",
         "orientation": "v",
         "showlegend": true,
         "type": "scatter",
         "x": [
          0,
          1,
          1,
          1
         ],
         "xaxis": "x",
         "y": [
          2950,
          1990,
          2950,
          2010
         ],
         "yaxis": "y"
        },
        {
         "hovertemplate": "Model name=Зонт с тефлоном Три слона M6105<br>Old=%{x}<br>Price=%{y}<extra></extra>",
         "legendgroup": "Зонт с тефлоном Три слона M6105",
         "line": {
          "color": "#FFA15A",
          "dash": "solid"
         },
         "marker": {
          "symbol": "circle"
         },
         "mode": "lines",
         "name": "Зонт с тефлоном Три слона M6105",
         "orientation": "v",
         "showlegend": true,
         "type": "scatter",
         "x": [
          0,
          1
         ],
         "xaxis": "x",
         "y": [
          1990,
          2260
         ],
         "yaxis": "y"
        },
        {
         "hovertemplate": "Model name=Сатиновый зонт автомат Три слона L3882-12D<br>Old=%{x}<br>Price=%{y}<extra></extra>",
         "legendgroup": "Сатиновый зонт автомат Три слона L3882-12D",
         "line": {
          "color": "#19d3f3",
          "dash": "solid"
         },
         "marker": {
          "symbol": "circle"
         },
         "mode": "lines",
         "name": "Сатиновый зонт автомат Три слона L3882-12D",
         "orientation": "v",
         "showlegend": true,
         "type": "scatter",
         "x": [
          0,
          1
         ],
         "xaxis": "x",
         "y": [
          1390,
          1390
         ],
         "yaxis": "y"
        },
        {
         "hovertemplate": "Model name=Зонт женский ТРИ слона, 3 сложения автомат 3793-D-01 розовый<br>Old=%{x}<br>Price=%{y}<extra></extra>",
         "legendgroup": "Зонт женский ТРИ слона, 3 сложения автомат 3793-D-01 розовый",
         "line": {
          "color": "#FF6692",
          "dash": "solid"
         },
         "marker": {
          "symbol": "circle"
         },
         "mode": "lines",
         "name": "Зонт женский ТРИ слона, 3 сложения автомат 3793-D-01 розовый",
         "orientation": "v",
         "showlegend": true,
         "type": "scatter",
         "x": [
          0,
          1
         ],
         "xaxis": "x",
         "y": [
          2280,
          2280
         ],
         "yaxis": "y"
        },
        {
         "hovertemplate": "Model name=Зонт мужской Три Слона арт. M7840<br>Old=%{x}<br>Price=%{y}<extra></extra>",
         "legendgroup": "Зонт мужской Три Слона арт. M7840",
         "line": {
          "color": "#B6E880",
          "dash": "solid"
         },
         "marker": {
          "symbol": "circle"
         },
         "mode": "lines",
         "name": "Зонт мужской Три Слона арт. M7840",
         "orientation": "v",
         "showlegend": true,
         "type": "scatter",
         "x": [
          0,
          0,
          0,
          1,
          1
         ],
         "xaxis": "x",
         "y": [
          2010,
          2360,
          1413,
          2360,
          1413
         ],
         "yaxis": "y"
        },
        {
         "hovertemplate": "Model name=Теплоноситель этиленгликоль Тёплый дом -65<br>Old=%{x}<br>Price=%{y}<extra></extra>",
         "legendgroup": "Теплоноситель этиленгликоль Тёплый дом -65",
         "line": {
          "color": "#FF97FF",
          "dash": "solid"
         },
         "marker": {
          "symbol": "circle"
         },
         "mode": "lines",
         "name": "Теплоноситель этиленгликоль Тёплый дом -65",
         "orientation": "v",
         "showlegend": true,
         "type": "scatter",
         "x": [
          0,
          0,
          0,
          0,
          1,
          1,
          1
         ],
         "xaxis": "x",
         "y": [
          1100,
          2900,
          2724,
          2900,
          1100,
          2900,
          2724
         ],
         "yaxis": "y"
        },
        {
         "hovertemplate": "Model name=Три слона Мужской зонт Три слона, полный автомат, арт.5600<br>Old=%{x}<br>Price=%{y}<extra></extra>",
         "legendgroup": "Три слона Мужской зонт Три слона, полный автомат, арт.5600",
         "line": {
          "color": "#FECB52",
          "dash": "solid"
         },
         "marker": {
          "symbol": "circle"
         },
         "mode": "lines",
         "name": "Три слона Мужской зонт Три слона, полный автомат, арт.5600",
         "orientation": "v",
         "showlegend": true,
         "type": "scatter",
         "x": [
          0,
          0,
          0,
          1,
          1,
          1
         ],
         "xaxis": "x",
         "y": [
          1862,
          1862,
          2150,
          1862,
          1862,
          2150
         ],
         "yaxis": "y"
        },
        {
         "hovertemplate": "Model name=Зонт мужской Три Слона 1610 чёрный<br>Old=%{x}<br>Price=%{y}<extra></extra>",
         "legendgroup": "Зонт мужской Три Слона 1610 чёрный",
         "line": {
          "color": "#636efa",
          "dash": "solid"
         },
         "marker": {
          "symbol": "circle"
         },
         "mode": "lines",
         "name": "Зонт мужской Три Слона 1610 чёрный",
         "orientation": "v",
         "showlegend": true,
         "type": "scatter",
         "x": [
          0,
          0,
          1
         ],
         "xaxis": "x",
         "y": [
          2790,
          2699,
          2790
         ],
         "yaxis": "y"
        },
        {
         "hovertemplate": "Model name=Зонт складной женский автоматический Три Слона 3120 серый<br>Old=%{x}<br>Price=%{y}<extra></extra>",
         "legendgroup": "Зонт складной женский автоматический Три Слона 3120 серый",
         "line": {
          "color": "#EF553B",
          "dash": "solid"
         },
         "marker": {
          "symbol": "circle"
         },
         "mode": "lines",
         "name": "Зонт складной женский автоматический Три Слона 3120 серый",
         "orientation": "v",
         "showlegend": true,
         "type": "scatter",
         "x": [
          0,
          0,
          1
         ],
         "xaxis": "x",
         "y": [
          2600,
          3699,
          2600
         ],
         "yaxis": "y"
        },
        {
         "hovertemplate": "Model name=Зонт женский Три Слона 220-R бежевый<br>Old=%{x}<br>Price=%{y}<extra></extra>",
         "legendgroup": "Зонт женский Три Слона 220-R бежевый",
         "line": {
          "color": "#00cc96",
          "dash": "solid"
         },
         "marker": {
          "symbol": "circle"
         },
         "mode": "lines",
         "name": "Зонт женский Три Слона 220-R бежевый",
         "orientation": "v",
         "showlegend": true,
         "type": "scatter",
         "x": [
          0,
          1
         ],
         "xaxis": "x",
         "y": [
          4299,
          4299
         ],
         "yaxis": "y"
        },
        {
         "hovertemplate": "Model name=Зонт женский Три Слона 3846-A, бежевый, розовый<br>Old=%{x}<br>Price=%{y}<extra></extra>",
         "legendgroup": "Зонт женский Три Слона 3846-A, бежевый, розовый",
         "line": {
          "color": "#ab63fa",
          "dash": "solid"
         },
         "marker": {
          "symbol": "circle"
         },
         "mode": "lines",
         "name": "Зонт женский Три Слона 3846-A, бежевый, розовый",
         "orientation": "v",
         "showlegend": true,
         "type": "scatter",
         "x": [
          0,
          1
         ],
         "xaxis": "x",
         "y": [
          3299,
          3299
         ],
         "yaxis": "y"
        },
        {
         "hovertemplate": "Model name=Зонт складной женский автоматический Три Слона 3884-D белый<br>Old=%{x}<br>Price=%{y}<extra></extra>",
         "legendgroup": "Зонт складной женский автоматический Три Слона 3884-D белый",
         "line": {
          "color": "#FFA15A",
          "dash": "solid"
         },
         "marker": {
          "symbol": "circle"
         },
         "mode": "lines",
         "name": "Зонт складной женский автоматический Три Слона 3884-D белый",
         "orientation": "v",
         "showlegend": true,
         "type": "scatter",
         "x": [
          0,
          1
         ],
         "xaxis": "x",
         "y": [
          1999,
          1999
         ],
         "yaxis": "y"
        },
        {
         "hovertemplate": "Model name=Зонт складной унисекс автоматический Xiaomi Empty Valley Automatic Umbrella черный<br>Old=%{x}<br>Price=%{y}<extra></extra>",
         "legendgroup": "Зонт складной унисекс автоматический Xiaomi Empty Valley Automatic Umbrella черный",
         "line": {
          "color": "#19d3f3",
          "dash": "solid"
         },
         "marker": {
          "symbol": "circle"
         },
         "mode": "lines",
         "name": "Зонт складной унисекс автоматический Xiaomi Empty Valley Automatic Umbrella черный",
         "orientation": "v",
         "showlegend": true,
         "type": "scatter",
         "x": [
          0,
          0,
          1,
          1
         ],
         "xaxis": "x",
         "y": [
          1115,
          1249,
          1136,
          1249
         ],
         "yaxis": "y"
        },
        {
         "hovertemplate": "Model name=Зонт автомат Три слона L3765-D<br>Old=%{x}<br>Price=%{y}<extra></extra>",
         "legendgroup": "Зонт автомат Три слона L3765-D",
         "line": {
          "color": "#FF6692",
          "dash": "solid"
         },
         "marker": {
          "symbol": "circle"
         },
         "mode": "lines",
         "name": "Зонт автомат Три слона L3765-D",
         "orientation": "v",
         "showlegend": true,
         "type": "scatter",
         "x": [
          0,
          1
         ],
         "xaxis": "x",
         "y": [
          1337,
          1537
         ],
         "yaxis": "y"
        }
       ],
       "layout": {
        "legend": {
         "title": {
          "text": "Model name"
         },
         "tracegroupgap": 0
        },
        "template": {
         "data": {
          "bar": [
           {
            "error_x": {
             "color": "#2a3f5f"
            },
            "error_y": {
             "color": "#2a3f5f"
            },
            "marker": {
             "line": {
              "color": "#E5ECF6",
              "width": 0.5
             },
             "pattern": {
              "fillmode": "overlay",
              "size": 10,
              "solidity": 0.2
             }
            },
            "type": "bar"
           }
          ],
          "barpolar": [
           {
            "marker": {
             "line": {
              "color": "#E5ECF6",
              "width": 0.5
             },
             "pattern": {
              "fillmode": "overlay",
              "size": 10,
              "solidity": 0.2
             }
            },
            "type": "barpolar"
           }
          ],
          "carpet": [
           {
            "aaxis": {
             "endlinecolor": "#2a3f5f",
             "gridcolor": "white",
             "linecolor": "white",
             "minorgridcolor": "white",
             "startlinecolor": "#2a3f5f"
            },
            "baxis": {
             "endlinecolor": "#2a3f5f",
             "gridcolor": "white",
             "linecolor": "white",
             "minorgridcolor": "white",
             "startlinecolor": "#2a3f5f"
            },
            "type": "carpet"
           }
          ],
          "choropleth": [
           {
            "colorbar": {
             "outlinewidth": 0,
             "ticks": ""
            },
            "type": "choropleth"
           }
          ],
          "contour": [
           {
            "colorbar": {
             "outlinewidth": 0,
             "ticks": ""
            },
            "colorscale": [
             [
              0,
              "#0d0887"
             ],
             [
              0.1111111111111111,
              "#46039f"
             ],
             [
              0.2222222222222222,
              "#7201a8"
             ],
             [
              0.3333333333333333,
              "#9c179e"
             ],
             [
              0.4444444444444444,
              "#bd3786"
             ],
             [
              0.5555555555555556,
              "#d8576b"
             ],
             [
              0.6666666666666666,
              "#ed7953"
             ],
             [
              0.7777777777777778,
              "#fb9f3a"
             ],
             [
              0.8888888888888888,
              "#fdca26"
             ],
             [
              1,
              "#f0f921"
             ]
            ],
            "type": "contour"
           }
          ],
          "contourcarpet": [
           {
            "colorbar": {
             "outlinewidth": 0,
             "ticks": ""
            },
            "type": "contourcarpet"
           }
          ],
          "heatmap": [
           {
            "colorbar": {
             "outlinewidth": 0,
             "ticks": ""
            },
            "colorscale": [
             [
              0,
              "#0d0887"
             ],
             [
              0.1111111111111111,
              "#46039f"
             ],
             [
              0.2222222222222222,
              "#7201a8"
             ],
             [
              0.3333333333333333,
              "#9c179e"
             ],
             [
              0.4444444444444444,
              "#bd3786"
             ],
             [
              0.5555555555555556,
              "#d8576b"
             ],
             [
              0.6666666666666666,
              "#ed7953"
             ],
             [
              0.7777777777777778,
              "#fb9f3a"
             ],
             [
              0.8888888888888888,
              "#fdca26"
             ],
             [
              1,
              "#f0f921"
             ]
            ],
            "type": "heatmap"
           }
          ],
          "heatmapgl": [
           {
            "colorbar": {
             "outlinewidth": 0,
             "ticks": ""
            },
            "colorscale": [
             [
              0,
              "#0d0887"
             ],
             [
              0.1111111111111111,
              "#46039f"
             ],
             [
              0.2222222222222222,
              "#7201a8"
             ],
             [
              0.3333333333333333,
              "#9c179e"
             ],
             [
              0.4444444444444444,
              "#bd3786"
             ],
             [
              0.5555555555555556,
              "#d8576b"
             ],
             [
              0.6666666666666666,
              "#ed7953"
             ],
             [
              0.7777777777777778,
              "#fb9f3a"
             ],
             [
              0.8888888888888888,
              "#fdca26"
             ],
             [
              1,
              "#f0f921"
             ]
            ],
            "type": "heatmapgl"
           }
          ],
          "histogram": [
           {
            "marker": {
             "pattern": {
              "fillmode": "overlay",
              "size": 10,
              "solidity": 0.2
             }
            },
            "type": "histogram"
           }
          ],
          "histogram2d": [
           {
            "colorbar": {
             "outlinewidth": 0,
             "ticks": ""
            },
            "colorscale": [
             [
              0,
              "#0d0887"
             ],
             [
              0.1111111111111111,
              "#46039f"
             ],
             [
              0.2222222222222222,
              "#7201a8"
             ],
             [
              0.3333333333333333,
              "#9c179e"
             ],
             [
              0.4444444444444444,
              "#bd3786"
             ],
             [
              0.5555555555555556,
              "#d8576b"
             ],
             [
              0.6666666666666666,
              "#ed7953"
             ],
             [
              0.7777777777777778,
              "#fb9f3a"
             ],
             [
              0.8888888888888888,
              "#fdca26"
             ],
             [
              1,
              "#f0f921"
             ]
            ],
            "type": "histogram2d"
           }
          ],
          "histogram2dcontour": [
           {
            "colorbar": {
             "outlinewidth": 0,
             "ticks": ""
            },
            "colorscale": [
             [
              0,
              "#0d0887"
             ],
             [
              0.1111111111111111,
              "#46039f"
             ],
             [
              0.2222222222222222,
              "#7201a8"
             ],
             [
              0.3333333333333333,
              "#9c179e"
             ],
             [
              0.4444444444444444,
              "#bd3786"
             ],
             [
              0.5555555555555556,
              "#d8576b"
             ],
             [
              0.6666666666666666,
              "#ed7953"
             ],
             [
              0.7777777777777778,
              "#fb9f3a"
             ],
             [
              0.8888888888888888,
              "#fdca26"
             ],
             [
              1,
              "#f0f921"
             ]
            ],
            "type": "histogram2dcontour"
           }
          ],
          "mesh3d": [
           {
            "colorbar": {
             "outlinewidth": 0,
             "ticks": ""
            },
            "type": "mesh3d"
           }
          ],
          "parcoords": [
           {
            "line": {
             "colorbar": {
              "outlinewidth": 0,
              "ticks": ""
             }
            },
            "type": "parcoords"
           }
          ],
          "pie": [
           {
            "automargin": true,
            "type": "pie"
           }
          ],
          "scatter": [
           {
            "fillpattern": {
             "fillmode": "overlay",
             "size": 10,
             "solidity": 0.2
            },
            "type": "scatter"
           }
          ],
          "scatter3d": [
           {
            "line": {
             "colorbar": {
              "outlinewidth": 0,
              "ticks": ""
             }
            },
            "marker": {
             "colorbar": {
              "outlinewidth": 0,
              "ticks": ""
             }
            },
            "type": "scatter3d"
           }
          ],
          "scattercarpet": [
           {
            "marker": {
             "colorbar": {
              "outlinewidth": 0,
              "ticks": ""
             }
            },
            "type": "scattercarpet"
           }
          ],
          "scattergeo": [
           {
            "marker": {
             "colorbar": {
              "outlinewidth": 0,
              "ticks": ""
             }
            },
            "type": "scattergeo"
           }
          ],
          "scattergl": [
           {
            "marker": {
             "colorbar": {
              "outlinewidth": 0,
              "ticks": ""
             }
            },
            "type": "scattergl"
           }
          ],
          "scattermapbox": [
           {
            "marker": {
             "colorbar": {
              "outlinewidth": 0,
              "ticks": ""
             }
            },
            "type": "scattermapbox"
           }
          ],
          "scatterpolar": [
           {
            "marker": {
             "colorbar": {
              "outlinewidth": 0,
              "ticks": ""
             }
            },
            "type": "scatterpolar"
           }
          ],
          "scatterpolargl": [
           {
            "marker": {
             "colorbar": {
              "outlinewidth": 0,
              "ticks": ""
             }
            },
            "type": "scatterpolargl"
           }
          ],
          "scatterternary": [
           {
            "marker": {
             "colorbar": {
              "outlinewidth": 0,
              "ticks": ""
             }
            },
            "type": "scatterternary"
           }
          ],
          "surface": [
           {
            "colorbar": {
             "outlinewidth": 0,
             "ticks": ""
            },
            "colorscale": [
             [
              0,
              "#0d0887"
             ],
             [
              0.1111111111111111,
              "#46039f"
             ],
             [
              0.2222222222222222,
              "#7201a8"
             ],
             [
              0.3333333333333333,
              "#9c179e"
             ],
             [
              0.4444444444444444,
              "#bd3786"
             ],
             [
              0.5555555555555556,
              "#d8576b"
             ],
             [
              0.6666666666666666,
              "#ed7953"
             ],
             [
              0.7777777777777778,
              "#fb9f3a"
             ],
             [
              0.8888888888888888,
              "#fdca26"
             ],
             [
              1,
              "#f0f921"
             ]
            ],
            "type": "surface"
           }
          ],
          "table": [
           {
            "cells": {
             "fill": {
              "color": "#EBF0F8"
             },
             "line": {
              "color": "white"
             }
            },
            "header": {
             "fill": {
              "color": "#C8D4E3"
             },
             "line": {
              "color": "white"
             }
            },
            "type": "table"
           }
          ]
         },
         "layout": {
          "annotationdefaults": {
           "arrowcolor": "#2a3f5f",
           "arrowhead": 0,
           "arrowwidth": 1
          },
          "autotypenumbers": "strict",
          "coloraxis": {
           "colorbar": {
            "outlinewidth": 0,
            "ticks": ""
           }
          },
          "colorscale": {
           "diverging": [
            [
             0,
             "#8e0152"
            ],
            [
             0.1,
             "#c51b7d"
            ],
            [
             0.2,
             "#de77ae"
            ],
            [
             0.3,
             "#f1b6da"
            ],
            [
             0.4,
             "#fde0ef"
            ],
            [
             0.5,
             "#f7f7f7"
            ],
            [
             0.6,
             "#e6f5d0"
            ],
            [
             0.7,
             "#b8e186"
            ],
            [
             0.8,
             "#7fbc41"
            ],
            [
             0.9,
             "#4d9221"
            ],
            [
             1,
             "#276419"
            ]
           ],
           "sequential": [
            [
             0,
             "#0d0887"
            ],
            [
             0.1111111111111111,
             "#46039f"
            ],
            [
             0.2222222222222222,
             "#7201a8"
            ],
            [
             0.3333333333333333,
             "#9c179e"
            ],
            [
             0.4444444444444444,
             "#bd3786"
            ],
            [
             0.5555555555555556,
             "#d8576b"
            ],
            [
             0.6666666666666666,
             "#ed7953"
            ],
            [
             0.7777777777777778,
             "#fb9f3a"
            ],
            [
             0.8888888888888888,
             "#fdca26"
            ],
            [
             1,
             "#f0f921"
            ]
           ],
           "sequentialminus": [
            [
             0,
             "#0d0887"
            ],
            [
             0.1111111111111111,
             "#46039f"
            ],
            [
             0.2222222222222222,
             "#7201a8"
            ],
            [
             0.3333333333333333,
             "#9c179e"
            ],
            [
             0.4444444444444444,
             "#bd3786"
            ],
            [
             0.5555555555555556,
             "#d8576b"
            ],
            [
             0.6666666666666666,
             "#ed7953"
            ],
            [
             0.7777777777777778,
             "#fb9f3a"
            ],
            [
             0.8888888888888888,
             "#fdca26"
            ],
            [
             1,
             "#f0f921"
            ]
           ]
          },
          "colorway": [
           "#636efa",
           "#EF553B",
           "#00cc96",
           "#ab63fa",
           "#FFA15A",
           "#19d3f3",
           "#FF6692",
           "#B6E880",
           "#FF97FF",
           "#FECB52"
          ],
          "font": {
           "color": "#2a3f5f"
          },
          "geo": {
           "bgcolor": "white",
           "lakecolor": "white",
           "landcolor": "#E5ECF6",
           "showlakes": true,
           "showland": true,
           "subunitcolor": "white"
          },
          "hoverlabel": {
           "align": "left"
          },
          "hovermode": "closest",
          "mapbox": {
           "style": "light"
          },
          "paper_bgcolor": "white",
          "plot_bgcolor": "#E5ECF6",
          "polar": {
           "angularaxis": {
            "gridcolor": "white",
            "linecolor": "white",
            "ticks": ""
           },
           "bgcolor": "#E5ECF6",
           "radialaxis": {
            "gridcolor": "white",
            "linecolor": "white",
            "ticks": ""
           }
          },
          "scene": {
           "xaxis": {
            "backgroundcolor": "#E5ECF6",
            "gridcolor": "white",
            "gridwidth": 2,
            "linecolor": "white",
            "showbackground": true,
            "ticks": "",
            "zerolinecolor": "white"
           },
           "yaxis": {
            "backgroundcolor": "#E5ECF6",
            "gridcolor": "white",
            "gridwidth": 2,
            "linecolor": "white",
            "showbackground": true,
            "ticks": "",
            "zerolinecolor": "white"
           },
           "zaxis": {
            "backgroundcolor": "#E5ECF6",
            "gridcolor": "white",
            "gridwidth": 2,
            "linecolor": "white",
            "showbackground": true,
            "ticks": "",
            "zerolinecolor": "white"
           }
          },
          "shapedefaults": {
           "line": {
            "color": "#2a3f5f"
           }
          },
          "ternary": {
           "aaxis": {
            "gridcolor": "white",
            "linecolor": "white",
            "ticks": ""
           },
           "baxis": {
            "gridcolor": "white",
            "linecolor": "white",
            "ticks": ""
           },
           "bgcolor": "#E5ECF6",
           "caxis": {
            "gridcolor": "white",
            "linecolor": "white",
            "ticks": ""
           }
          },
          "title": {
           "x": 0.05
          },
          "xaxis": {
           "automargin": true,
           "gridcolor": "white",
           "linecolor": "white",
           "ticks": "",
           "title": {
            "standoff": 15
           },
           "zerolinecolor": "white",
           "zerolinewidth": 2
          },
          "yaxis": {
           "automargin": true,
           "gridcolor": "white",
           "linecolor": "white",
           "ticks": "",
           "title": {
            "standoff": 15
           },
           "zerolinecolor": "white",
           "zerolinewidth": 2
          }
         }
        },
        "title": {
         "text": "Prices changes"
        },
        "xaxis": {
         "anchor": "y",
         "domain": [
          0,
          1
         ],
         "title": {
          "text": "Old"
         }
        },
        "yaxis": {
         "anchor": "x",
         "domain": [
          0,
          1
         ],
         "title": {
          "text": "Price"
         }
        }
       }
      }
     },
     "metadata": {},
     "output_type": "display_data"
    }
   ],
   "source": [
    "dcl1 = df\n",
    "dcl2 = dold\n",
    "\n",
    "dcl1[\"Old\"] = 0\n",
    "dcl2[\"Old\"] = 1\n",
    "\n",
    "dunion = pd.concat([dcl1, dcl2])\n",
    "dunion = dunion[dunion[\"Link\"].isin(dchanged[\"Link\"])]\n",
    "\n",
    "fig = px.line(dunion, x=\"Old\", y=\"Price\", title='Prices changes', color=\"Model name\")\n",
    "fig.show()"
   ]
  }
 ],
 "metadata": {
  "kernelspec": {
   "display_name": "base",
   "language": "python",
   "name": "python3"
  },
  "language_info": {
   "codemirror_mode": {
    "name": "ipython",
    "version": 3
   },
   "file_extension": ".py",
   "mimetype": "text/x-python",
   "name": "python",
   "nbconvert_exporter": "python",
   "pygments_lexer": "ipython3",
   "version": "3.9.13"
  },
  "orig_nbformat": 4,
  "vscode": {
   "interpreter": {
    "hash": "ad2bdc8ecc057115af97d19610ffacc2b4e99fae6737bb82f5d7fb13d2f2c186"
   }
  }
 },
 "nbformat": 4,
 "nbformat_minor": 2
}
