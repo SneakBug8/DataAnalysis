{
 "cells": [
  {
   "cell_type": "markdown",
   "metadata": {},
   "source": [
    "# WP Post Views\n",
    "\n",
    "At my Wordpress website I have a postviews plugin that calculates the number of reads per post. The final number of views is not only seen on the page, but also exposed with a standard Wordpress API.\n",
    "\n",
    "Therefore, a number of useful stats can be calculated using this data. And that's what I do below."
   ]
  },
  {
   "cell_type": "code",
   "execution_count": 1,
   "metadata": {},
   "outputs": [
    {
     "name": "stdout",
     "output_type": "stream",
     "text": [
      "Requirement already satisfied: plotly.express in c:\\users\\mi\\appdata\\local\\programs\\python\\python312\\lib\\site-packages (0.4.1)\n",
      "Requirement already satisfied: pandas>=0.20.0 in c:\\users\\mi\\appdata\\local\\programs\\python\\python312\\lib\\site-packages (from plotly.express) (2.1.4)\n",
      "Requirement already satisfied: plotly>=4.1.0 in c:\\users\\mi\\appdata\\local\\programs\\python\\python312\\lib\\site-packages (from plotly.express) (5.18.0)\n",
      "Requirement already satisfied: statsmodels>=0.9.0 in c:\\users\\mi\\appdata\\local\\programs\\python\\python312\\lib\\site-packages (from plotly.express) (0.14.1)\n",
      "Requirement already satisfied: scipy>=0.18 in c:\\users\\mi\\appdata\\local\\programs\\python\\python312\\lib\\site-packages (from plotly.express) (1.12.0)\n",
      "Requirement already satisfied: patsy>=0.5 in c:\\users\\mi\\appdata\\local\\programs\\python\\python312\\lib\\site-packages (from plotly.express) (0.5.6)\n",
      "Requirement already satisfied: numpy>=1.11 in c:\\users\\mi\\appdata\\local\\programs\\python\\python312\\lib\\site-packages (from plotly.express) (1.26.2)\n",
      "Requirement already satisfied: python-dateutil>=2.8.2 in c:\\users\\mi\\appdata\\roaming\\python\\python312\\site-packages (from pandas>=0.20.0->plotly.express) (2.8.2)\n",
      "Requirement already satisfied: pytz>=2020.1 in c:\\users\\mi\\appdata\\local\\programs\\python\\python312\\lib\\site-packages (from pandas>=0.20.0->plotly.express) (2023.3.post1)\n",
      "Requirement already satisfied: tzdata>=2022.1 in c:\\users\\mi\\appdata\\local\\programs\\python\\python312\\lib\\site-packages (from pandas>=0.20.0->plotly.express) (2023.3)\n",
      "Requirement already satisfied: six in c:\\users\\mi\\appdata\\roaming\\python\\python312\\site-packages (from patsy>=0.5->plotly.express) (1.16.0)\n",
      "Requirement already satisfied: tenacity>=6.2.0 in c:\\users\\mi\\appdata\\local\\programs\\python\\python312\\lib\\site-packages (from plotly>=4.1.0->plotly.express) (8.2.3)\n",
      "Requirement already satisfied: packaging in c:\\users\\mi\\appdata\\roaming\\python\\python312\\site-packages (from plotly>=4.1.0->plotly.express) (23.2)\n",
      "Note: you may need to restart the kernel to use updated packages.\n"
     ]
    },
    {
     "name": "stderr",
     "output_type": "stream",
     "text": [
      "\n",
      "[notice] A new release of pip is available: 23.2.1 -> 23.3.2\n",
      "[notice] To update, run: python.exe -m pip install --upgrade pip\n"
     ]
    },
    {
     "name": "stdout",
     "output_type": "stream",
     "text": [
      "Requirement already satisfied: nbformat in c:\\users\\mi\\appdata\\local\\programs\\python\\python312\\lib\\site-packages (5.9.2)\n",
      "Requirement already satisfied: fastjsonschema in c:\\users\\mi\\appdata\\local\\programs\\python\\python312\\lib\\site-packages (from nbformat) (2.19.1)\n",
      "Requirement already satisfied: jsonschema>=2.6 in c:\\users\\mi\\appdata\\local\\programs\\python\\python312\\lib\\site-packages (from nbformat) (4.21.1)\n",
      "Requirement already satisfied: jupyter-core in c:\\users\\mi\\appdata\\roaming\\python\\python312\\site-packages (from nbformat) (5.5.0)\n",
      "Requirement already satisfied: traitlets>=5.1 in c:\\users\\mi\\appdata\\roaming\\python\\python312\\site-packages (from nbformat) (5.14.0)\n",
      "Requirement already satisfied: attrs>=22.2.0 in c:\\users\\mi\\appdata\\local\\programs\\python\\python312\\lib\\site-packages (from jsonschema>=2.6->nbformat) (23.2.0)\n",
      "Requirement already satisfied: jsonschema-specifications>=2023.03.6 in c:\\users\\mi\\appdata\\local\\programs\\python\\python312\\lib\\site-packages (from jsonschema>=2.6->nbformat) (2023.12.1)\n",
      "Requirement already satisfied: referencing>=0.28.4 in c:\\users\\mi\\appdata\\local\\programs\\python\\python312\\lib\\site-packages (from jsonschema>=2.6->nbformat) (0.33.0)\n",
      "Requirement already satisfied: rpds-py>=0.7.1 in c:\\users\\mi\\appdata\\local\\programs\\python\\python312\\lib\\site-packages (from jsonschema>=2.6->nbformat) (0.17.1)\n",
      "Requirement already satisfied: platformdirs>=2.5 in c:\\users\\mi\\appdata\\roaming\\python\\python312\\site-packages (from jupyter-core->nbformat) (4.1.0)\n",
      "Requirement already satisfied: pywin32>=300 in c:\\users\\mi\\appdata\\roaming\\python\\python312\\site-packages (from jupyter-core->nbformat) (306)\n",
      "Note: you may need to restart the kernel to use updated packages.\n"
     ]
    },
    {
     "name": "stderr",
     "output_type": "stream",
     "text": [
      "\n",
      "[notice] A new release of pip is available: 23.2.1 -> 23.3.2\n",
      "[notice] To update, run: python.exe -m pip install --upgrade pip\n"
     ]
    }
   ],
   "source": [
    "%pip install plotly.express\n",
    "%pip install --upgrade nbformat"
   ]
  },
  {
   "cell_type": "code",
   "execution_count": 82,
   "metadata": {},
   "outputs": [
    {
     "name": "stdout",
     "output_type": "stream",
     "text": [
      "https://sneakbug8.com/wp-json/wp/v2/categories?&per_page=100&page=1\n",
      "23\n"
     ]
    }
   ],
   "source": [
    "# Read categories from API\n",
    "import urllib.request, json \n",
    "\n",
    "pagesAvailable = 1\n",
    "totalPosts = 0\n",
    "fields = \"\"\n",
    "page = 1\n",
    "\n",
    "categories = []\n",
    "\n",
    "while page <= pagesAvailable:\n",
    "    addr = \"https://sneakbug8.com/wp-json/wp/v2/categories?%s&per_page=100&page=%s\" % (fields,page)\n",
    "    print(addr)\n",
    "    with urllib.request.urlopen(addr) as response:\n",
    "        data = json.load(response)\n",
    "        pagesAvailable = int(response.info()['x-wp-totalpages'])\n",
    "        totalPosts = int(response.info()['x-wp-total'])\n",
    "\n",
    "        categories = categories + data\n",
    "    page += 1\n",
    "\n",
    "print(len(categories))\n",
    "\n",
    "with open('categories.json', 'w') as f:\n",
    "    json.dump(categories, f)"
   ]
  },
  {
   "cell_type": "code",
   "execution_count": 77,
   "metadata": {},
   "outputs": [
    {
     "name": "stdout",
     "output_type": "stream",
     "text": [
      "https://sneakbug8.com/wp-json/wp/v2/posts?_fields=id,title,link,views,date,categories&per_page=100&page=1\n",
      "https://sneakbug8.com/wp-json/wp/v2/posts?_fields=id,title,link,views,date,categories&per_page=100&page=2\n",
      "https://sneakbug8.com/wp-json/wp/v2/posts?_fields=id,title,link,views,date,categories&per_page=100&page=3\n",
      "https://sneakbug8.com/wp-json/wp/v2/posts?_fields=id,title,link,views,date,categories&per_page=100&page=4\n",
      "308\n"
     ]
    }
   ],
   "source": [
    "# Read posts from API\n",
    "import urllib.request, json \n",
    "\n",
    "pagesAvailable = 1\n",
    "totalPosts = 0\n",
    "fields = \"_fields=id,title,link,views,date,categories\"\n",
    "page = 1\n",
    "\n",
    "res = []\n",
    "\n",
    "while page <= pagesAvailable:\n",
    "    addr = \"https://sneakbug8.com/wp-json/wp/v2/posts?%s&per_page=100&page=%s\" % (fields,page)\n",
    "    print(addr)\n",
    "    with urllib.request.urlopen(addr) as response:\n",
    "        data = json.load(response)\n",
    "        pagesAvailable = int(response.info()['x-wp-totalpages'])\n",
    "        totalPosts = int(response.info()['x-wp-total'])\n",
    "\n",
    "        res = res + data\n",
    "    page += 1\n",
    "\n",
    "print(len(res))\n",
    "\n",
    "with open('res.json', 'w') as f:\n",
    "    json.dump(res, f)"
   ]
  },
  {
   "cell_type": "code",
   "execution_count": 87,
   "metadata": {},
   "outputs": [
    {
     "data": {
      "text/html": [
       "<div>\n",
       "<style scoped>\n",
       "    .dataframe tbody tr th:only-of-type {\n",
       "        vertical-align: middle;\n",
       "    }\n",
       "\n",
       "    .dataframe tbody tr th {\n",
       "        vertical-align: top;\n",
       "    }\n",
       "\n",
       "    .dataframe thead th {\n",
       "        text-align: right;\n",
       "    }\n",
       "</style>\n",
       "<table border=\"1\" class=\"dataframe\">\n",
       "  <thead>\n",
       "    <tr style=\"text-align: right;\">\n",
       "      <th></th>\n",
       "      <th>id</th>\n",
       "      <th>date</th>\n",
       "      <th>link</th>\n",
       "      <th>title</th>\n",
       "      <th>categories</th>\n",
       "      <th>views</th>\n",
       "    </tr>\n",
       "  </thead>\n",
       "  <tbody>\n",
       "    <tr>\n",
       "      <th>0</th>\n",
       "      <td>3964</td>\n",
       "      <td>2024-01-26T17:14:09</td>\n",
       "      <td>https://sneakbug8.com/relative-market-share/</td>\n",
       "      <td>What is a Relative Market Share (RMS)</td>\n",
       "      <td>[319]</td>\n",
       "      <td>6</td>\n",
       "    </tr>\n",
       "    <tr>\n",
       "      <th>1</th>\n",
       "      <td>3959</td>\n",
       "      <td>2024-01-25T12:49:37</td>\n",
       "      <td>https://sneakbug8.com/big-processes-in-bpmn/</td>\n",
       "      <td>💡 How to structure big processes in BPMN</td>\n",
       "      <td>[319]</td>\n",
       "      <td>3</td>\n",
       "    </tr>\n",
       "    <tr>\n",
       "      <th>2</th>\n",
       "      <td>3943</td>\n",
       "      <td>2023-12-26T22:52:50</td>\n",
       "      <td>https://sneakbug8.com/top-3-mistakes-when-work...</td>\n",
       "      <td>Top 3 mistakes when working in English-speakin...</td>\n",
       "      <td>[56]</td>\n",
       "      <td>58</td>\n",
       "    </tr>\n",
       "    <tr>\n",
       "      <th>3</th>\n",
       "      <td>3908</td>\n",
       "      <td>2023-11-19T23:06:25</td>\n",
       "      <td>https://sneakbug8.com/moscow-prioritization-me...</td>\n",
       "      <td>The MoSCoW prioritization method for Business ...</td>\n",
       "      <td>[87]</td>\n",
       "      <td>63</td>\n",
       "    </tr>\n",
       "    <tr>\n",
       "      <th>4</th>\n",
       "      <td>3895</td>\n",
       "      <td>2023-10-19T10:51:58</td>\n",
       "      <td>https://sneakbug8.com/requirement-types/</td>\n",
       "      <td>Requirement Types</td>\n",
       "      <td>[319]</td>\n",
       "      <td>101</td>\n",
       "    </tr>\n",
       "  </tbody>\n",
       "</table>\n",
       "</div>"
      ],
      "text/plain": [
       "     id                 date  \\\n",
       "0  3964  2024-01-26T17:14:09   \n",
       "1  3959  2024-01-25T12:49:37   \n",
       "2  3943  2023-12-26T22:52:50   \n",
       "3  3908  2023-11-19T23:06:25   \n",
       "4  3895  2023-10-19T10:51:58   \n",
       "\n",
       "                                                link  \\\n",
       "0       https://sneakbug8.com/relative-market-share/   \n",
       "1       https://sneakbug8.com/big-processes-in-bpmn/   \n",
       "2  https://sneakbug8.com/top-3-mistakes-when-work...   \n",
       "3  https://sneakbug8.com/moscow-prioritization-me...   \n",
       "4           https://sneakbug8.com/requirement-types/   \n",
       "\n",
       "                                               title categories  views  \n",
       "0              What is a Relative Market Share (RMS)      [319]      6  \n",
       "1           💡 How to structure big processes in BPMN      [319]      3  \n",
       "2  Top 3 mistakes when working in English-speakin...       [56]     58  \n",
       "3  The MoSCoW prioritization method for Business ...       [87]     63  \n",
       "4                                  Requirement Types      [319]    101  "
      ]
     },
     "execution_count": 87,
     "metadata": {},
     "output_type": "execute_result"
    }
   ],
   "source": [
    "import pandas as pd\n",
    "import plotly.express as px\n",
    "\n",
    "# df = pd.read_csv(\"./b.csv\", sep=\";\")\n",
    "df = pd.DataFrame(res)\n",
    "df = df.set_index([\"id\"])\n",
    "df[\"title\"] = df[\"title\"].map(lambda x: x[\"rendered\"])\n",
    "df.head()\n",
    "# df[df[\"views\"].isna()]"
   ]
  },
  {
   "cell_type": "code",
   "execution_count": 85,
   "metadata": {},
   "outputs": [],
   "source": [
    "# Fix missing views values\n",
    "\n",
    "df[df[\"views\"].isna()] = 0"
   ]
  },
  {
   "cell_type": "code",
   "execution_count": 88,
   "metadata": {},
   "outputs": [
    {
     "data": {
      "text/html": [
       "<div>\n",
       "<style scoped>\n",
       "    .dataframe tbody tr th:only-of-type {\n",
       "        vertical-align: middle;\n",
       "    }\n",
       "\n",
       "    .dataframe tbody tr th {\n",
       "        vertical-align: top;\n",
       "    }\n",
       "\n",
       "    .dataframe thead th {\n",
       "        text-align: right;\n",
       "    }\n",
       "</style>\n",
       "<table border=\"1\" class=\"dataframe\">\n",
       "  <thead>\n",
       "    <tr style=\"text-align: right;\">\n",
       "      <th></th>\n",
       "      <th>total_views</th>\n",
       "      <th>post_count</th>\n",
       "      <th>views_by_post</th>\n",
       "    </tr>\n",
       "    <tr>\n",
       "      <th>categories</th>\n",
       "      <th></th>\n",
       "      <th></th>\n",
       "      <th></th>\n",
       "    </tr>\n",
       "  </thead>\n",
       "  <tbody>\n",
       "    <tr>\n",
       "      <th>1</th>\n",
       "      <td>11528</td>\n",
       "      <td>42</td>\n",
       "      <td>274.476190</td>\n",
       "    </tr>\n",
       "    <tr>\n",
       "      <th>11</th>\n",
       "      <td>1479</td>\n",
       "      <td>6</td>\n",
       "      <td>246.500000</td>\n",
       "    </tr>\n",
       "    <tr>\n",
       "      <th>16</th>\n",
       "      <td>1350</td>\n",
       "      <td>4</td>\n",
       "      <td>337.500000</td>\n",
       "    </tr>\n",
       "    <tr>\n",
       "      <th>18</th>\n",
       "      <td>220</td>\n",
       "      <td>1</td>\n",
       "      <td>220.000000</td>\n",
       "    </tr>\n",
       "    <tr>\n",
       "      <th>21</th>\n",
       "      <td>2934</td>\n",
       "      <td>9</td>\n",
       "      <td>326.000000</td>\n",
       "    </tr>\n",
       "    <tr>\n",
       "      <th>56</th>\n",
       "      <td>10785</td>\n",
       "      <td>32</td>\n",
       "      <td>337.031250</td>\n",
       "    </tr>\n",
       "    <tr>\n",
       "      <th>87</th>\n",
       "      <td>6953</td>\n",
       "      <td>19</td>\n",
       "      <td>365.947368</td>\n",
       "    </tr>\n",
       "    <tr>\n",
       "      <th>187</th>\n",
       "      <td>9886</td>\n",
       "      <td>18</td>\n",
       "      <td>549.222222</td>\n",
       "    </tr>\n",
       "    <tr>\n",
       "      <th>189</th>\n",
       "      <td>6424</td>\n",
       "      <td>35</td>\n",
       "      <td>183.542857</td>\n",
       "    </tr>\n",
       "    <tr>\n",
       "      <th>191</th>\n",
       "      <td>7358</td>\n",
       "      <td>29</td>\n",
       "      <td>253.724138</td>\n",
       "    </tr>\n",
       "    <tr>\n",
       "      <th>199</th>\n",
       "      <td>3817</td>\n",
       "      <td>19</td>\n",
       "      <td>200.894737</td>\n",
       "    </tr>\n",
       "    <tr>\n",
       "      <th>205</th>\n",
       "      <td>24992</td>\n",
       "      <td>63</td>\n",
       "      <td>396.698413</td>\n",
       "    </tr>\n",
       "    <tr>\n",
       "      <th>211</th>\n",
       "      <td>234</td>\n",
       "      <td>1</td>\n",
       "      <td>234.000000</td>\n",
       "    </tr>\n",
       "    <tr>\n",
       "      <th>225</th>\n",
       "      <td>2577</td>\n",
       "      <td>9</td>\n",
       "      <td>286.333333</td>\n",
       "    </tr>\n",
       "    <tr>\n",
       "      <th>229</th>\n",
       "      <td>6361</td>\n",
       "      <td>14</td>\n",
       "      <td>454.357143</td>\n",
       "    </tr>\n",
       "    <tr>\n",
       "      <th>231</th>\n",
       "      <td>385</td>\n",
       "      <td>1</td>\n",
       "      <td>385.000000</td>\n",
       "    </tr>\n",
       "    <tr>\n",
       "      <th>288</th>\n",
       "      <td>605</td>\n",
       "      <td>2</td>\n",
       "      <td>302.500000</td>\n",
       "    </tr>\n",
       "    <tr>\n",
       "      <th>319</th>\n",
       "      <td>2707</td>\n",
       "      <td>12</td>\n",
       "      <td>225.583333</td>\n",
       "    </tr>\n",
       "    <tr>\n",
       "      <th>369</th>\n",
       "      <td>51</td>\n",
       "      <td>1</td>\n",
       "      <td>51.000000</td>\n",
       "    </tr>\n",
       "  </tbody>\n",
       "</table>\n",
       "</div>"
      ],
      "text/plain": [
       "            total_views  post_count  views_by_post\n",
       "categories                                        \n",
       "1                 11528          42     274.476190\n",
       "11                 1479           6     246.500000\n",
       "16                 1350           4     337.500000\n",
       "18                  220           1     220.000000\n",
       "21                 2934           9     326.000000\n",
       "56                10785          32     337.031250\n",
       "87                 6953          19     365.947368\n",
       "187                9886          18     549.222222\n",
       "189                6424          35     183.542857\n",
       "191                7358          29     253.724138\n",
       "199                3817          19     200.894737\n",
       "205               24992          63     396.698413\n",
       "211                 234           1     234.000000\n",
       "225                2577           9     286.333333\n",
       "229                6361          14     454.357143\n",
       "231                 385           1     385.000000\n",
       "288                 605           2     302.500000\n",
       "319                2707          12     225.583333\n",
       "369                  51           1      51.000000"
      ]
     },
     "execution_count": 88,
     "metadata": {},
     "output_type": "execute_result"
    }
   ],
   "source": [
    "dx = df.explode('categories').reset_index(drop=True)\n",
    "\n",
    "dx = dx.groupby(\"categories\").aggregate({\"views\":\"sum\",\"id\":\"count\"})\n",
    "dx = dx.rename(columns={\"id\": \"post_count\", \"views\":\"total_views\"})\n",
    "dx[\"views_by_post\"] = dx[\"total_views\"] / dx[\"post_count\"]\n",
    "\n",
    "dx"
   ]
  },
  {
   "cell_type": "code",
   "execution_count": 90,
   "metadata": {},
   "outputs": [
    {
     "data": {
      "text/html": [
       "<div>\n",
       "<style scoped>\n",
       "    .dataframe tbody tr th:only-of-type {\n",
       "        vertical-align: middle;\n",
       "    }\n",
       "\n",
       "    .dataframe tbody tr th {\n",
       "        vertical-align: top;\n",
       "    }\n",
       "\n",
       "    .dataframe thead th {\n",
       "        text-align: right;\n",
       "    }\n",
       "</style>\n",
       "<table border=\"1\" class=\"dataframe\">\n",
       "  <thead>\n",
       "    <tr style=\"text-align: right;\">\n",
       "      <th></th>\n",
       "      <th>slug</th>\n",
       "      <th>total_views</th>\n",
       "      <th>post_count</th>\n",
       "      <th>views_by_post</th>\n",
       "    </tr>\n",
       "    <tr>\n",
       "      <th>id</th>\n",
       "      <th></th>\n",
       "      <th></th>\n",
       "      <th></th>\n",
       "      <th></th>\n",
       "    </tr>\n",
       "  </thead>\n",
       "  <tbody>\n",
       "    <tr>\n",
       "      <th>187</th>\n",
       "      <td>project-management-ru</td>\n",
       "      <td>9886.0</td>\n",
       "      <td>18.0</td>\n",
       "      <td>549.222222</td>\n",
       "    </tr>\n",
       "    <tr>\n",
       "      <th>229</th>\n",
       "      <td>gamedev-ru</td>\n",
       "      <td>6361.0</td>\n",
       "      <td>14.0</td>\n",
       "      <td>454.357143</td>\n",
       "    </tr>\n",
       "    <tr>\n",
       "      <th>205</th>\n",
       "      <td>web-ru</td>\n",
       "      <td>24992.0</td>\n",
       "      <td>63.0</td>\n",
       "      <td>396.698413</td>\n",
       "    </tr>\n",
       "    <tr>\n",
       "      <th>231</th>\n",
       "      <td>movies-and-shows-ru</td>\n",
       "      <td>385.0</td>\n",
       "      <td>1.0</td>\n",
       "      <td>385.000000</td>\n",
       "    </tr>\n",
       "    <tr>\n",
       "      <th>87</th>\n",
       "      <td>project-management</td>\n",
       "      <td>6953.0</td>\n",
       "      <td>19.0</td>\n",
       "      <td>365.947368</td>\n",
       "    </tr>\n",
       "    <tr>\n",
       "      <th>16</th>\n",
       "      <td>web</td>\n",
       "      <td>1350.0</td>\n",
       "      <td>4.0</td>\n",
       "      <td>337.500000</td>\n",
       "    </tr>\n",
       "    <tr>\n",
       "      <th>56</th>\n",
       "      <td>softskills</td>\n",
       "      <td>10785.0</td>\n",
       "      <td>32.0</td>\n",
       "      <td>337.031250</td>\n",
       "    </tr>\n",
       "    <tr>\n",
       "      <th>21</th>\n",
       "      <td>gamedev</td>\n",
       "      <td>2934.0</td>\n",
       "      <td>9.0</td>\n",
       "      <td>326.000000</td>\n",
       "    </tr>\n",
       "    <tr>\n",
       "      <th>288</th>\n",
       "      <td>product-management</td>\n",
       "      <td>605.0</td>\n",
       "      <td>2.0</td>\n",
       "      <td>302.500000</td>\n",
       "    </tr>\n",
       "    <tr>\n",
       "      <th>225</th>\n",
       "      <td>pc-ru</td>\n",
       "      <td>2577.0</td>\n",
       "      <td>9.0</td>\n",
       "      <td>286.333333</td>\n",
       "    </tr>\n",
       "    <tr>\n",
       "      <th>1</th>\n",
       "      <td>no-category</td>\n",
       "      <td>11528.0</td>\n",
       "      <td>42.0</td>\n",
       "      <td>274.476190</td>\n",
       "    </tr>\n",
       "    <tr>\n",
       "      <th>191</th>\n",
       "      <td>games-ru</td>\n",
       "      <td>7358.0</td>\n",
       "      <td>29.0</td>\n",
       "      <td>253.724138</td>\n",
       "    </tr>\n",
       "    <tr>\n",
       "      <th>11</th>\n",
       "      <td>games</td>\n",
       "      <td>1479.0</td>\n",
       "      <td>6.0</td>\n",
       "      <td>246.500000</td>\n",
       "    </tr>\n",
       "    <tr>\n",
       "      <th>211</th>\n",
       "      <td>writing-ru</td>\n",
       "      <td>234.0</td>\n",
       "      <td>1.0</td>\n",
       "      <td>234.000000</td>\n",
       "    </tr>\n",
       "    <tr>\n",
       "      <th>319</th>\n",
       "      <td>business-analysis</td>\n",
       "      <td>2707.0</td>\n",
       "      <td>12.0</td>\n",
       "      <td>225.583333</td>\n",
       "    </tr>\n",
       "    <tr>\n",
       "      <th>18</th>\n",
       "      <td>news</td>\n",
       "      <td>220.0</td>\n",
       "      <td>1.0</td>\n",
       "      <td>220.000000</td>\n",
       "    </tr>\n",
       "    <tr>\n",
       "      <th>199</th>\n",
       "      <td>news-ru</td>\n",
       "      <td>3817.0</td>\n",
       "      <td>19.0</td>\n",
       "      <td>200.894737</td>\n",
       "    </tr>\n",
       "    <tr>\n",
       "      <th>189</th>\n",
       "      <td>softskills-ru</td>\n",
       "      <td>6424.0</td>\n",
       "      <td>35.0</td>\n",
       "      <td>183.542857</td>\n",
       "    </tr>\n",
       "    <tr>\n",
       "      <th>369</th>\n",
       "      <td>business-analysis-ru</td>\n",
       "      <td>51.0</td>\n",
       "      <td>1.0</td>\n",
       "      <td>51.000000</td>\n",
       "    </tr>\n",
       "    <tr>\n",
       "      <th>20</th>\n",
       "      <td>pc</td>\n",
       "      <td>NaN</td>\n",
       "      <td>NaN</td>\n",
       "      <td>NaN</td>\n",
       "    </tr>\n",
       "    <tr>\n",
       "      <th>84</th>\n",
       "      <td>movies-and-shows</td>\n",
       "      <td>NaN</td>\n",
       "      <td>NaN</td>\n",
       "      <td>NaN</td>\n",
       "    </tr>\n",
       "    <tr>\n",
       "      <th>132</th>\n",
       "      <td>uncategorized-en</td>\n",
       "      <td>NaN</td>\n",
       "      <td>NaN</td>\n",
       "      <td>NaN</td>\n",
       "    </tr>\n",
       "    <tr>\n",
       "      <th>82</th>\n",
       "      <td>writing</td>\n",
       "      <td>NaN</td>\n",
       "      <td>NaN</td>\n",
       "      <td>NaN</td>\n",
       "    </tr>\n",
       "  </tbody>\n",
       "</table>\n",
       "</div>"
      ],
      "text/plain": [
       "                      slug  total_views  post_count  views_by_post\n",
       "id                                                                \n",
       "187  project-management-ru       9886.0        18.0     549.222222\n",
       "229             gamedev-ru       6361.0        14.0     454.357143\n",
       "205                 web-ru      24992.0        63.0     396.698413\n",
       "231    movies-and-shows-ru        385.0         1.0     385.000000\n",
       "87      project-management       6953.0        19.0     365.947368\n",
       "16                     web       1350.0         4.0     337.500000\n",
       "56              softskills      10785.0        32.0     337.031250\n",
       "21                 gamedev       2934.0         9.0     326.000000\n",
       "288     product-management        605.0         2.0     302.500000\n",
       "225                  pc-ru       2577.0         9.0     286.333333\n",
       "1              no-category      11528.0        42.0     274.476190\n",
       "191               games-ru       7358.0        29.0     253.724138\n",
       "11                   games       1479.0         6.0     246.500000\n",
       "211             writing-ru        234.0         1.0     234.000000\n",
       "319      business-analysis       2707.0        12.0     225.583333\n",
       "18                    news        220.0         1.0     220.000000\n",
       "199                news-ru       3817.0        19.0     200.894737\n",
       "189          softskills-ru       6424.0        35.0     183.542857\n",
       "369   business-analysis-ru         51.0         1.0      51.000000\n",
       "20                      pc          NaN         NaN            NaN\n",
       "84        movies-and-shows          NaN         NaN            NaN\n",
       "132       uncategorized-en          NaN         NaN            NaN\n",
       "82                 writing          NaN         NaN            NaN"
      ]
     },
     "execution_count": 90,
     "metadata": {},
     "output_type": "execute_result"
    }
   ],
   "source": [
    "# top read categories\n",
    "\n",
    "import pandas as pd\n",
    "import plotly.express as px\n",
    "\n",
    "dc = pd.DataFrame(categories)\n",
    "dc = dc.set_index([\"id\"])\n",
    "dc = dc.join(dx).sort_values(by=['views_by_post'], ascending=False)\n",
    "\n",
    "dc[[\"slug\",\"total_views\",\"post_count\", \"views_by_post\"]]"
   ]
  },
  {
   "cell_type": "code",
   "execution_count": 91,
   "metadata": {},
   "outputs": [
    {
     "data": {
      "application/vnd.plotly.v1+json": {
       "config": {
        "plotlyServerURL": "https://plot.ly"
       },
       "data": [
        {
         "alignmentgroup": "True",
         "hovertemplate": "slug=%{x}<br>views_by_post=%{y}<extra></extra>",
         "legendgroup": "",
         "marker": {
          "color": "#636efa",
          "pattern": {
           "shape": ""
          }
         },
         "name": "",
         "offsetgroup": "",
         "orientation": "v",
         "showlegend": false,
         "textposition": "auto",
         "type": "bar",
         "x": [
          "project-management-ru",
          "gamedev-ru",
          "web-ru",
          "movies-and-shows-ru",
          "project-management",
          "web",
          "softskills",
          "gamedev",
          "product-management",
          "pc-ru",
          "no-category",
          "games-ru",
          "games",
          "writing-ru",
          "business-analysis",
          "news",
          "news-ru",
          "softskills-ru",
          "business-analysis-ru",
          "pc",
          "movies-and-shows",
          "uncategorized-en",
          "writing"
         ],
         "xaxis": "x",
         "y": [
          549.2222222222222,
          454.35714285714283,
          396.6984126984127,
          385,
          365.94736842105266,
          337.5,
          337.03125,
          326,
          302.5,
          286.3333333333333,
          274.4761904761905,
          253.72413793103448,
          246.5,
          234,
          225.58333333333334,
          220,
          200.89473684210526,
          183.54285714285714,
          51,
          null,
          null,
          null,
          null
         ],
         "yaxis": "y"
        }
       ],
       "layout": {
        "barmode": "relative",
        "legend": {
         "tracegroupgap": 0
        },
        "template": {
         "data": {
          "bar": [
           {
            "error_x": {
             "color": "#2a3f5f"
            },
            "error_y": {
             "color": "#2a3f5f"
            },
            "marker": {
             "line": {
              "color": "#E5ECF6",
              "width": 0.5
             },
             "pattern": {
              "fillmode": "overlay",
              "size": 10,
              "solidity": 0.2
             }
            },
            "type": "bar"
           }
          ],
          "barpolar": [
           {
            "marker": {
             "line": {
              "color": "#E5ECF6",
              "width": 0.5
             },
             "pattern": {
              "fillmode": "overlay",
              "size": 10,
              "solidity": 0.2
             }
            },
            "type": "barpolar"
           }
          ],
          "carpet": [
           {
            "aaxis": {
             "endlinecolor": "#2a3f5f",
             "gridcolor": "white",
             "linecolor": "white",
             "minorgridcolor": "white",
             "startlinecolor": "#2a3f5f"
            },
            "baxis": {
             "endlinecolor": "#2a3f5f",
             "gridcolor": "white",
             "linecolor": "white",
             "minorgridcolor": "white",
             "startlinecolor": "#2a3f5f"
            },
            "type": "carpet"
           }
          ],
          "choropleth": [
           {
            "colorbar": {
             "outlinewidth": 0,
             "ticks": ""
            },
            "type": "choropleth"
           }
          ],
          "contour": [
           {
            "colorbar": {
             "outlinewidth": 0,
             "ticks": ""
            },
            "colorscale": [
             [
              0,
              "#0d0887"
             ],
             [
              0.1111111111111111,
              "#46039f"
             ],
             [
              0.2222222222222222,
              "#7201a8"
             ],
             [
              0.3333333333333333,
              "#9c179e"
             ],
             [
              0.4444444444444444,
              "#bd3786"
             ],
             [
              0.5555555555555556,
              "#d8576b"
             ],
             [
              0.6666666666666666,
              "#ed7953"
             ],
             [
              0.7777777777777778,
              "#fb9f3a"
             ],
             [
              0.8888888888888888,
              "#fdca26"
             ],
             [
              1,
              "#f0f921"
             ]
            ],
            "type": "contour"
           }
          ],
          "contourcarpet": [
           {
            "colorbar": {
             "outlinewidth": 0,
             "ticks": ""
            },
            "type": "contourcarpet"
           }
          ],
          "heatmap": [
           {
            "colorbar": {
             "outlinewidth": 0,
             "ticks": ""
            },
            "colorscale": [
             [
              0,
              "#0d0887"
             ],
             [
              0.1111111111111111,
              "#46039f"
             ],
             [
              0.2222222222222222,
              "#7201a8"
             ],
             [
              0.3333333333333333,
              "#9c179e"
             ],
             [
              0.4444444444444444,
              "#bd3786"
             ],
             [
              0.5555555555555556,
              "#d8576b"
             ],
             [
              0.6666666666666666,
              "#ed7953"
             ],
             [
              0.7777777777777778,
              "#fb9f3a"
             ],
             [
              0.8888888888888888,
              "#fdca26"
             ],
             [
              1,
              "#f0f921"
             ]
            ],
            "type": "heatmap"
           }
          ],
          "heatmapgl": [
           {
            "colorbar": {
             "outlinewidth": 0,
             "ticks": ""
            },
            "colorscale": [
             [
              0,
              "#0d0887"
             ],
             [
              0.1111111111111111,
              "#46039f"
             ],
             [
              0.2222222222222222,
              "#7201a8"
             ],
             [
              0.3333333333333333,
              "#9c179e"
             ],
             [
              0.4444444444444444,
              "#bd3786"
             ],
             [
              0.5555555555555556,
              "#d8576b"
             ],
             [
              0.6666666666666666,
              "#ed7953"
             ],
             [
              0.7777777777777778,
              "#fb9f3a"
             ],
             [
              0.8888888888888888,
              "#fdca26"
             ],
             [
              1,
              "#f0f921"
             ]
            ],
            "type": "heatmapgl"
           }
          ],
          "histogram": [
           {
            "marker": {
             "pattern": {
              "fillmode": "overlay",
              "size": 10,
              "solidity": 0.2
             }
            },
            "type": "histogram"
           }
          ],
          "histogram2d": [
           {
            "colorbar": {
             "outlinewidth": 0,
             "ticks": ""
            },
            "colorscale": [
             [
              0,
              "#0d0887"
             ],
             [
              0.1111111111111111,
              "#46039f"
             ],
             [
              0.2222222222222222,
              "#7201a8"
             ],
             [
              0.3333333333333333,
              "#9c179e"
             ],
             [
              0.4444444444444444,
              "#bd3786"
             ],
             [
              0.5555555555555556,
              "#d8576b"
             ],
             [
              0.6666666666666666,
              "#ed7953"
             ],
             [
              0.7777777777777778,
              "#fb9f3a"
             ],
             [
              0.8888888888888888,
              "#fdca26"
             ],
             [
              1,
              "#f0f921"
             ]
            ],
            "type": "histogram2d"
           }
          ],
          "histogram2dcontour": [
           {
            "colorbar": {
             "outlinewidth": 0,
             "ticks": ""
            },
            "colorscale": [
             [
              0,
              "#0d0887"
             ],
             [
              0.1111111111111111,
              "#46039f"
             ],
             [
              0.2222222222222222,
              "#7201a8"
             ],
             [
              0.3333333333333333,
              "#9c179e"
             ],
             [
              0.4444444444444444,
              "#bd3786"
             ],
             [
              0.5555555555555556,
              "#d8576b"
             ],
             [
              0.6666666666666666,
              "#ed7953"
             ],
             [
              0.7777777777777778,
              "#fb9f3a"
             ],
             [
              0.8888888888888888,
              "#fdca26"
             ],
             [
              1,
              "#f0f921"
             ]
            ],
            "type": "histogram2dcontour"
           }
          ],
          "mesh3d": [
           {
            "colorbar": {
             "outlinewidth": 0,
             "ticks": ""
            },
            "type": "mesh3d"
           }
          ],
          "parcoords": [
           {
            "line": {
             "colorbar": {
              "outlinewidth": 0,
              "ticks": ""
             }
            },
            "type": "parcoords"
           }
          ],
          "pie": [
           {
            "automargin": true,
            "type": "pie"
           }
          ],
          "scatter": [
           {
            "fillpattern": {
             "fillmode": "overlay",
             "size": 10,
             "solidity": 0.2
            },
            "type": "scatter"
           }
          ],
          "scatter3d": [
           {
            "line": {
             "colorbar": {
              "outlinewidth": 0,
              "ticks": ""
             }
            },
            "marker": {
             "colorbar": {
              "outlinewidth": 0,
              "ticks": ""
             }
            },
            "type": "scatter3d"
           }
          ],
          "scattercarpet": [
           {
            "marker": {
             "colorbar": {
              "outlinewidth": 0,
              "ticks": ""
             }
            },
            "type": "scattercarpet"
           }
          ],
          "scattergeo": [
           {
            "marker": {
             "colorbar": {
              "outlinewidth": 0,
              "ticks": ""
             }
            },
            "type": "scattergeo"
           }
          ],
          "scattergl": [
           {
            "marker": {
             "colorbar": {
              "outlinewidth": 0,
              "ticks": ""
             }
            },
            "type": "scattergl"
           }
          ],
          "scattermapbox": [
           {
            "marker": {
             "colorbar": {
              "outlinewidth": 0,
              "ticks": ""
             }
            },
            "type": "scattermapbox"
           }
          ],
          "scatterpolar": [
           {
            "marker": {
             "colorbar": {
              "outlinewidth": 0,
              "ticks": ""
             }
            },
            "type": "scatterpolar"
           }
          ],
          "scatterpolargl": [
           {
            "marker": {
             "colorbar": {
              "outlinewidth": 0,
              "ticks": ""
             }
            },
            "type": "scatterpolargl"
           }
          ],
          "scatterternary": [
           {
            "marker": {
             "colorbar": {
              "outlinewidth": 0,
              "ticks": ""
             }
            },
            "type": "scatterternary"
           }
          ],
          "surface": [
           {
            "colorbar": {
             "outlinewidth": 0,
             "ticks": ""
            },
            "colorscale": [
             [
              0,
              "#0d0887"
             ],
             [
              0.1111111111111111,
              "#46039f"
             ],
             [
              0.2222222222222222,
              "#7201a8"
             ],
             [
              0.3333333333333333,
              "#9c179e"
             ],
             [
              0.4444444444444444,
              "#bd3786"
             ],
             [
              0.5555555555555556,
              "#d8576b"
             ],
             [
              0.6666666666666666,
              "#ed7953"
             ],
             [
              0.7777777777777778,
              "#fb9f3a"
             ],
             [
              0.8888888888888888,
              "#fdca26"
             ],
             [
              1,
              "#f0f921"
             ]
            ],
            "type": "surface"
           }
          ],
          "table": [
           {
            "cells": {
             "fill": {
              "color": "#EBF0F8"
             },
             "line": {
              "color": "white"
             }
            },
            "header": {
             "fill": {
              "color": "#C8D4E3"
             },
             "line": {
              "color": "white"
             }
            },
            "type": "table"
           }
          ]
         },
         "layout": {
          "annotationdefaults": {
           "arrowcolor": "#2a3f5f",
           "arrowhead": 0,
           "arrowwidth": 1
          },
          "autotypenumbers": "strict",
          "coloraxis": {
           "colorbar": {
            "outlinewidth": 0,
            "ticks": ""
           }
          },
          "colorscale": {
           "diverging": [
            [
             0,
             "#8e0152"
            ],
            [
             0.1,
             "#c51b7d"
            ],
            [
             0.2,
             "#de77ae"
            ],
            [
             0.3,
             "#f1b6da"
            ],
            [
             0.4,
             "#fde0ef"
            ],
            [
             0.5,
             "#f7f7f7"
            ],
            [
             0.6,
             "#e6f5d0"
            ],
            [
             0.7,
             "#b8e186"
            ],
            [
             0.8,
             "#7fbc41"
            ],
            [
             0.9,
             "#4d9221"
            ],
            [
             1,
             "#276419"
            ]
           ],
           "sequential": [
            [
             0,
             "#0d0887"
            ],
            [
             0.1111111111111111,
             "#46039f"
            ],
            [
             0.2222222222222222,
             "#7201a8"
            ],
            [
             0.3333333333333333,
             "#9c179e"
            ],
            [
             0.4444444444444444,
             "#bd3786"
            ],
            [
             0.5555555555555556,
             "#d8576b"
            ],
            [
             0.6666666666666666,
             "#ed7953"
            ],
            [
             0.7777777777777778,
             "#fb9f3a"
            ],
            [
             0.8888888888888888,
             "#fdca26"
            ],
            [
             1,
             "#f0f921"
            ]
           ],
           "sequentialminus": [
            [
             0,
             "#0d0887"
            ],
            [
             0.1111111111111111,
             "#46039f"
            ],
            [
             0.2222222222222222,
             "#7201a8"
            ],
            [
             0.3333333333333333,
             "#9c179e"
            ],
            [
             0.4444444444444444,
             "#bd3786"
            ],
            [
             0.5555555555555556,
             "#d8576b"
            ],
            [
             0.6666666666666666,
             "#ed7953"
            ],
            [
             0.7777777777777778,
             "#fb9f3a"
            ],
            [
             0.8888888888888888,
             "#fdca26"
            ],
            [
             1,
             "#f0f921"
            ]
           ]
          },
          "colorway": [
           "#636efa",
           "#EF553B",
           "#00cc96",
           "#ab63fa",
           "#FFA15A",
           "#19d3f3",
           "#FF6692",
           "#B6E880",
           "#FF97FF",
           "#FECB52"
          ],
          "font": {
           "color": "#2a3f5f"
          },
          "geo": {
           "bgcolor": "white",
           "lakecolor": "white",
           "landcolor": "#E5ECF6",
           "showlakes": true,
           "showland": true,
           "subunitcolor": "white"
          },
          "hoverlabel": {
           "align": "left"
          },
          "hovermode": "closest",
          "mapbox": {
           "style": "light"
          },
          "paper_bgcolor": "white",
          "plot_bgcolor": "#E5ECF6",
          "polar": {
           "angularaxis": {
            "gridcolor": "white",
            "linecolor": "white",
            "ticks": ""
           },
           "bgcolor": "#E5ECF6",
           "radialaxis": {
            "gridcolor": "white",
            "linecolor": "white",
            "ticks": ""
           }
          },
          "scene": {
           "xaxis": {
            "backgroundcolor": "#E5ECF6",
            "gridcolor": "white",
            "gridwidth": 2,
            "linecolor": "white",
            "showbackground": true,
            "ticks": "",
            "zerolinecolor": "white"
           },
           "yaxis": {
            "backgroundcolor": "#E5ECF6",
            "gridcolor": "white",
            "gridwidth": 2,
            "linecolor": "white",
            "showbackground": true,
            "ticks": "",
            "zerolinecolor": "white"
           },
           "zaxis": {
            "backgroundcolor": "#E5ECF6",
            "gridcolor": "white",
            "gridwidth": 2,
            "linecolor": "white",
            "showbackground": true,
            "ticks": "",
            "zerolinecolor": "white"
           }
          },
          "shapedefaults": {
           "line": {
            "color": "#2a3f5f"
           }
          },
          "ternary": {
           "aaxis": {
            "gridcolor": "white",
            "linecolor": "white",
            "ticks": ""
           },
           "baxis": {
            "gridcolor": "white",
            "linecolor": "white",
            "ticks": ""
           },
           "bgcolor": "#E5ECF6",
           "caxis": {
            "gridcolor": "white",
            "linecolor": "white",
            "ticks": ""
           }
          },
          "title": {
           "x": 0.05
          },
          "xaxis": {
           "automargin": true,
           "gridcolor": "white",
           "linecolor": "white",
           "ticks": "",
           "title": {
            "standoff": 15
           },
           "zerolinecolor": "white",
           "zerolinewidth": 2
          },
          "yaxis": {
           "automargin": true,
           "gridcolor": "white",
           "linecolor": "white",
           "ticks": "",
           "title": {
            "standoff": 15
           },
           "zerolinecolor": "white",
           "zerolinewidth": 2
          }
         }
        },
        "title": {
         "text": "Views by post in a category"
        },
        "xaxis": {
         "anchor": "y",
         "domain": [
          0,
          1
         ],
         "title": {
          "text": "slug"
         }
        },
        "yaxis": {
         "anchor": "x",
         "domain": [
          0,
          1
         ],
         "title": {
          "text": "views_by_post"
         }
        }
       }
      }
     },
     "metadata": {},
     "output_type": "display_data"
    }
   ],
   "source": [
    "# Visualize categories popularity\n",
    "dc[[\"slug\",\"total_views\",\"post_count\", \"views_by_post\"]]\n",
    "\n",
    "dc = dc.sort_values(by=['views_by_post'], ascending=False)\n",
    "fig = px.bar(dc, title='Views by post in a category', x=\"slug\", y=\"views_by_post\")\n",
    "fig.show()"
   ]
  },
  {
   "cell_type": "code",
   "execution_count": 28,
   "metadata": {},
   "outputs": [
    {
     "data": {
      "text/html": [
       "<div>\n",
       "<style scoped>\n",
       "    .dataframe tbody tr th:only-of-type {\n",
       "        vertical-align: middle;\n",
       "    }\n",
       "\n",
       "    .dataframe tbody tr th {\n",
       "        vertical-align: top;\n",
       "    }\n",
       "\n",
       "    .dataframe thead th {\n",
       "        text-align: right;\n",
       "    }\n",
       "</style>\n",
       "<table border=\"1\" class=\"dataframe\">\n",
       "  <thead>\n",
       "    <tr style=\"text-align: right;\">\n",
       "      <th></th>\n",
       "      <th>id</th>\n",
       "      <th>link</th>\n",
       "      <th>title</th>\n",
       "      <th>views</th>\n",
       "    </tr>\n",
       "  </thead>\n",
       "  <tbody>\n",
       "    <tr>\n",
       "      <th>178</th>\n",
       "      <td>2398</td>\n",
       "      <td>https://sneakbug8.com/ru/cookies-js-storages/</td>\n",
       "      <td>{'rendered': 'Cookies, sessionStorage, localSt...</td>\n",
       "      <td>3058</td>\n",
       "    </tr>\n",
       "    <tr>\n",
       "      <th>159</th>\n",
       "      <td>2341</td>\n",
       "      <td>https://sneakbug8.com/ru/when-to-use-serif/</td>\n",
       "      <td>{'rendered': 'Когда использовать шрифт с засеч...</td>\n",
       "      <td>1570</td>\n",
       "    </tr>\n",
       "    <tr>\n",
       "      <th>75</th>\n",
       "      <td>2662</td>\n",
       "      <td>https://sneakbug8.com/ru/pmbok-7-izdanie-vyjde...</td>\n",
       "      <td>{'rendered': 'PMBOK 7: что нового?'}</td>\n",
       "      <td>1544</td>\n",
       "    </tr>\n",
       "    <tr>\n",
       "      <th>98</th>\n",
       "      <td>2559</td>\n",
       "      <td>https://sneakbug8.com/ru/na-sluchaj-esli-kto-t...</td>\n",
       "      <td>{'rendered': 'На случай если кто то всё еще не...</td>\n",
       "      <td>1320</td>\n",
       "    </tr>\n",
       "    <tr>\n",
       "      <th>169</th>\n",
       "      <td>2370</td>\n",
       "      <td>https://sneakbug8.com/ru/opencart-full-guide-s...</td>\n",
       "      <td>{'rendered': 'OpenCart руководство: Simple &amp;#8...</td>\n",
       "      <td>1268</td>\n",
       "    </tr>\n",
       "    <tr>\n",
       "      <th>173</th>\n",
       "      <td>2382</td>\n",
       "      <td>https://sneakbug8.com/ru/improve-conditionals-...</td>\n",
       "      <td>{'rendered': 'Советы по улучшению условий в Ja...</td>\n",
       "      <td>1161</td>\n",
       "    </tr>\n",
       "    <tr>\n",
       "      <th>62</th>\n",
       "      <td>3010</td>\n",
       "      <td>https://sneakbug8.com/six-project-management-c...</td>\n",
       "      <td>{'rendered': 'Six Project Management Constrain...</td>\n",
       "      <td>936</td>\n",
       "    </tr>\n",
       "    <tr>\n",
       "      <th>208</th>\n",
       "      <td>1401</td>\n",
       "      <td>https://sneakbug8.com/ru/unity-plavnoe-peremes...</td>\n",
       "      <td>{'rendered': 'Unity | Плавное перемещение каме...</td>\n",
       "      <td>930</td>\n",
       "    </tr>\n",
       "    <tr>\n",
       "      <th>76</th>\n",
       "      <td>2644</td>\n",
       "      <td>https://sneakbug8.com/ru/open-source-instrumen...</td>\n",
       "      <td>{'rendered': 'Open Source инструменты для упра...</td>\n",
       "      <td>904</td>\n",
       "    </tr>\n",
       "    <tr>\n",
       "      <th>281</th>\n",
       "      <td>563</td>\n",
       "      <td>https://sneakbug8.com/ru/rukovodstvo-po-unitys...</td>\n",
       "      <td>{'rendered': 'Руководство по UnityScript'}</td>\n",
       "      <td>871</td>\n",
       "    </tr>\n",
       "  </tbody>\n",
       "</table>\n",
       "</div>"
      ],
      "text/plain": [
       "       id                                               link  \\\n",
       "178  2398      https://sneakbug8.com/ru/cookies-js-storages/   \n",
       "159  2341        https://sneakbug8.com/ru/when-to-use-serif/   \n",
       "75   2662  https://sneakbug8.com/ru/pmbok-7-izdanie-vyjde...   \n",
       "98   2559  https://sneakbug8.com/ru/na-sluchaj-esli-kto-t...   \n",
       "169  2370  https://sneakbug8.com/ru/opencart-full-guide-s...   \n",
       "173  2382  https://sneakbug8.com/ru/improve-conditionals-...   \n",
       "62   3010  https://sneakbug8.com/six-project-management-c...   \n",
       "208  1401  https://sneakbug8.com/ru/unity-plavnoe-peremes...   \n",
       "76   2644  https://sneakbug8.com/ru/open-source-instrumen...   \n",
       "281   563  https://sneakbug8.com/ru/rukovodstvo-po-unitys...   \n",
       "\n",
       "                                                 title  views  \n",
       "178  {'rendered': 'Cookies, sessionStorage, localSt...   3058  \n",
       "159  {'rendered': 'Когда использовать шрифт с засеч...   1570  \n",
       "75                {'rendered': 'PMBOK 7: что нового?'}   1544  \n",
       "98   {'rendered': 'На случай если кто то всё еще не...   1320  \n",
       "169  {'rendered': 'OpenCart руководство: Simple &#8...   1268  \n",
       "173  {'rendered': 'Советы по улучшению условий в Ja...   1161  \n",
       "62   {'rendered': 'Six Project Management Constrain...    936  \n",
       "208  {'rendered': 'Unity | Плавное перемещение каме...    930  \n",
       "76   {'rendered': 'Open Source инструменты для упра...    904  \n",
       "281         {'rendered': 'Руководство по UnityScript'}    871  "
      ]
     },
     "execution_count": 28,
     "metadata": {},
     "output_type": "execute_result"
    }
   ],
   "source": [
    "# View top 10 by views\n",
    "\n",
    "dt = df.sort_values(by=['views'], ascending=False)\n",
    "dt.head(10)"
   ]
  },
  {
   "cell_type": "code",
   "execution_count": 31,
   "metadata": {},
   "outputs": [
    {
     "data": {
      "application/vnd.plotly.v1+json": {
       "config": {
        "plotlyServerURL": "https://plot.ly"
       },
       "data": [
        {
         "hovertemplate": "date=%{x}<br>views=%{y}<extra></extra>",
         "legendgroup": "",
         "marker": {
          "color": "#636efa",
          "symbol": "circle"
         },
         "mode": "markers",
         "name": "",
         "orientation": "v",
         "showlegend": false,
         "type": "scatter",
         "x": [
          "2024-01-26T17:14:09",
          "2024-01-25T12:49:37",
          "2023-12-26T22:52:50",
          "2023-11-19T23:06:25",
          "2023-10-19T10:51:58",
          "2023-10-09T14:18:53",
          "2023-10-09T13:17:45",
          "2023-09-04T16:05:00",
          "2023-08-29T14:22:14",
          "2023-07-22T13:17:37",
          "2023-06-29T12:16:27",
          "2023-06-29T12:09:28",
          "2023-06-01T13:42:52",
          "2023-05-19T10:00:29",
          "2023-05-01T09:30:52",
          "2023-04-24T09:00:00",
          "2023-04-10T09:46:36",
          "2023-03-27T09:00:49",
          "2023-03-13T09:30:08",
          "2023-03-06T01:31:25",
          "2023-02-20T10:02:17",
          "2023-02-12T09:00:58",
          "2023-02-06T09:44:23",
          "2023-01-30T18:44:16",
          "2023-01-16T18:30:09",
          "2023-01-09T18:00:04",
          "2023-01-02T16:00:21",
          "2022-12-26T16:30:23",
          "2022-12-12T15:30:20",
          "2022-12-05T18:30:27",
          "2022-11-21T18:30:49",
          "2022-11-14T18:30:02",
          "2022-11-07T09:30:59",
          "2022-10-25T16:55:39",
          "2022-10-24T18:00:04",
          "2022-10-10T19:00:33",
          "2022-09-19T18:05:36",
          "2022-08-29T09:30:09",
          "2022-08-22T10:30:14",
          "2022-08-15T18:02:43",
          "2022-07-25T18:30:53",
          "2022-07-18T18:41:38",
          "2022-07-10T18:15:27",
          "2022-07-04T18:49:24",
          "2022-06-27T19:00:50",
          "2022-06-20T09:30:08",
          "2022-06-13T15:01:28",
          "2022-06-06T01:34:12",
          "2022-05-29T16:16:56",
          "2022-05-09T13:51:20",
          "2022-05-01T17:14:36",
          "2022-04-24T13:29:34",
          "2022-04-16T16:49:20",
          "2022-04-07T18:29:58",
          "2022-04-03T12:47:08",
          "2022-03-27T18:25:24",
          "2022-03-20T21:55:24",
          "2022-03-13T23:12:22",
          "2022-03-05T20:00:30",
          "2022-02-27T15:27:06",
          "2022-02-20T15:21:57",
          "2022-02-19T22:16:27",
          "2022-02-13T13:38:54",
          "2022-02-05T14:16:47",
          "2022-01-29T17:06:08",
          "2022-01-22T12:45:46",
          "2021-12-25T14:50:36",
          "2021-12-11T14:44:15",
          "2021-12-04T18:33:27",
          "2021-11-27T14:45:21",
          "2021-07-31T15:00:13",
          "2021-06-01T11:37:08",
          "2021-05-27T00:51:39",
          "2021-05-16T01:35:37",
          "2021-05-08T18:58:10",
          "2021-05-07T19:51:24",
          "2021-05-06T20:40:35",
          "2021-05-01T20:13:42",
          "2021-04-25T01:37:34",
          "2021-04-24T22:26:07",
          "2021-04-18T15:54:14",
          "2021-01-05T19:40:57",
          "2021-01-04T16:23:26",
          "2021-01-03T18:23:57",
          "2021-01-02T15:17:32",
          "2020-12-28T17:08:06",
          "2020-12-27T16:38:36",
          "2020-12-27T16:30:06",
          "2020-12-27T16:29:01",
          "2020-10-02T23:50:55",
          "2020-10-02T10:46:53",
          "2020-09-28T12:49:05",
          "2020-09-17T18:41:55",
          "2020-09-17T18:27:48",
          "2020-09-17T18:22:51",
          "2020-09-17T18:15:16",
          "2020-09-16T00:54:36",
          "2020-09-13T22:15:54",
          "2020-09-13T01:27:47",
          "2020-09-13T01:21:00",
          "2020-09-12T01:03:04",
          "2020-09-11T22:19:39",
          "2020-09-10T21:19:07",
          "2020-09-10T03:37:06",
          "2020-09-10T01:27:26",
          "2020-09-10T01:11:25",
          "2020-09-09T23:14:40",
          "2020-09-09T23:12:15",
          "2020-09-09T19:41:10",
          "2020-09-09T19:33:41",
          "2020-09-07T19:27:47",
          "2020-08-01T14:25:07",
          "2020-08-01T13:54:58",
          "2020-08-01T13:30:10",
          "2020-08-01T13:14:25",
          "2020-07-28T20:01:06",
          "2020-07-23T13:22:28",
          "2020-07-19T14:12:52",
          "2020-07-10T22:25:49",
          "2020-06-30T16:58:37",
          "2020-06-26T12:45:57",
          "2020-06-02T14:45:53",
          "2020-05-31T20:55:34",
          "2020-05-26T15:53:40",
          "2020-05-12T14:27:43",
          "2020-04-30T19:16:55",
          "2020-03-31T16:06:28",
          "2020-01-10T18:57:39",
          "2020-01-10T17:56:15",
          "2020-01-10T16:03:30",
          "2020-01-10T15:45:55",
          "2020-01-04T18:52:36",
          "2019-12-27T15:51:27",
          "2019-12-24T20:10:11",
          "2019-12-23T12:53:26",
          "2019-12-22T17:50:55",
          "2019-12-17T00:53:44",
          "2019-12-10T20:46:55",
          "2019-12-09T20:43:05",
          "2019-12-08T20:35:29",
          "2019-12-07T20:38:58",
          "2019-12-06T20:14:32",
          "2019-12-03T16:11:58",
          "2019-11-27T11:49:02",
          "2019-11-26T12:01:27",
          "2019-11-25T11:58:01",
          "2019-11-14T11:56:51",
          "2019-11-12T11:56:22",
          "2019-11-10T12:00:41",
          "2019-11-10T11:55:51",
          "2019-11-04T11:57:29",
          "2019-11-03T11:51:34",
          "2019-11-02T23:05:43",
          "2019-10-31T22:54:37",
          "2019-10-27T13:10:03",
          "2019-10-23T11:50:44",
          "2019-10-21T11:49:37",
          "2019-10-19T13:15:02",
          "2019-10-19T13:12:20",
          "2019-08-26T13:16:11",
          "2019-07-24T13:18:49",
          "2019-07-24T13:17:19",
          "2019-07-23T13:21:30",
          "2019-07-23T13:20:29",
          "2019-07-17T13:22:50",
          "2019-07-14T13:24:22",
          "2019-07-06T13:28:37",
          "2019-07-06T13:27:20",
          "2019-07-06T13:25:39",
          "2019-07-03T13:30:24",
          "2019-07-02T13:35:24",
          "2019-07-02T13:33:38",
          "2019-07-02T12:36:50",
          "2019-06-25T13:38:02",
          "2019-06-25T12:39:32",
          "2019-06-24T13:41:43",
          "2019-06-24T12:43:02",
          "2019-06-15T13:46:05",
          "2019-06-12T13:47:54",
          "2019-06-08T13:48:51",
          "2019-06-07T13:50:50",
          "2019-06-03T13:53:47",
          "2019-06-01T13:52:24",
          "2019-06-01T00:38:55",
          "2019-05-31T00:37:59",
          "2019-05-31T00:36:14",
          "2019-05-31T00:35:18",
          "2019-05-30T23:53:26",
          "2019-02-04T17:17:52",
          "2019-02-02T17:26:33",
          "2019-01-26T15:03:32",
          "2019-01-20T17:09:21",
          "2019-01-19T15:24:07",
          "2019-01-07T17:04:36",
          "2018-08-22T17:17:23",
          "2018-08-08T01:37:57",
          "2018-07-20T01:43:20",
          "2018-04-14T21:24:10",
          "2018-04-10T01:32:12",
          "2018-02-24T17:01:22",
          "2018-02-14T20:00:42",
          "2018-02-14T12:07:43",
          "2018-02-13T23:53:26",
          "2018-02-10T12:56:29",
          "2018-02-05T15:34:57",
          "2018-01-31T17:01:03",
          "2018-01-29T15:44:47",
          "2017-11-25T15:58:57",
          "2017-09-29T19:44:56",
          "2017-09-29T19:43:03",
          "2017-09-26T17:18:56",
          "2017-09-26T17:17:42",
          "2017-09-25T20:26:35",
          "2017-09-25T20:24:28",
          "2017-08-29T20:08:00",
          "2017-08-18T22:21:38",
          "2017-08-04T00:24:36",
          "2017-07-15T14:19:40",
          "2017-07-12T18:58:28",
          "2017-07-05T20:07:48",
          "2017-06-29T16:10:40",
          "2017-06-23T14:57:36",
          "2017-06-11T20:51:44",
          "2017-06-11T15:01:47",
          "2017-05-25T19:40:30",
          "2017-05-21T00:35:47",
          "2017-05-19T13:03:59",
          "2017-05-13T12:17:30",
          "2017-05-01T12:09:38",
          "2017-04-28T18:20:55",
          "2017-04-28T17:09:00",
          "2017-04-28T16:47:24",
          "2017-04-27T18:09:31",
          "2017-04-27T13:12:23",
          "2017-04-26T16:54:05",
          "2017-04-26T16:52:12",
          "2017-04-26T16:44:38",
          "2017-04-25T18:49:06",
          "2017-04-25T16:07:50",
          "2017-04-24T16:09:51",
          "2017-04-24T00:01:18",
          "2017-04-23T17:21:09",
          "2017-04-22T17:29:22",
          "2017-04-22T16:51:29",
          "2017-04-21T17:06:37",
          "2017-04-19T15:32:19",
          "2017-04-19T15:17:21",
          "2017-04-17T12:54:11",
          "2017-04-16T16:16:40",
          "2017-04-16T14:33:22",
          "2017-04-16T13:55:35",
          "2017-04-16T12:28:12",
          "2017-04-11T19:41:04",
          "2017-03-31T19:26:00",
          "2017-03-30T18:13:04",
          "2017-03-28T17:50:04",
          "2017-03-28T16:19:04",
          "2017-03-28T03:00:00",
          "2017-03-27T19:26:00",
          "2017-03-09T21:06:45",
          "2017-03-09T20:50:38",
          "2017-03-09T20:06:45",
          "2017-03-08T23:42:33",
          "2017-03-08T23:07:11",
          "2017-03-08T22:02:13",
          "2017-02-25T20:42:15",
          "2017-02-17T23:13:50",
          "2017-02-17T21:24:46",
          "2017-02-17T15:12:57",
          "2017-02-13T02:09:50",
          "2017-02-12T23:06:52",
          "2017-02-12T22:42:03",
          "2017-02-12T21:26:03",
          "2017-02-12T21:25:30",
          "2017-02-11T13:12:20",
          "2017-02-03T20:40:57",
          "2017-02-03T15:38:32",
          "2017-01-28T20:30:27",
          "2017-01-26T20:28:57",
          "2017-01-26T03:00:00",
          "2017-01-25T20:27:26",
          "2017-01-25T20:26:51",
          "2017-01-25T20:25:32",
          "2017-01-25T20:23:47",
          "2017-01-25T20:22:54",
          "2017-01-24T20:21:12",
          "2017-01-24T20:19:53",
          "2017-01-24T19:32:11",
          "2017-01-23T20:20:22",
          "2017-01-23T20:18:57",
          "2017-01-03T20:13:38",
          "2017-01-03T20:11:55",
          "2017-01-02T20:09:21",
          "2016-12-24T19:35:54",
          "2016-09-24T19:39:08",
          "2016-08-09T20:08:34",
          "2016-08-08T20:06:54",
          "2016-06-20T19:25:07",
          "2016-06-15T19:46:18",
          "2016-06-15T19:45:22",
          "2016-06-02T20:05:45",
          "2016-06-02T20:03:43",
          "2016-06-02T19:22:16",
          "2016-05-24T19:43:05",
          "2016-05-20T19:29:16",
          "2016-05-15T19:47:47",
          "2016-04-22T17:24:48",
          "2016-01-24T19:41:04"
         ],
         "xaxis": "x",
         "y": [
          6,
          3,
          58,
          63,
          101,
          51,
          129,
          135,
          142,
          189,
          182,
          113,
          211,
          195,
          195,
          194,
          373,
          232,
          221,
          245,
          188,
          248,
          245,
          647,
          352,
          278,
          312,
          281,
          257,
          290,
          248,
          318,
          324,
          478,
          418,
          282,
          295,
          306,
          209,
          329,
          245,
          305,
          320,
          414,
          321,
          649,
          258,
          349,
          346,
          512,
          360,
          361,
          437,
          443,
          382,
          628,
          316,
          478,
          535,
          441,
          424,
          412,
          936,
          620,
          667,
          490,
          632,
          489,
          427,
          627,
          479,
          423,
          0,
          845,
          742,
          1544,
          904,
          502,
          503,
          572,
          560,
          426,
          404,
          486,
          440,
          391,
          236,
          253,
          255,
          244,
          270,
          254,
          295,
          286,
          573,
          326,
          272,
          272,
          1320,
          226,
          211,
          248,
          234,
          221,
          244,
          195,
          183,
          190,
          201,
          245,
          0,
          312,
          454,
          319,
          514,
          312,
          343,
          234,
          275,
          0,
          0,
          432,
          306,
          0,
          228,
          0,
          0,
          224,
          245,
          297,
          236,
          273,
          0,
          0,
          0,
          0,
          0,
          489,
          250,
          227,
          373,
          254,
          0,
          0,
          0,
          0,
          0,
          0,
          0,
          0,
          0,
          0,
          187,
          186,
          278,
          0,
          0,
          346,
          312,
          1570,
          356,
          477,
          369,
          276,
          519,
          291,
          403,
          445,
          440,
          1268,
          564,
          402,
          556,
          1161,
          287,
          495,
          343,
          363,
          3058,
          385,
          769,
          413,
          323,
          230,
          185,
          273,
          190,
          231,
          531,
          278,
          242,
          212,
          237,
          268,
          222,
          239,
          241,
          348,
          280,
          433,
          339,
          423,
          233,
          218,
          257,
          317,
          223,
          220,
          930,
          254,
          284,
          508,
          227,
          299,
          245,
          199,
          307,
          201,
          214,
          547,
          250,
          269,
          336,
          337,
          298,
          225,
          246,
          408,
          240,
          304,
          309,
          232,
          402,
          264,
          250,
          279,
          245,
          399,
          409,
          441,
          225,
          315,
          323,
          249,
          226,
          251,
          384,
          208,
          212,
          254,
          258,
          207,
          426,
          263,
          240,
          239,
          230,
          237,
          211,
          247,
          214,
          239,
          243,
          230,
          233,
          293,
          236,
          230,
          238,
          293,
          212,
          216,
          296,
          225,
          230,
          337,
          221,
          172,
          201,
          341,
          858,
          871,
          598,
          189,
          191,
          187,
          172,
          204,
          290,
          212,
          184,
          316,
          269,
          254,
          246,
          269,
          198,
          321,
          211,
          250,
          187,
          178,
          239,
          308,
          246,
          263,
          202,
          252
         ],
         "yaxis": "y"
        }
       ],
       "layout": {
        "legend": {
         "tracegroupgap": 0
        },
        "template": {
         "data": {
          "bar": [
           {
            "error_x": {
             "color": "#2a3f5f"
            },
            "error_y": {
             "color": "#2a3f5f"
            },
            "marker": {
             "line": {
              "color": "#E5ECF6",
              "width": 0.5
             },
             "pattern": {
              "fillmode": "overlay",
              "size": 10,
              "solidity": 0.2
             }
            },
            "type": "bar"
           }
          ],
          "barpolar": [
           {
            "marker": {
             "line": {
              "color": "#E5ECF6",
              "width": 0.5
             },
             "pattern": {
              "fillmode": "overlay",
              "size": 10,
              "solidity": 0.2
             }
            },
            "type": "barpolar"
           }
          ],
          "carpet": [
           {
            "aaxis": {
             "endlinecolor": "#2a3f5f",
             "gridcolor": "white",
             "linecolor": "white",
             "minorgridcolor": "white",
             "startlinecolor": "#2a3f5f"
            },
            "baxis": {
             "endlinecolor": "#2a3f5f",
             "gridcolor": "white",
             "linecolor": "white",
             "minorgridcolor": "white",
             "startlinecolor": "#2a3f5f"
            },
            "type": "carpet"
           }
          ],
          "choropleth": [
           {
            "colorbar": {
             "outlinewidth": 0,
             "ticks": ""
            },
            "type": "choropleth"
           }
          ],
          "contour": [
           {
            "colorbar": {
             "outlinewidth": 0,
             "ticks": ""
            },
            "colorscale": [
             [
              0,
              "#0d0887"
             ],
             [
              0.1111111111111111,
              "#46039f"
             ],
             [
              0.2222222222222222,
              "#7201a8"
             ],
             [
              0.3333333333333333,
              "#9c179e"
             ],
             [
              0.4444444444444444,
              "#bd3786"
             ],
             [
              0.5555555555555556,
              "#d8576b"
             ],
             [
              0.6666666666666666,
              "#ed7953"
             ],
             [
              0.7777777777777778,
              "#fb9f3a"
             ],
             [
              0.8888888888888888,
              "#fdca26"
             ],
             [
              1,
              "#f0f921"
             ]
            ],
            "type": "contour"
           }
          ],
          "contourcarpet": [
           {
            "colorbar": {
             "outlinewidth": 0,
             "ticks": ""
            },
            "type": "contourcarpet"
           }
          ],
          "heatmap": [
           {
            "colorbar": {
             "outlinewidth": 0,
             "ticks": ""
            },
            "colorscale": [
             [
              0,
              "#0d0887"
             ],
             [
              0.1111111111111111,
              "#46039f"
             ],
             [
              0.2222222222222222,
              "#7201a8"
             ],
             [
              0.3333333333333333,
              "#9c179e"
             ],
             [
              0.4444444444444444,
              "#bd3786"
             ],
             [
              0.5555555555555556,
              "#d8576b"
             ],
             [
              0.6666666666666666,
              "#ed7953"
             ],
             [
              0.7777777777777778,
              "#fb9f3a"
             ],
             [
              0.8888888888888888,
              "#fdca26"
             ],
             [
              1,
              "#f0f921"
             ]
            ],
            "type": "heatmap"
           }
          ],
          "heatmapgl": [
           {
            "colorbar": {
             "outlinewidth": 0,
             "ticks": ""
            },
            "colorscale": [
             [
              0,
              "#0d0887"
             ],
             [
              0.1111111111111111,
              "#46039f"
             ],
             [
              0.2222222222222222,
              "#7201a8"
             ],
             [
              0.3333333333333333,
              "#9c179e"
             ],
             [
              0.4444444444444444,
              "#bd3786"
             ],
             [
              0.5555555555555556,
              "#d8576b"
             ],
             [
              0.6666666666666666,
              "#ed7953"
             ],
             [
              0.7777777777777778,
              "#fb9f3a"
             ],
             [
              0.8888888888888888,
              "#fdca26"
             ],
             [
              1,
              "#f0f921"
             ]
            ],
            "type": "heatmapgl"
           }
          ],
          "histogram": [
           {
            "marker": {
             "pattern": {
              "fillmode": "overlay",
              "size": 10,
              "solidity": 0.2
             }
            },
            "type": "histogram"
           }
          ],
          "histogram2d": [
           {
            "colorbar": {
             "outlinewidth": 0,
             "ticks": ""
            },
            "colorscale": [
             [
              0,
              "#0d0887"
             ],
             [
              0.1111111111111111,
              "#46039f"
             ],
             [
              0.2222222222222222,
              "#7201a8"
             ],
             [
              0.3333333333333333,
              "#9c179e"
             ],
             [
              0.4444444444444444,
              "#bd3786"
             ],
             [
              0.5555555555555556,
              "#d8576b"
             ],
             [
              0.6666666666666666,
              "#ed7953"
             ],
             [
              0.7777777777777778,
              "#fb9f3a"
             ],
             [
              0.8888888888888888,
              "#fdca26"
             ],
             [
              1,
              "#f0f921"
             ]
            ],
            "type": "histogram2d"
           }
          ],
          "histogram2dcontour": [
           {
            "colorbar": {
             "outlinewidth": 0,
             "ticks": ""
            },
            "colorscale": [
             [
              0,
              "#0d0887"
             ],
             [
              0.1111111111111111,
              "#46039f"
             ],
             [
              0.2222222222222222,
              "#7201a8"
             ],
             [
              0.3333333333333333,
              "#9c179e"
             ],
             [
              0.4444444444444444,
              "#bd3786"
             ],
             [
              0.5555555555555556,
              "#d8576b"
             ],
             [
              0.6666666666666666,
              "#ed7953"
             ],
             [
              0.7777777777777778,
              "#fb9f3a"
             ],
             [
              0.8888888888888888,
              "#fdca26"
             ],
             [
              1,
              "#f0f921"
             ]
            ],
            "type": "histogram2dcontour"
           }
          ],
          "mesh3d": [
           {
            "colorbar": {
             "outlinewidth": 0,
             "ticks": ""
            },
            "type": "mesh3d"
           }
          ],
          "parcoords": [
           {
            "line": {
             "colorbar": {
              "outlinewidth": 0,
              "ticks": ""
             }
            },
            "type": "parcoords"
           }
          ],
          "pie": [
           {
            "automargin": true,
            "type": "pie"
           }
          ],
          "scatter": [
           {
            "fillpattern": {
             "fillmode": "overlay",
             "size": 10,
             "solidity": 0.2
            },
            "type": "scatter"
           }
          ],
          "scatter3d": [
           {
            "line": {
             "colorbar": {
              "outlinewidth": 0,
              "ticks": ""
             }
            },
            "marker": {
             "colorbar": {
              "outlinewidth": 0,
              "ticks": ""
             }
            },
            "type": "scatter3d"
           }
          ],
          "scattercarpet": [
           {
            "marker": {
             "colorbar": {
              "outlinewidth": 0,
              "ticks": ""
             }
            },
            "type": "scattercarpet"
           }
          ],
          "scattergeo": [
           {
            "marker": {
             "colorbar": {
              "outlinewidth": 0,
              "ticks": ""
             }
            },
            "type": "scattergeo"
           }
          ],
          "scattergl": [
           {
            "marker": {
             "colorbar": {
              "outlinewidth": 0,
              "ticks": ""
             }
            },
            "type": "scattergl"
           }
          ],
          "scattermapbox": [
           {
            "marker": {
             "colorbar": {
              "outlinewidth": 0,
              "ticks": ""
             }
            },
            "type": "scattermapbox"
           }
          ],
          "scatterpolar": [
           {
            "marker": {
             "colorbar": {
              "outlinewidth": 0,
              "ticks": ""
             }
            },
            "type": "scatterpolar"
           }
          ],
          "scatterpolargl": [
           {
            "marker": {
             "colorbar": {
              "outlinewidth": 0,
              "ticks": ""
             }
            },
            "type": "scatterpolargl"
           }
          ],
          "scatterternary": [
           {
            "marker": {
             "colorbar": {
              "outlinewidth": 0,
              "ticks": ""
             }
            },
            "type": "scatterternary"
           }
          ],
          "surface": [
           {
            "colorbar": {
             "outlinewidth": 0,
             "ticks": ""
            },
            "colorscale": [
             [
              0,
              "#0d0887"
             ],
             [
              0.1111111111111111,
              "#46039f"
             ],
             [
              0.2222222222222222,
              "#7201a8"
             ],
             [
              0.3333333333333333,
              "#9c179e"
             ],
             [
              0.4444444444444444,
              "#bd3786"
             ],
             [
              0.5555555555555556,
              "#d8576b"
             ],
             [
              0.6666666666666666,
              "#ed7953"
             ],
             [
              0.7777777777777778,
              "#fb9f3a"
             ],
             [
              0.8888888888888888,
              "#fdca26"
             ],
             [
              1,
              "#f0f921"
             ]
            ],
            "type": "surface"
           }
          ],
          "table": [
           {
            "cells": {
             "fill": {
              "color": "#EBF0F8"
             },
             "line": {
              "color": "white"
             }
            },
            "header": {
             "fill": {
              "color": "#C8D4E3"
             },
             "line": {
              "color": "white"
             }
            },
            "type": "table"
           }
          ]
         },
         "layout": {
          "annotationdefaults": {
           "arrowcolor": "#2a3f5f",
           "arrowhead": 0,
           "arrowwidth": 1
          },
          "autotypenumbers": "strict",
          "coloraxis": {
           "colorbar": {
            "outlinewidth": 0,
            "ticks": ""
           }
          },
          "colorscale": {
           "diverging": [
            [
             0,
             "#8e0152"
            ],
            [
             0.1,
             "#c51b7d"
            ],
            [
             0.2,
             "#de77ae"
            ],
            [
             0.3,
             "#f1b6da"
            ],
            [
             0.4,
             "#fde0ef"
            ],
            [
             0.5,
             "#f7f7f7"
            ],
            [
             0.6,
             "#e6f5d0"
            ],
            [
             0.7,
             "#b8e186"
            ],
            [
             0.8,
             "#7fbc41"
            ],
            [
             0.9,
             "#4d9221"
            ],
            [
             1,
             "#276419"
            ]
           ],
           "sequential": [
            [
             0,
             "#0d0887"
            ],
            [
             0.1111111111111111,
             "#46039f"
            ],
            [
             0.2222222222222222,
             "#7201a8"
            ],
            [
             0.3333333333333333,
             "#9c179e"
            ],
            [
             0.4444444444444444,
             "#bd3786"
            ],
            [
             0.5555555555555556,
             "#d8576b"
            ],
            [
             0.6666666666666666,
             "#ed7953"
            ],
            [
             0.7777777777777778,
             "#fb9f3a"
            ],
            [
             0.8888888888888888,
             "#fdca26"
            ],
            [
             1,
             "#f0f921"
            ]
           ],
           "sequentialminus": [
            [
             0,
             "#0d0887"
            ],
            [
             0.1111111111111111,
             "#46039f"
            ],
            [
             0.2222222222222222,
             "#7201a8"
            ],
            [
             0.3333333333333333,
             "#9c179e"
            ],
            [
             0.4444444444444444,
             "#bd3786"
            ],
            [
             0.5555555555555556,
             "#d8576b"
            ],
            [
             0.6666666666666666,
             "#ed7953"
            ],
            [
             0.7777777777777778,
             "#fb9f3a"
            ],
            [
             0.8888888888888888,
             "#fdca26"
            ],
            [
             1,
             "#f0f921"
            ]
           ]
          },
          "colorway": [
           "#636efa",
           "#EF553B",
           "#00cc96",
           "#ab63fa",
           "#FFA15A",
           "#19d3f3",
           "#FF6692",
           "#B6E880",
           "#FF97FF",
           "#FECB52"
          ],
          "font": {
           "color": "#2a3f5f"
          },
          "geo": {
           "bgcolor": "white",
           "lakecolor": "white",
           "landcolor": "#E5ECF6",
           "showlakes": true,
           "showland": true,
           "subunitcolor": "white"
          },
          "hoverlabel": {
           "align": "left"
          },
          "hovermode": "closest",
          "mapbox": {
           "style": "light"
          },
          "paper_bgcolor": "white",
          "plot_bgcolor": "#E5ECF6",
          "polar": {
           "angularaxis": {
            "gridcolor": "white",
            "linecolor": "white",
            "ticks": ""
           },
           "bgcolor": "#E5ECF6",
           "radialaxis": {
            "gridcolor": "white",
            "linecolor": "white",
            "ticks": ""
           }
          },
          "scene": {
           "xaxis": {
            "backgroundcolor": "#E5ECF6",
            "gridcolor": "white",
            "gridwidth": 2,
            "linecolor": "white",
            "showbackground": true,
            "ticks": "",
            "zerolinecolor": "white"
           },
           "yaxis": {
            "backgroundcolor": "#E5ECF6",
            "gridcolor": "white",
            "gridwidth": 2,
            "linecolor": "white",
            "showbackground": true,
            "ticks": "",
            "zerolinecolor": "white"
           },
           "zaxis": {
            "backgroundcolor": "#E5ECF6",
            "gridcolor": "white",
            "gridwidth": 2,
            "linecolor": "white",
            "showbackground": true,
            "ticks": "",
            "zerolinecolor": "white"
           }
          },
          "shapedefaults": {
           "line": {
            "color": "#2a3f5f"
           }
          },
          "ternary": {
           "aaxis": {
            "gridcolor": "white",
            "linecolor": "white",
            "ticks": ""
           },
           "baxis": {
            "gridcolor": "white",
            "linecolor": "white",
            "ticks": ""
           },
           "bgcolor": "#E5ECF6",
           "caxis": {
            "gridcolor": "white",
            "linecolor": "white",
            "ticks": ""
           }
          },
          "title": {
           "x": 0.05
          },
          "xaxis": {
           "automargin": true,
           "gridcolor": "white",
           "linecolor": "white",
           "ticks": "",
           "title": {
            "standoff": 15
           },
           "zerolinecolor": "white",
           "zerolinewidth": 2
          },
          "yaxis": {
           "automargin": true,
           "gridcolor": "white",
           "linecolor": "white",
           "ticks": "",
           "title": {
            "standoff": 15
           },
           "zerolinecolor": "white",
           "zerolinewidth": 2
          }
         }
        },
        "title": {
         "text": "Posts views trend"
        },
        "xaxis": {
         "anchor": "y",
         "domain": [
          0,
          1
         ],
         "title": {
          "text": "date"
         }
        },
        "yaxis": {
         "anchor": "x",
         "domain": [
          0,
          1
         ],
         "title": {
          "text": "views"
         }
        }
       }
      }
     },
     "metadata": {},
     "output_type": "display_data"
    }
   ],
   "source": [
    "dt = df.sort_values(by=['date'], ascending=False)\n",
    "fig = px.scatter(dt, title='Posts views trend', x=\"date\", y=\"views\")\n",
    "fig.show()"
   ]
  }
 ],
 "metadata": {
  "kernelspec": {
   "display_name": "base",
   "language": "python",
   "name": "python3"
  },
  "language_info": {
   "codemirror_mode": {
    "name": "ipython",
    "version": 3
   },
   "file_extension": ".py",
   "mimetype": "text/x-python",
   "name": "python",
   "nbconvert_exporter": "python",
   "pygments_lexer": "ipython3",
   "version": "3.12.1"
  },
  "orig_nbformat": 4,
  "vscode": {
   "interpreter": {
    "hash": "ad2bdc8ecc057115af97d19610ffacc2b4e99fae6737bb82f5d7fb13d2f2c186"
   }
  }
 },
 "nbformat": 4,
 "nbformat_minor": 2
}
